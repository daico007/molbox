{
 "cells": [
  {
   "cell_type": "markdown",
   "metadata": {},
   "source": [
    "Ethane: Reading from files, Ports and coordinate transforms\n",
    "===========================================================\n",
    "\n",
    "In this example, we'll cover reading molecular components from files,\n",
    "introduce the concept of `Ports` and start using some coordinate\n",
    "transforms.\n",
    "\n",
    "As you probably noticed while creating your methane mocule in the last\n",
    "tutorial, manually adding `Atoms` and `Bonds` to a `Compound` is a bit\n",
    "cumbersome. The easiest way to create small, reusable components, such\n",
    "as methyls, amines or monomers, is to hand draw them using software like\n",
    "[Avogadro](http://avogadro.cc/wiki/Main_Page) and export them as either\n",
    "a .pdb or .mol2 file (the file should contain connectivity information).\n",
    "\n",
    "Let's start by reading a methyl group from a `.pdb` file:"
   ]
  },
  {
   "cell_type": "code",
   "execution_count": null,
   "metadata": {},
   "outputs": [],
   "source": [
    "import mbuild as mb\n",
    "\n",
    "class CH3(mb.Compound):\n",
    "    def __init__(self):\n",
    "        super(CH3, self).__init__(self)\n",
    "\n",
    "        mb.load('ch3.pdb', compound=self)"
   ]
  },
  {
   "cell_type": "markdown",
   "metadata": {},
   "source": [
    "Now let's use our first coordinate transform to center the methyl at its\n",
    "carbon atom:"
   ]
  },
  {
   "cell_type": "code",
   "execution_count": null,
   "metadata": {},
   "outputs": [],
   "source": [
    "import mbuild as mb\n",
    "\n",
    "class CH3(mb.Compound):\n",
    "    def __init__(self):\n",
    "        super(CH3, self).__init__()\n",
    "\n",
    "        mb.load('ch3.pdb', compound=self)\n",
    "        mb.translate(self, -self.C[0])  # Move carbon to origin."
   ]
  },
  {
   "cell_type": "markdown",
   "metadata": {},
   "source": [
    "Here, when referring to the `Atom` object in a mathematical expression,\n",
    "we operate directly on its coordinates. This functionality is currently\n",
    "implemented for addition and subtraction only.\n",
    "\n",
    "So now we have a methyl group loaded up and centered. In order to\n",
    "connect `Compounds` in mBuild, we make use of a special type of\n",
    "`Compound`: the `Port`. A `Port` is a `Compound` with two sets of four\n",
    "\"ghost\" `Atoms` (of kind `'G'` by convention). In addition `Ports` have\n",
    "an `anchor` attribute which typically points to an `Atom` that the\n",
    "`Port` should be associated with. In our methyl group, the `Port` should\n",
    "be anchored to the carbon atom so that we can now form `Bonds` to this\n",
    "carbon:"
   ]
  },
  {
   "cell_type": "code",
   "execution_count": null,
   "metadata": {},
   "outputs": [],
   "source": [
    "import mbuild as mb\n",
    "\n",
    "class CH3(mb.Compound):\n",
    "    def __init__(self):\n",
    "        super(CH3, self).__init__()\n",
    "\n",
    "        mb.load('ch3.pdb', compound=self)\n",
    "        mb.translate(self, -self.C[0])  # Move carbon to origin.\n",
    "\n",
    "        port = mb.Port(anchor=self.C[0])\n",
    "        self.add(port, label='up')\n",
    "        mb.translate(self.up, [0, -0.07, 0])"
   ]
  },
  {
   "cell_type": "markdown",
   "metadata": {},
   "source": [
    "By default, `Ports` are never output from the mBuild structure. However,\n",
    "it can be useful to look at a molecule with the `Ports` to check your\n",
    "work as you go:"
   ]
  },
  {
   "cell_type": "code",
   "execution_count": null,
   "metadata": {},
   "outputs": [],
   "source": [
    "CH3().visualize(show_ports=True)"
   ]
  },
  {
   "cell_type": "markdown",
   "metadata": {},
   "source": [
    "<div id=\"widgetview\"></div>\n",
    "<script>loadWidget('/assets/json/example-trajectoryview-data.json', '#widgetview', 400, 400);</script>\n",
    "When two `Ports` are connected, they are forced to overlap in space and\n",
    "their parent `Compounds` are rotated and translated by the same amount.\n",
    "\n",
    "**Note:** If we tried to connect two of our methyls right now using only\n",
    "one set of four ghost atoms, not only would the `Ports` overlap\n",
    "perfectly, but the carbons and hydrogens would also perfectly overlap.\n",
    "This is why every port contains a second set of 4 ghost atoms pointing\n",
    "in the opposite direction. When two `Compounds` are connected, the port\n",
    "that places the anchor atoms the farthest away from each other is chosen\n",
    "automatically to prevent this overlap scenario. By convention, we try to\n",
    "label `Ports` successively as 'up', 'down', 'left', 'right', 'front',\n",
    "'back' which should roughly correspond to the relative. This is a bit\n",
    "tricky to enforce because the system is so flexible so use your best\n",
    "judgement and try to be consistent! The more components we collect in\n",
    "our library with the same labeling conventions, the easier it becomes to\n",
    "build ever more complex structures.\n",
    "\n",
    "Now the fun part: stick 'em together to create an ethane:"
   ]
  },
  {
   "cell_type": "code",
   "execution_count": null,
   "metadata": {},
   "outputs": [],
   "source": [
    "import mbuild as mb\n",
    "\n",
    "class Ethane(mb.Compound):\n",
    "    def __init__(self):\n",
    "        super(Ethane, self).__init__()\n",
    "\n",
    "        self.add(CH3(), \"methyl1\")\n",
    "        self.add(CH3(), \"methyl2\")\n",
    "        mb.equivalence_transform(self.methyl1, self.methyl1.up, self.methyl2.up)"
   ]
  },
  {
   "cell_type": "code",
   "execution_count": null,
   "metadata": {},
   "outputs": [],
   "source": [
    "Ethane().visualize(show_ports=True)"
   ]
  },
  {
   "cell_type": "markdown",
   "metadata": {},
   "source": [
    "Above, the `equivalence_transform()` function takes a `Compound` and\n",
    "then rotates and translates it such that two other `Compounds` overlap.\n",
    "Typically, as in this case, those two other `Compounds` are `Ports` - in\n",
    "our case, `methyl1.up` and `methyl2.up`."
   ]
  }
 ],
 "metadata": {},
 "nbformat": 4,
 "nbformat_minor": 0
}
