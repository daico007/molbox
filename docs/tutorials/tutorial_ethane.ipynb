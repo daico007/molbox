{
 "cells": [
  {
   "cell_type": "markdown",
   "metadata": {},
   "source": [
    "Ethane: Reading from files, Ports and coordinate transforms\n",
    "-----------------------------------------------------------\n",
    "\n",
    "In this example, we'll cover reading molecular components from files, introduce the concept of `Ports` and start using some coordinate transforms.\n",
    "\n",
    "As you probably noticed while creating your methane mocule in the last tutorial, manually adding `Atoms` and `Bonds` to a `Compound` is a bit cumbersome. The easiest way to create small, reusable components, such as methyls, amines or monomers, is to hand draw them using software like [Avogadro](http://avogadro.cc/wiki/Main_Page) and export them as either a .pdb or .mol2 file (the file should contain connectivity information).\n",
    "\n",
    "Let's start by reading a methyl group from a `.pdb` file:"
   ]
  },
  {
   "cell_type": "code",
   "execution_count": 1,
   "metadata": {
    "collapsed": false
   },
   "outputs": [],
   "source": [
    "import mbuild as mb\n",
    "\n",
    "class CH3(mb.Compound):\n",
    "    def __init__(self):\n",
    "        super(CH3, self).__init__(self)\n",
    "\n",
    "        mb.load('ch3.pdb', compound=self)\n"
   ]
  },
  {
   "cell_type": "markdown",
   "metadata": {},
   "source": [
    "Now let's use our first coordinate transform to center the methyl at its carbon atom:"
   ]
  },
  {
   "cell_type": "code",
   "execution_count": 2,
   "metadata": {
    "collapsed": true
   },
   "outputs": [],
   "source": [
    "import mbuild as mb\n",
    "\n",
    "class CH3(mb.Compound):\n",
    "    def __init__(self):\n",
    "        super(CH3, self).__init__()\n",
    "\n",
    "        mb.load('ch3.pdb', compound=self)\n",
    "        mb.translate(self, -self.C[0])  # Move carbon to origin."
   ]
  },
  {
   "cell_type": "markdown",
   "metadata": {},
   "source": [
    "Here, when referring to the `Atom` object in a mathematical expression, we operate directly on its coordinates. This functionality is currently implemented for addition and subtraction only.\n",
    "\n",
    "So now we have a methyl group loaded up and centered. In order to connect `Compounds` in mBuild, we make use of a special type of `Compound`: the `Port`. A `Port` is a `Compound` with two sets of four \"ghost\" `Atoms` (of kind `'G'` by convention). In addition ``Ports`` have an `anchor` attribute which typically points to an `Atom` that the `Port` should be associated with. In our methyl group, the `Port` should be anchored to the carbon atom so that we\n",
    "can now form `Bonds` to this carbon:"
   ]
  },
  {
   "cell_type": "code",
   "execution_count": 3,
   "metadata": {
    "collapsed": true
   },
   "outputs": [],
   "source": [
    "import mbuild as mb\n",
    "\n",
    "class CH3(mb.Compound):\n",
    "    def __init__(self):\n",
    "        super(CH3, self).__init__()\n",
    "\n",
    "        mb.load('ch3.pdb', compound=self)\n",
    "        mb.translate(self, -self.C[0])  # Move carbon to origin.\n",
    "\n",
    "        port = mb.Port(anchor=self.C[0])\n",
    "        self.add(port, label='up')\n",
    "        mb.translate(self.up, [0, -0.07, 0])"
   ]
  },
  {
   "cell_type": "markdown",
   "metadata": {},
   "source": [
    "By default, `Ports` are never output from the mBuild structure. However, it can be useful to look at a molecule with the `Ports` to check your work as you go:"
   ]
  },
  {
   "cell_type": "code",
   "execution_count": 4,
   "metadata": {
    "collapsed": false
   },
   "outputs": [
    {
     "data": {
      "text/html": [
       "<div id=\"molecule_b51d21ec-b80b-47d8-9fe4-1d0561d043fd\"></div>\n",
       "           <script type=\"text/javascript\">\n",
       "           require.config({baseUrl: '/',\n",
       "                           paths: {imolecule: ['nbextensions/imolecule.min', 'https://rawgit.com/patrickfuller/imolecule/master/imolecule/js/build/imolecule.min']}});\n",
       "           require(['imolecule'], function () {\n",
       "               var $d = $('#molecule_b51d21ec-b80b-47d8-9fe4-1d0561d043fd');\n",
       "               $d.width(400); $d.height(300);\n",
       "               $d.imolecule = jQuery.extend({}, imolecule);\n",
       "               $d.imolecule.create($d, {drawingType: 'ball and stick',\n",
       "                                        cameraType: 'perspective',\n",
       "                                        shader: 'lambert'});\n",
       "               $d.imolecule.draw({\"atoms\":[{\"element\":\"C\",\"location\":[0.000000,0.000000,0.000000]},{\"element\":\"H\",\"location\":[1.070000,0.000000,0.000000]},{\"element\":\"H\",\"location\":[-0.357000,0.769000,0.653000]},{\"element\":\"H\",\"location\":[-0.357000,0.181000,-0.993000]},{\"element\":\"G\",\"location\":[0.000000,-0.700000,0.000000]},{\"element\":\"G\",\"location\":[0.000000,-0.500000,0.000000]},{\"element\":\"G\",\"location\":[-0.200000,-0.800000,0.000000]},{\"element\":\"G\",\"location\":[0.000000,-0.900000,0.100000]},{\"element\":\"G\",\"location\":[0.000000,-0.700000,0.000000]},{\"element\":\"G\",\"location\":[-0.000000,-0.900000,0.000000]},{\"element\":\"G\",\"location\":[0.200000,-0.600000,0.000000]},{\"element\":\"G\",\"location\":[0.000000,-0.500000,0.100000]}],\"bonds\":[{\"atoms\":[0,1],\"order\":1},{\"atoms\":[0,2],\"order\":1},{\"atoms\":[0,3],\"order\":1}],\"name\":\"CH3\"});\n",
       "\n",
       "               $d.resizable({\n",
       "                   aspectRatio: 400 / 300,\n",
       "                   resize: function (evt, ui) {\n",
       "                       $d.imolecule.renderer.setSize(ui.size.width,\n",
       "                                                     ui.size.height);\n",
       "                   }\n",
       "               });\n",
       "           });\n",
       "           </script>"
      ],
      "text/plain": [
       "<IPython.core.display.HTML object>"
      ]
     },
     "metadata": {},
     "output_type": "display_data"
    }
   ],
   "source": [
    "CH3().visualize(show_ports=True)"
   ]
  },
  {
   "cell_type": "markdown",
   "metadata": {},
   "source": [
    "When two `Ports` are connected, they are forced to overlap in space and their parent `Compounds` are rotated and translated by the same amount. \n",
    "\n",
    "__Note:__ If we tried to connect two of our methyls right now using only one set of four ghost atoms, not only would the `Ports` overlap perfectly, but the carbons and hydrogens would also perfectly overlap. This is why every port contains a second set of 4 ghost atoms pointing in the opposite direction. When two `Compounds` are\n",
    "connected, the port that places the anchor atoms the farthest away from each other is chosen automatically to prevent this overlap scenario. By convention, we try to label `Ports` successively as 'up', 'down', 'left', 'right', 'front', 'back' which should roughly correspond to the relative. This is a bit tricky to enforce because the system is so flexible so use your best judgement and try to be consistent! The more components we collect in our library with the same labeling conventions, the easier it becomes to build ever more complex structures.\n",
    "\n",
    "Now the fun part: stick 'em together to create an ethane:"
   ]
  },
  {
   "cell_type": "code",
   "execution_count": 5,
   "metadata": {
    "collapsed": true
   },
   "outputs": [],
   "source": [
    "import mbuild as mb\n",
    "\n",
    "class Ethane(mb.Compound):\n",
    "    def __init__(self):\n",
    "        super(Ethane, self).__init__()\n",
    "\n",
    "        self.add(CH3(), \"methyl1\")\n",
    "        self.add(CH3(), \"methyl2\")\n",
    "        mb.equivalence_transform(self.methyl1, self.methyl1.up, self.methyl2.up)"
   ]
  },
  {
   "cell_type": "code",
   "execution_count": 6,
   "metadata": {
    "collapsed": false
   },
   "outputs": [
    {
     "data": {
      "text/html": [
       "<div id=\"molecule_500f1dd7-b6bf-4f5c-b96f-d1553c8445d0\"></div>\n",
       "           <script type=\"text/javascript\">\n",
       "           require.config({baseUrl: '/',\n",
       "                           paths: {imolecule: ['nbextensions/imolecule.min', 'https://rawgit.com/patrickfuller/imolecule/master/imolecule/js/build/imolecule.min']}});\n",
       "           require(['imolecule'], function () {\n",
       "               var $d = $('#molecule_500f1dd7-b6bf-4f5c-b96f-d1553c8445d0');\n",
       "               $d.width(400); $d.height(300);\n",
       "               $d.imolecule = jQuery.extend({}, imolecule);\n",
       "               $d.imolecule.create($d, {drawingType: 'ball and stick',\n",
       "                                        cameraType: 'perspective',\n",
       "                                        shader: 'lambert'});\n",
       "               $d.imolecule.draw({\"atoms\":[{\"element\":\"C\",\"location\":[0.000000,-1.400000,-0.000000]},{\"element\":\"H\",\"location\":[-1.070000,-1.400000,0.000000]},{\"element\":\"H\",\"location\":[0.357000,-2.169000,0.653000]},{\"element\":\"H\",\"location\":[0.357000,-1.581000,-0.993000]},{\"element\":\"G\",\"location\":[-0.000000,-0.700000,-0.000000]},{\"element\":\"G\",\"location\":[-0.000000,-0.900000,-0.000000]},{\"element\":\"G\",\"location\":[0.200000,-0.600000,-0.000000]},{\"element\":\"G\",\"location\":[-0.000000,-0.500000,0.100000]},{\"element\":\"G\",\"location\":[-0.000000,-0.700000,-0.000000]},{\"element\":\"G\",\"location\":[-0.000000,-0.500000,-0.000000]},{\"element\":\"G\",\"location\":[-0.200000,-0.800000,0.000000]},{\"element\":\"G\",\"location\":[-0.000000,-0.900000,0.100000]},{\"element\":\"C\",\"location\":[0.000000,0.000000,0.000000]},{\"element\":\"H\",\"location\":[1.070000,0.000000,0.000000]},{\"element\":\"H\",\"location\":[-0.357000,0.769000,0.653000]},{\"element\":\"H\",\"location\":[-0.357000,0.181000,-0.993000]},{\"element\":\"G\",\"location\":[0.000000,-0.700000,0.000000]},{\"element\":\"G\",\"location\":[0.000000,-0.500000,0.000000]},{\"element\":\"G\",\"location\":[-0.200000,-0.800000,0.000000]},{\"element\":\"G\",\"location\":[0.000000,-0.900000,0.100000]},{\"element\":\"G\",\"location\":[0.000000,-0.700000,0.000000]},{\"element\":\"G\",\"location\":[-0.000000,-0.900000,0.000000]},{\"element\":\"G\",\"location\":[0.200000,-0.600000,0.000000]},{\"element\":\"G\",\"location\":[0.000000,-0.500000,0.100000]}],\"bonds\":[{\"atoms\":[0,1],\"order\":1},{\"atoms\":[0,2],\"order\":1},{\"atoms\":[0,3],\"order\":1},{\"atoms\":[0,12],\"order\":1},{\"atoms\":[12,13],\"order\":1},{\"atoms\":[12,14],\"order\":1},{\"atoms\":[12,15],\"order\":1}],\"name\":\"Ethane\"});\n",
       "\n",
       "               $d.resizable({\n",
       "                   aspectRatio: 400 / 300,\n",
       "                   resize: function (evt, ui) {\n",
       "                       $d.imolecule.renderer.setSize(ui.size.width,\n",
       "                                                     ui.size.height);\n",
       "                   }\n",
       "               });\n",
       "           });\n",
       "           </script>"
      ],
      "text/plain": [
       "<IPython.core.display.HTML object>"
      ]
     },
     "metadata": {},
     "output_type": "display_data"
    }
   ],
   "source": [
    "Ethane().visualize(show_ports=True)"
   ]
  },
  {
   "cell_type": "markdown",
   "metadata": {},
   "source": [
    "Above, the `equivalence_transform()` function takes a `Compound` and then rotates and translates it such that two other `Compounds` overlap. Typically, as in\n",
    "this case, those two other `Compounds` are `Ports` - in our case, `methyl1.up` and `methyl2.up`."
   ]
  },
  {
   "cell_type": "code",
   "execution_count": null,
   "metadata": {
    "collapsed": true
   },
   "outputs": [],
   "source": []
  }
 ],
 "metadata": {
  "kernelspec": {
   "display_name": "Python 2",
   "language": "python",
   "name": "python2"
  },
  "language_info": {
   "codemirror_mode": {
    "name": "ipython",
    "version": 2
   },
   "file_extension": ".py",
   "mimetype": "text/x-python",
   "name": "python",
   "nbconvert_exporter": "python",
   "pygments_lexer": "ipython2",
   "version": "2.7.10"
  }
 },
 "nbformat": 4,
 "nbformat_minor": 0
}
