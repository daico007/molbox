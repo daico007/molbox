{
 "cells": [
  {
   "cell_type": "markdown",
   "metadata": {},
   "source": [
    "Ethane: Reading from files, Ports and coordinate transforms\n",
    "-----------------------------------------------------------\n",
    "\n",
    "__Note__: mBuild expects all distance units to be in nanometers.\n",
    "\n",
    "In this example, we'll cover reading molecular components from files, introduce the concept of `Ports` and start using some coordinate transforms.\n",
    "\n",
    "First, we need to import the mbuild package:\n"
   ]
  },
  {
   "cell_type": "code",
   "execution_count": 1,
   "metadata": {},
   "outputs": [],
   "source": [
    "import mbuild as mb"
   ]
  },
  {
   "cell_type": "markdown",
   "metadata": {},
   "source": [
    "As you probably noticed while creating your methane molecule in the last tutorial, manually adding `Particles` and `Bonds` to a `Compound` is a bit cumbersome. The easiest way to create small, reusable components, such as methyls, amines or monomers, is to hand draw them using software like [Avogadro](http://avogadro.cc/wiki/Main_Page) and export them as either a .pdb or .mol2 file (the file should contain connectivity information).\n",
    "\n",
    "Let's start by reading a methyl group from a `.pdb` file:"
   ]
  },
  {
   "cell_type": "code",
   "execution_count": 2,
   "metadata": {},
   "outputs": [
    {
     "data": {
      "application/3dmoljs_load.v0": "<div id=\"3dmolviewer_1559844327603461\"  style=\"position: relative; width: 640px; height: 480px\">\n        <p id=\"3dmolwarning_1559844327603461\" style=\"background-color:#ffcccc;color:black\">You appear to be running in JupyterLab (or JavaScript failed to load for some other reason).  You need to install the 3dmol extension: <br>\n        <tt>jupyter labextension install jupyterlab_3dmol</tt></p>\n        </div>\n<script>\n\nvar loadScriptAsync = function(uri){\n  return new Promise((resolve, reject) => {\n    var tag = document.createElement('script');\n    tag.src = uri;\n    tag.async = true;\n    tag.onload = () => {\n      resolve();\n    };\n  var firstScriptTag = document.getElementsByTagName('script')[0];\n  firstScriptTag.parentNode.insertBefore(tag, firstScriptTag);\n});\n};\n\nif(typeof $3Dmolpromise === 'undefined') {\n$3Dmolpromise = null;\n  $3Dmolpromise = loadScriptAsync('https://3dmol.csb.pitt.edu/build/3Dmol.js');\n}\n\nvar viewer_1559844327603461 = null;\nvar warn = document.getElementById(\"3dmolwarning_1559844327603461\");\nif(warn) {\n    warn.parentNode.removeChild(warn);\n}\n$3Dmolpromise.then(function() {\nviewer_1559844327603461 = $3Dmol.createViewer($(\"#3dmolviewer_1559844327603461\"),{backgroundColor:\"white\"});\n\tviewer_1559844327603461.addModel(\"@<TRIPOS>MOLECULE\\nRES\\n4 3 1 0 1\\nSMALL\\nNO_CHARGES\\n@<TRIPOS>CRYSIN\\n    6.4270     5.7690     6.6460    90.0000    90.0000    90.0000  1  1\\n@<TRIPOS>ATOM\\n       1 C           -1.7500     1.6620     0.0000 C             1 RES     \\n       2 H           -0.6800     1.6620     0.0000 H             1 RES     \\n       3 H           -2.1070     2.4310     0.6530 H             1 RES     \\n       4 H           -2.1070     1.8430    -0.9930 H             1 RES     \\n@<TRIPOS>BOND\\n       1        2        1 1\\n       2        4        1 1\\n       3        3        1 1\\n@<TRIPOS>SUBSTRUCTURE\\n       1 RES             1 RESIDUE    0 **** ROOT      0\\n\",\"mol2\");\n\tviewer_1559844327603461.setStyle({\"stick\": {\"radius\": 0.2, \"color\": \"grey\"}, \"sphere\": {\"scale\": 0.3, \"colorscheme\": {}}});\n\tviewer_1559844327603461.zoomTo();\nviewer_1559844327603461.render();\n});\n</script>",
      "text/html": [
       "<div id=\"3dmolviewer_1559844327603461\"  style=\"position: relative; width: 640px; height: 480px\">\n",
       "        <p id=\"3dmolwarning_1559844327603461\" style=\"background-color:#ffcccc;color:black\">You appear to be running in JupyterLab (or JavaScript failed to load for some other reason).  You need to install the 3dmol extension: <br>\n",
       "        <tt>jupyter labextension install jupyterlab_3dmol</tt></p>\n",
       "        </div>\n",
       "<script>\n",
       "\n",
       "var loadScriptAsync = function(uri){\n",
       "  return new Promise((resolve, reject) => {\n",
       "    var tag = document.createElement('script');\n",
       "    tag.src = uri;\n",
       "    tag.async = true;\n",
       "    tag.onload = () => {\n",
       "      resolve();\n",
       "    };\n",
       "  var firstScriptTag = document.getElementsByTagName('script')[0];\n",
       "  firstScriptTag.parentNode.insertBefore(tag, firstScriptTag);\n",
       "});\n",
       "};\n",
       "\n",
       "if(typeof $3Dmolpromise === 'undefined') {\n",
       "$3Dmolpromise = null;\n",
       "  $3Dmolpromise = loadScriptAsync('https://3dmol.csb.pitt.edu/build/3Dmol.js');\n",
       "}\n",
       "\n",
       "var viewer_1559844327603461 = null;\n",
       "var warn = document.getElementById(\"3dmolwarning_1559844327603461\");\n",
       "if(warn) {\n",
       "    warn.parentNode.removeChild(warn);\n",
       "}\n",
       "$3Dmolpromise.then(function() {\n",
       "viewer_1559844327603461 = $3Dmol.createViewer($(\"#3dmolviewer_1559844327603461\"),{backgroundColor:\"white\"});\n",
       "\tviewer_1559844327603461.addModel(\"@<TRIPOS>MOLECULE\\nRES\\n4 3 1 0 1\\nSMALL\\nNO_CHARGES\\n@<TRIPOS>CRYSIN\\n    6.4270     5.7690     6.6460    90.0000    90.0000    90.0000  1  1\\n@<TRIPOS>ATOM\\n       1 C           -1.7500     1.6620     0.0000 C             1 RES     \\n       2 H           -0.6800     1.6620     0.0000 H             1 RES     \\n       3 H           -2.1070     2.4310     0.6530 H             1 RES     \\n       4 H           -2.1070     1.8430    -0.9930 H             1 RES     \\n@<TRIPOS>BOND\\n       1        2        1 1\\n       2        4        1 1\\n       3        3        1 1\\n@<TRIPOS>SUBSTRUCTURE\\n       1 RES             1 RESIDUE    0 **** ROOT      0\\n\",\"mol2\");\n",
       "\tviewer_1559844327603461.setStyle({\"stick\": {\"radius\": 0.2, \"color\": \"grey\"}, \"sphere\": {\"scale\": 0.3, \"colorscheme\": {}}});\n",
       "\tviewer_1559844327603461.zoomTo();\n",
       "viewer_1559844327603461.render();\n",
       "});\n",
       "</script>"
      ]
     },
     "metadata": {},
     "output_type": "display_data"
    },
    {
     "data": {
      "text/plain": [
       "<py3Dmol.view at 0x125e11ac8>"
      ]
     },
     "execution_count": 2,
     "metadata": {},
     "output_type": "execute_result"
    }
   ],
   "source": [
    "import mbuild as mb\n",
    "\n",
    "ch3 = mb.load('ch3.pdb')\n",
    "ch3.visualize()\n"
   ]
  },
  {
   "cell_type": "markdown",
   "metadata": {},
   "source": [
    "Now let's use our first coordinate transform to center the methyl at its carbon atom:"
   ]
  },
  {
   "cell_type": "code",
   "execution_count": 3,
   "metadata": {},
   "outputs": [
    {
     "name": "stderr",
     "output_type": "stream",
     "text": [
      "/Users/coquach/Documents/mosdef36/mbuild/mbuild/utils/decorators.py:11: DeprecationWarning: translate is deprecated. Please use Compound.translate()\n",
      "  warn(printed_message, DeprecationWarning)\n"
     ]
    }
   ],
   "source": [
    "import mbuild as mb\n",
    "\n",
    "ch3 = mb.load('ch3.pdb')\n",
    "mb.translate(ch3, -ch3[0].pos)  # Move carbon to origin."
   ]
  },
  {
   "cell_type": "markdown",
   "metadata": {},
   "source": [
    "Now we have a methyl group loaded up and centered. In order to connect `Compounds` in mBuild, we make use of a special type of `Compound`: the `Port`. A `Port` is a `Compound` with two sets of four \"ghost\" `Particles`. In addition ``Ports`` have an `anchor` attribute which typically points to a particle that the `Port` should be associated with. In our methyl group, the `Port` should be anchored to the carbon atom so that we\n",
    "can now form bonds to this carbon:"
   ]
  },
  {
   "cell_type": "code",
   "execution_count": 4,
   "metadata": {},
   "outputs": [
    {
     "name": "stderr",
     "output_type": "stream",
     "text": [
      "/Users/coquach/Documents/mosdef36/mbuild/mbuild/utils/decorators.py:11: DeprecationWarning: translate is deprecated. Please use Compound.translate()\n",
      "  warn(printed_message, DeprecationWarning)\n",
      "/Users/coquach/Documents/mosdef36/mbuild/mbuild/utils/decorators.py:11: DeprecationWarning: translate is deprecated. Please use Compound.translate()\n",
      "  warn(printed_message, DeprecationWarning)\n"
     ]
    }
   ],
   "source": [
    "import mbuild as mb\n",
    "\n",
    "ch3 = mb.load('ch3.pdb')\n",
    "mb.translate(ch3, -ch3[0].pos)  # Move carbon to origin.\n",
    "\n",
    "port = mb.Port(anchor=ch3[0])\n",
    "ch3.add(port, label='up')\n",
    "\n",
    "# Place the port at approximately half a C-C bond length.\n",
    "mb.translate(ch3['up'], [0, -0.07, 0])  "
   ]
  },
  {
   "cell_type": "markdown",
   "metadata": {},
   "source": [
    "By default, `Ports` are never output from the mBuild structure. However, it can be useful to look at a molecule with the `Ports` to check your work as you go:"
   ]
  },
  {
   "cell_type": "code",
   "execution_count": 5,
   "metadata": {},
   "outputs": [
    {
     "data": {
      "application/3dmoljs_load.v0": "<div id=\"3dmolviewer_15598443276965492\"  style=\"position: relative; width: 640px; height: 480px\">\n        <p id=\"3dmolwarning_15598443276965492\" style=\"background-color:#ffcccc;color:black\">You appear to be running in JupyterLab (or JavaScript failed to load for some other reason).  You need to install the 3dmol extension: <br>\n        <tt>jupyter labextension install jupyterlab_3dmol</tt></p>\n        </div>\n<script>\n\nvar loadScriptAsync = function(uri){\n  return new Promise((resolve, reject) => {\n    var tag = document.createElement('script');\n    tag.src = uri;\n    tag.async = true;\n    tag.onload = () => {\n      resolve();\n    };\n  var firstScriptTag = document.getElementsByTagName('script')[0];\n  firstScriptTag.parentNode.insertBefore(tag, firstScriptTag);\n});\n};\n\nif(typeof $3Dmolpromise === 'undefined') {\n$3Dmolpromise = null;\n  $3Dmolpromise = loadScriptAsync('https://3dmol.csb.pitt.edu/build/3Dmol.js');\n}\n\nvar viewer_15598443276965492 = null;\nvar warn = document.getElementById(\"3dmolwarning_15598443276965492\");\nif(warn) {\n    warn.parentNode.removeChild(warn);\n}\n$3Dmolpromise.then(function() {\nviewer_15598443276965492 = $3Dmol.createViewer($(\"#3dmolviewer_15598443276965492\"),{backgroundColor:\"white\"});\n\tviewer_15598443276965492.addModel(\"@<TRIPOS>MOLECULE\\nRES\\n12 3 2 0 1\\nBIOPOLYMER\\nNO_CHARGES\\n@<TRIPOS>CRYSIN\\n    6.4270     5.7690     6.6460    90.0000    90.0000    90.0000  1  1\\n@<TRIPOS>ATOM\\n       1 C            0.0000     0.0000     0.0000 C             1 RES     \\n       2 H            1.0700     0.0000     0.0000 H             1 RES     \\n       3 H           -0.3570     0.7690     0.6530 H             1 RES     \\n       4 H           -0.3570     0.1810    -0.9930 H             1 RES     \\n       5 VS           0.0500    -0.6750    -0.0250 VS            2 PRT     \\n       6 VS           0.0500    -0.4750    -0.0250 VS            2 PRT     \\n       7 VS          -0.1500    -0.7750    -0.0250 VS            2 PRT     \\n       8 VS           0.0500    -0.8750     0.0750 VS            2 PRT     \\n       9 VS          -0.0500    -0.7250    -0.0250 VS            2 PRT     \\n      10 VS          -0.0500    -0.9250    -0.0250 VS            2 PRT     \\n      11 VS           0.1500    -0.6250    -0.0250 VS            2 PRT     \\n      12 VS          -0.0500    -0.5250     0.0750 VS            2 PRT     \\n@<TRIPOS>BOND\\n       1        3        1 1\\n       2        2        1 1\\n       3        4        1 1\\n@<TRIPOS>SUBSTRUCTURE\\n       1 RES             1 RESIDUE    0 **** ROOT      0\\n       2 PRT             5 RESIDUE    0 **** ROOT      0\\n\",\"mol2\");\n\tviewer_15598443276965492.setStyle({\"stick\": {\"radius\": 0.2, \"color\": \"grey\"}, \"sphere\": {\"scale\": 0.3, \"colorscheme\": {}}});\n\tviewer_15598443276965492.zoomTo();\nviewer_15598443276965492.render();\n});\n</script>",
      "text/html": [
       "<div id=\"3dmolviewer_15598443276965492\"  style=\"position: relative; width: 640px; height: 480px\">\n",
       "        <p id=\"3dmolwarning_15598443276965492\" style=\"background-color:#ffcccc;color:black\">You appear to be running in JupyterLab (or JavaScript failed to load for some other reason).  You need to install the 3dmol extension: <br>\n",
       "        <tt>jupyter labextension install jupyterlab_3dmol</tt></p>\n",
       "        </div>\n",
       "<script>\n",
       "\n",
       "var loadScriptAsync = function(uri){\n",
       "  return new Promise((resolve, reject) => {\n",
       "    var tag = document.createElement('script');\n",
       "    tag.src = uri;\n",
       "    tag.async = true;\n",
       "    tag.onload = () => {\n",
       "      resolve();\n",
       "    };\n",
       "  var firstScriptTag = document.getElementsByTagName('script')[0];\n",
       "  firstScriptTag.parentNode.insertBefore(tag, firstScriptTag);\n",
       "});\n",
       "};\n",
       "\n",
       "if(typeof $3Dmolpromise === 'undefined') {\n",
       "$3Dmolpromise = null;\n",
       "  $3Dmolpromise = loadScriptAsync('https://3dmol.csb.pitt.edu/build/3Dmol.js');\n",
       "}\n",
       "\n",
       "var viewer_15598443276965492 = null;\n",
       "var warn = document.getElementById(\"3dmolwarning_15598443276965492\");\n",
       "if(warn) {\n",
       "    warn.parentNode.removeChild(warn);\n",
       "}\n",
       "$3Dmolpromise.then(function() {\n",
       "viewer_15598443276965492 = $3Dmol.createViewer($(\"#3dmolviewer_15598443276965492\"),{backgroundColor:\"white\"});\n",
       "\tviewer_15598443276965492.addModel(\"@<TRIPOS>MOLECULE\\nRES\\n12 3 2 0 1\\nBIOPOLYMER\\nNO_CHARGES\\n@<TRIPOS>CRYSIN\\n    6.4270     5.7690     6.6460    90.0000    90.0000    90.0000  1  1\\n@<TRIPOS>ATOM\\n       1 C            0.0000     0.0000     0.0000 C             1 RES     \\n       2 H            1.0700     0.0000     0.0000 H             1 RES     \\n       3 H           -0.3570     0.7690     0.6530 H             1 RES     \\n       4 H           -0.3570     0.1810    -0.9930 H             1 RES     \\n       5 VS           0.0500    -0.6750    -0.0250 VS            2 PRT     \\n       6 VS           0.0500    -0.4750    -0.0250 VS            2 PRT     \\n       7 VS          -0.1500    -0.7750    -0.0250 VS            2 PRT     \\n       8 VS           0.0500    -0.8750     0.0750 VS            2 PRT     \\n       9 VS          -0.0500    -0.7250    -0.0250 VS            2 PRT     \\n      10 VS          -0.0500    -0.9250    -0.0250 VS            2 PRT     \\n      11 VS           0.1500    -0.6250    -0.0250 VS            2 PRT     \\n      12 VS          -0.0500    -0.5250     0.0750 VS            2 PRT     \\n@<TRIPOS>BOND\\n       1        3        1 1\\n       2        2        1 1\\n       3        4        1 1\\n@<TRIPOS>SUBSTRUCTURE\\n       1 RES             1 RESIDUE    0 **** ROOT      0\\n       2 PRT             5 RESIDUE    0 **** ROOT      0\\n\",\"mol2\");\n",
       "\tviewer_15598443276965492.setStyle({\"stick\": {\"radius\": 0.2, \"color\": \"grey\"}, \"sphere\": {\"scale\": 0.3, \"colorscheme\": {}}});\n",
       "\tviewer_15598443276965492.zoomTo();\n",
       "viewer_15598443276965492.render();\n",
       "});\n",
       "</script>"
      ]
     },
     "metadata": {},
     "output_type": "display_data"
    },
    {
     "data": {
      "text/plain": [
       "<py3Dmol.view at 0x125e11978>"
      ]
     },
     "execution_count": 5,
     "metadata": {},
     "output_type": "execute_result"
    }
   ],
   "source": [
    "ch3.visualize(show_ports=True)"
   ]
  },
  {
   "cell_type": "markdown",
   "metadata": {},
   "source": [
    "Now we wrap the methyl group into a python class, so that we can reuse it as a component to build more complex molecules later."
   ]
  },
  {
   "cell_type": "code",
   "execution_count": 6,
   "metadata": {},
   "outputs": [],
   "source": [
    "import mbuild as mb\n",
    "\n",
    "class CH3(mb.Compound):\n",
    "    def __init__(self):\n",
    "        super(CH3, self).__init__()\n",
    "\n",
    "        mb.load('ch3.pdb', compound=self)\n",
    "        mb.translate(self, -self[0].pos)  # Move carbon to origin.\n",
    "\n",
    "        port = mb.Port(anchor=self[0])\n",
    "        self.add(port, label='up')\n",
    "        # Place the port at approximately half a C-C bond length.\n",
    "        mb.translate(self['up'], [0, -0.07, 0]) "
   ]
  },
  {
   "cell_type": "markdown",
   "metadata": {},
   "source": [
    "When two `Ports` are connected, they are forced to overlap in space and their parent `Compounds` are rotated and translated by the same amount. \n",
    "\n",
    "__Note:__ If we tried to connect two of our methyls right now using only one set of four ghost particles, not only would the `Ports` overlap perfectly, but the carbons and hydrogens would also perfectly overlap - the 4 ghost atoms in the `Port` are arranged identically with respect to the other atoms. For example, if a `Port` and its direction is indicated by \"<-\", forcing the port in <-CH3 to overlap with <-CH3 would just look like <-CH3 (perfectly overlapping atoms).\n",
    "\n",
    "To solve this problem, every port contains a second set of 4 ghost atoms pointing in the opposite direction. When two `Compounds` are connected, the port that places the anchor atoms the farthest away from each other is chosen automatically to prevent this overlap scenario. \n",
    "\n",
    "When <->CH3 and <->CH3 are forced to overlap, the CH3<->CH3 is automatically chosen.\n",
    "\n",
    "Now the fun part: stick 'em together to create an ethane:"
   ]
  },
  {
   "cell_type": "code",
   "execution_count": 7,
   "metadata": {},
   "outputs": [
    {
     "name": "stderr",
     "output_type": "stream",
     "text": [
      "/Users/coquach/Documents/mosdef36/mbuild/mbuild/utils/decorators.py:11: DeprecationWarning: translate is deprecated. Please use Compound.translate()\n",
      "  warn(printed_message, DeprecationWarning)\n",
      "/Users/coquach/Documents/mosdef36/mbuild/mbuild/utils/decorators.py:11: DeprecationWarning: translate is deprecated. Please use Compound.translate()\n",
      "  warn(printed_message, DeprecationWarning)\n",
      "/Users/coquach/Documents/mosdef36/mbuild/mbuild/utils/decorators.py:11: DeprecationWarning: translate is deprecated. Please use Compound.translate()\n",
      "  warn(printed_message, DeprecationWarning)\n",
      "/Users/coquach/Documents/mosdef36/mbuild/mbuild/utils/decorators.py:11: DeprecationWarning: translate is deprecated. Please use Compound.translate()\n",
      "  warn(printed_message, DeprecationWarning)\n"
     ]
    }
   ],
   "source": [
    "ethane = mb.Compound()\n",
    "\n",
    "ethane.add(CH3(), label=\"methyl_1\")\n",
    "ethane.add(CH3(), label=\"methyl_2\")\n",
    "mb.force_overlap(move_this=ethane['methyl_1'],\n",
    "                         from_positions=ethane['methyl_1']['up'],\n",
    "                         to_positions=ethane['methyl_2']['up'])"
   ]
  },
  {
   "cell_type": "markdown",
   "metadata": {},
   "source": [
    "Above, the `force_overlap()` function takes a `Compound` and then rotates and translates it such that two other `Compounds` overlap. Typically, as in\n",
    "this case, those two other `Compounds` are `Ports` - in our case, `methyl1['up']` and `methyl2['up']`."
   ]
  },
  {
   "cell_type": "code",
   "execution_count": 8,
   "metadata": {},
   "outputs": [
    {
     "data": {
      "application/3dmoljs_load.v0": "<div id=\"3dmolviewer_1559844327752676\"  style=\"position: relative; width: 640px; height: 480px\">\n        <p id=\"3dmolwarning_1559844327752676\" style=\"background-color:#ffcccc;color:black\">You appear to be running in JupyterLab (or JavaScript failed to load for some other reason).  You need to install the 3dmol extension: <br>\n        <tt>jupyter labextension install jupyterlab_3dmol</tt></p>\n        </div>\n<script>\n\nvar loadScriptAsync = function(uri){\n  return new Promise((resolve, reject) => {\n    var tag = document.createElement('script');\n    tag.src = uri;\n    tag.async = true;\n    tag.onload = () => {\n      resolve();\n    };\n  var firstScriptTag = document.getElementsByTagName('script')[0];\n  firstScriptTag.parentNode.insertBefore(tag, firstScriptTag);\n});\n};\n\nif(typeof $3Dmolpromise === 'undefined') {\n$3Dmolpromise = null;\n  $3Dmolpromise = loadScriptAsync('https://3dmol.csb.pitt.edu/build/3Dmol.js');\n}\n\nvar viewer_1559844327752676 = null;\nvar warn = document.getElementById(\"3dmolwarning_1559844327752676\");\nif(warn) {\n    warn.parentNode.removeChild(warn);\n}\n$3Dmolpromise.then(function() {\nviewer_1559844327752676 = $3Dmol.createViewer($(\"#3dmolviewer_1559844327752676\"),{backgroundColor:\"white\"});\n\tviewer_1559844327752676.addModel(\"@<TRIPOS>MOLECULE\\nRES\\n8 7 1 0 1\\nSMALL\\nNO_CHARGES\\n@<TRIPOS>CRYSIN\\n    7.1400     7.9380     6.6460    90.0000    90.0000    90.0000  1  1\\n@<TRIPOS>ATOM\\n       1 C            0.0000    -1.4000    -0.0000 C             1 RES     \\n       2 H           -1.0700    -1.4000     0.0000 H             1 RES     \\n       3 H            0.3570    -2.1690     0.6530 H             1 RES     \\n       4 H            0.3570    -1.5810    -0.9930 H             1 RES     \\n       5 C            0.0000     0.0000     0.0000 C             1 RES     \\n       6 H            1.0700     0.0000     0.0000 H             1 RES     \\n       7 H           -0.3570     0.7690     0.6530 H             1 RES     \\n       8 H           -0.3570     0.1810    -0.9930 H             1 RES     \\n@<TRIPOS>BOND\\n       1        3        1 1\\n       2        1        2 1\\n       3        5        1 1\\n       4        5        6 1\\n       5        7        5 1\\n       6        8        5 1\\n       7        4        1 1\\n@<TRIPOS>SUBSTRUCTURE\\n       1 RES             1 RESIDUE    0 **** ROOT      0\\n\",\"mol2\");\n\tviewer_1559844327752676.setStyle({\"stick\": {\"radius\": 0.2, \"color\": \"grey\"}, \"sphere\": {\"scale\": 0.3, \"colorscheme\": {}}});\n\tviewer_1559844327752676.zoomTo();\nviewer_1559844327752676.render();\n});\n</script>",
      "text/html": [
       "<div id=\"3dmolviewer_1559844327752676\"  style=\"position: relative; width: 640px; height: 480px\">\n",
       "        <p id=\"3dmolwarning_1559844327752676\" style=\"background-color:#ffcccc;color:black\">You appear to be running in JupyterLab (or JavaScript failed to load for some other reason).  You need to install the 3dmol extension: <br>\n",
       "        <tt>jupyter labextension install jupyterlab_3dmol</tt></p>\n",
       "        </div>\n",
       "<script>\n",
       "\n",
       "var loadScriptAsync = function(uri){\n",
       "  return new Promise((resolve, reject) => {\n",
       "    var tag = document.createElement('script');\n",
       "    tag.src = uri;\n",
       "    tag.async = true;\n",
       "    tag.onload = () => {\n",
       "      resolve();\n",
       "    };\n",
       "  var firstScriptTag = document.getElementsByTagName('script')[0];\n",
       "  firstScriptTag.parentNode.insertBefore(tag, firstScriptTag);\n",
       "});\n",
       "};\n",
       "\n",
       "if(typeof $3Dmolpromise === 'undefined') {\n",
       "$3Dmolpromise = null;\n",
       "  $3Dmolpromise = loadScriptAsync('https://3dmol.csb.pitt.edu/build/3Dmol.js');\n",
       "}\n",
       "\n",
       "var viewer_1559844327752676 = null;\n",
       "var warn = document.getElementById(\"3dmolwarning_1559844327752676\");\n",
       "if(warn) {\n",
       "    warn.parentNode.removeChild(warn);\n",
       "}\n",
       "$3Dmolpromise.then(function() {\n",
       "viewer_1559844327752676 = $3Dmol.createViewer($(\"#3dmolviewer_1559844327752676\"),{backgroundColor:\"white\"});\n",
       "\tviewer_1559844327752676.addModel(\"@<TRIPOS>MOLECULE\\nRES\\n8 7 1 0 1\\nSMALL\\nNO_CHARGES\\n@<TRIPOS>CRYSIN\\n    7.1400     7.9380     6.6460    90.0000    90.0000    90.0000  1  1\\n@<TRIPOS>ATOM\\n       1 C            0.0000    -1.4000    -0.0000 C             1 RES     \\n       2 H           -1.0700    -1.4000     0.0000 H             1 RES     \\n       3 H            0.3570    -2.1690     0.6530 H             1 RES     \\n       4 H            0.3570    -1.5810    -0.9930 H             1 RES     \\n       5 C            0.0000     0.0000     0.0000 C             1 RES     \\n       6 H            1.0700     0.0000     0.0000 H             1 RES     \\n       7 H           -0.3570     0.7690     0.6530 H             1 RES     \\n       8 H           -0.3570     0.1810    -0.9930 H             1 RES     \\n@<TRIPOS>BOND\\n       1        3        1 1\\n       2        1        2 1\\n       3        5        1 1\\n       4        5        6 1\\n       5        7        5 1\\n       6        8        5 1\\n       7        4        1 1\\n@<TRIPOS>SUBSTRUCTURE\\n       1 RES             1 RESIDUE    0 **** ROOT      0\\n\",\"mol2\");\n",
       "\tviewer_1559844327752676.setStyle({\"stick\": {\"radius\": 0.2, \"color\": \"grey\"}, \"sphere\": {\"scale\": 0.3, \"colorscheme\": {}}});\n",
       "\tviewer_1559844327752676.zoomTo();\n",
       "viewer_1559844327752676.render();\n",
       "});\n",
       "</script>"
      ]
     },
     "metadata": {},
     "output_type": "display_data"
    },
    {
     "data": {
      "text/plain": [
       "<py3Dmol.view at 0x10af3d0f0>"
      ]
     },
     "execution_count": 8,
     "metadata": {},
     "output_type": "execute_result"
    }
   ],
   "source": [
    "ethane.visualize()"
   ]
  },
  {
   "cell_type": "code",
   "execution_count": 9,
   "metadata": {},
   "outputs": [
    {
     "data": {
      "application/3dmoljs_load.v0": "<div id=\"3dmolviewer_15598443277657979\"  style=\"position: relative; width: 640px; height: 480px\">\n        <p id=\"3dmolwarning_15598443277657979\" style=\"background-color:#ffcccc;color:black\">You appear to be running in JupyterLab (or JavaScript failed to load for some other reason).  You need to install the 3dmol extension: <br>\n        <tt>jupyter labextension install jupyterlab_3dmol</tt></p>\n        </div>\n<script>\n\nvar loadScriptAsync = function(uri){\n  return new Promise((resolve, reject) => {\n    var tag = document.createElement('script');\n    tag.src = uri;\n    tag.async = true;\n    tag.onload = () => {\n      resolve();\n    };\n  var firstScriptTag = document.getElementsByTagName('script')[0];\n  firstScriptTag.parentNode.insertBefore(tag, firstScriptTag);\n});\n};\n\nif(typeof $3Dmolpromise === 'undefined') {\n$3Dmolpromise = null;\n  $3Dmolpromise = loadScriptAsync('https://3dmol.csb.pitt.edu/build/3Dmol.js');\n}\n\nvar viewer_15598443277657979 = null;\nvar warn = document.getElementById(\"3dmolwarning_15598443277657979\");\nif(warn) {\n    warn.parentNode.removeChild(warn);\n}\n$3Dmolpromise.then(function() {\nviewer_15598443277657979 = $3Dmol.createViewer($(\"#3dmolviewer_15598443277657979\"),{backgroundColor:\"white\"});\n\tviewer_15598443277657979.addModel(\"@<TRIPOS>MOLECULE\\nRES\\n8 7 1 0 1\\nSMALL\\nNO_CHARGES\\n@<TRIPOS>CRYSIN\\n    7.1400     7.9380     6.6460    90.0000    90.0000    90.0000  1  1\\n@<TRIPOS>ATOM\\n       1 C            0.0000    -1.4000    -0.0000 C             1 RES     \\n       2 H           -1.0700    -1.4000     0.0000 H             1 RES     \\n       3 H            0.3570    -2.1690     0.6530 H             1 RES     \\n       4 H            0.3570    -1.5810    -0.9930 H             1 RES     \\n       5 C            0.0000     0.0000     0.0000 C             1 RES     \\n       6 H            1.0700     0.0000     0.0000 H             1 RES     \\n       7 H           -0.3570     0.7690     0.6530 H             1 RES     \\n       8 H           -0.3570     0.1810    -0.9930 H             1 RES     \\n@<TRIPOS>BOND\\n       1        3        1 1\\n       2        1        2 1\\n       3        5        1 1\\n       4        5        6 1\\n       5        7        5 1\\n       6        8        5 1\\n       7        4        1 1\\n@<TRIPOS>SUBSTRUCTURE\\n       1 RES             1 RESIDUE    0 **** ROOT      0\\n\",\"mol2\");\n\tviewer_15598443277657979.setStyle({\"stick\": {\"radius\": 0.2, \"color\": \"grey\"}, \"sphere\": {\"scale\": 0.3, \"colorscheme\": {}}});\n\tviewer_15598443277657979.zoomTo();\nviewer_15598443277657979.render();\n});\n</script>",
      "text/html": [
       "<div id=\"3dmolviewer_15598443277657979\"  style=\"position: relative; width: 640px; height: 480px\">\n",
       "        <p id=\"3dmolwarning_15598443277657979\" style=\"background-color:#ffcccc;color:black\">You appear to be running in JupyterLab (or JavaScript failed to load for some other reason).  You need to install the 3dmol extension: <br>\n",
       "        <tt>jupyter labextension install jupyterlab_3dmol</tt></p>\n",
       "        </div>\n",
       "<script>\n",
       "\n",
       "var loadScriptAsync = function(uri){\n",
       "  return new Promise((resolve, reject) => {\n",
       "    var tag = document.createElement('script');\n",
       "    tag.src = uri;\n",
       "    tag.async = true;\n",
       "    tag.onload = () => {\n",
       "      resolve();\n",
       "    };\n",
       "  var firstScriptTag = document.getElementsByTagName('script')[0];\n",
       "  firstScriptTag.parentNode.insertBefore(tag, firstScriptTag);\n",
       "});\n",
       "};\n",
       "\n",
       "if(typeof $3Dmolpromise === 'undefined') {\n",
       "$3Dmolpromise = null;\n",
       "  $3Dmolpromise = loadScriptAsync('https://3dmol.csb.pitt.edu/build/3Dmol.js');\n",
       "}\n",
       "\n",
       "var viewer_15598443277657979 = null;\n",
       "var warn = document.getElementById(\"3dmolwarning_15598443277657979\");\n",
       "if(warn) {\n",
       "    warn.parentNode.removeChild(warn);\n",
       "}\n",
       "$3Dmolpromise.then(function() {\n",
       "viewer_15598443277657979 = $3Dmol.createViewer($(\"#3dmolviewer_15598443277657979\"),{backgroundColor:\"white\"});\n",
       "\tviewer_15598443277657979.addModel(\"@<TRIPOS>MOLECULE\\nRES\\n8 7 1 0 1\\nSMALL\\nNO_CHARGES\\n@<TRIPOS>CRYSIN\\n    7.1400     7.9380     6.6460    90.0000    90.0000    90.0000  1  1\\n@<TRIPOS>ATOM\\n       1 C            0.0000    -1.4000    -0.0000 C             1 RES     \\n       2 H           -1.0700    -1.4000     0.0000 H             1 RES     \\n       3 H            0.3570    -2.1690     0.6530 H             1 RES     \\n       4 H            0.3570    -1.5810    -0.9930 H             1 RES     \\n       5 C            0.0000     0.0000     0.0000 C             1 RES     \\n       6 H            1.0700     0.0000     0.0000 H             1 RES     \\n       7 H           -0.3570     0.7690     0.6530 H             1 RES     \\n       8 H           -0.3570     0.1810    -0.9930 H             1 RES     \\n@<TRIPOS>BOND\\n       1        3        1 1\\n       2        1        2 1\\n       3        5        1 1\\n       4        5        6 1\\n       5        7        5 1\\n       6        8        5 1\\n       7        4        1 1\\n@<TRIPOS>SUBSTRUCTURE\\n       1 RES             1 RESIDUE    0 **** ROOT      0\\n\",\"mol2\");\n",
       "\tviewer_15598443277657979.setStyle({\"stick\": {\"radius\": 0.2, \"color\": \"grey\"}, \"sphere\": {\"scale\": 0.3, \"colorscheme\": {}}});\n",
       "\tviewer_15598443277657979.zoomTo();\n",
       "viewer_15598443277657979.render();\n",
       "});\n",
       "</script>"
      ]
     },
     "metadata": {},
     "output_type": "display_data"
    },
    {
     "data": {
      "text/plain": [
       "<py3Dmol.view at 0x10af13f98>"
      ]
     },
     "execution_count": 9,
     "metadata": {},
     "output_type": "execute_result"
    }
   ],
   "source": [
    "ethane.visualize(show_ports=True)"
   ]
  },
  {
   "cell_type": "markdown",
   "metadata": {},
   "source": [
    "Similarly, if we want to make ethane a reusable component, we need to wrap it into a python class."
   ]
  },
  {
   "cell_type": "code",
   "execution_count": 10,
   "metadata": {},
   "outputs": [],
   "source": [
    "import mbuild as mb\n",
    "\n",
    "class Ethane(mb.Compound):\n",
    "    def __init__(self):\n",
    "        super(Ethane, self).__init__()\n",
    "\n",
    "        self.add(CH3(), label=\"methyl_1\")\n",
    "        self.add(CH3(), label=\"methyl_2\")\n",
    "        mb.force_overlap(move_this=self['methyl_1'],\n",
    "                         from_positions=self['methyl_1']['up'],\n",
    "                         to_positions=self['methyl_2']['up'])"
   ]
  },
  {
   "cell_type": "code",
   "execution_count": 11,
   "metadata": {},
   "outputs": [
    {
     "name": "stderr",
     "output_type": "stream",
     "text": [
      "/Users/coquach/Documents/mosdef36/mbuild/mbuild/utils/decorators.py:11: DeprecationWarning: translate is deprecated. Please use Compound.translate()\n",
      "  warn(printed_message, DeprecationWarning)\n",
      "/Users/coquach/Documents/mosdef36/mbuild/mbuild/utils/decorators.py:11: DeprecationWarning: translate is deprecated. Please use Compound.translate()\n",
      "  warn(printed_message, DeprecationWarning)\n",
      "/Users/coquach/Documents/mosdef36/mbuild/mbuild/utils/decorators.py:11: DeprecationWarning: translate is deprecated. Please use Compound.translate()\n",
      "  warn(printed_message, DeprecationWarning)\n",
      "/Users/coquach/Documents/mosdef36/mbuild/mbuild/utils/decorators.py:11: DeprecationWarning: translate is deprecated. Please use Compound.translate()\n",
      "  warn(printed_message, DeprecationWarning)\n"
     ]
    },
    {
     "data": {
      "application/3dmoljs_load.v0": "<div id=\"3dmolviewer_1559844327821275\"  style=\"position: relative; width: 640px; height: 480px\">\n        <p id=\"3dmolwarning_1559844327821275\" style=\"background-color:#ffcccc;color:black\">You appear to be running in JupyterLab (or JavaScript failed to load for some other reason).  You need to install the 3dmol extension: <br>\n        <tt>jupyter labextension install jupyterlab_3dmol</tt></p>\n        </div>\n<script>\n\nvar loadScriptAsync = function(uri){\n  return new Promise((resolve, reject) => {\n    var tag = document.createElement('script');\n    tag.src = uri;\n    tag.async = true;\n    tag.onload = () => {\n      resolve();\n    };\n  var firstScriptTag = document.getElementsByTagName('script')[0];\n  firstScriptTag.parentNode.insertBefore(tag, firstScriptTag);\n});\n};\n\nif(typeof $3Dmolpromise === 'undefined') {\n$3Dmolpromise = null;\n  $3Dmolpromise = loadScriptAsync('https://3dmol.csb.pitt.edu/build/3Dmol.js');\n}\n\nvar viewer_1559844327821275 = null;\nvar warn = document.getElementById(\"3dmolwarning_1559844327821275\");\nif(warn) {\n    warn.parentNode.removeChild(warn);\n}\n$3Dmolpromise.then(function() {\nviewer_1559844327821275 = $3Dmol.createViewer($(\"#3dmolviewer_1559844327821275\"),{backgroundColor:\"white\"});\n\tviewer_1559844327821275.addModel(\"@<TRIPOS>MOLECULE\\nRES\\n8 7 1 0 1\\nSMALL\\nNO_CHARGES\\n@<TRIPOS>CRYSIN\\n    7.1400     7.9380     6.6460    90.0000    90.0000    90.0000  1  1\\n@<TRIPOS>ATOM\\n       1 C            0.0000    -1.4000    -0.0000 C             1 RES     \\n       2 H           -1.0700    -1.4000     0.0000 H             1 RES     \\n       3 H            0.3570    -2.1690     0.6530 H             1 RES     \\n       4 H            0.3570    -1.5810    -0.9930 H             1 RES     \\n       5 C            0.0000     0.0000     0.0000 C             1 RES     \\n       6 H            1.0700     0.0000     0.0000 H             1 RES     \\n       7 H           -0.3570     0.7690     0.6530 H             1 RES     \\n       8 H           -0.3570     0.1810    -0.9930 H             1 RES     \\n@<TRIPOS>BOND\\n       1        1        4 1\\n       2        1        3 1\\n       3        1        5 1\\n       4        5        8 1\\n       5        1        2 1\\n       6        5        7 1\\n       7        6        5 1\\n@<TRIPOS>SUBSTRUCTURE\\n       1 RES             1 RESIDUE    0 **** ROOT      0\\n\",\"mol2\");\n\tviewer_1559844327821275.setStyle({\"stick\": {\"radius\": 0.2, \"color\": \"grey\"}, \"sphere\": {\"scale\": 0.3, \"colorscheme\": {}}});\n\tviewer_1559844327821275.zoomTo();\nviewer_1559844327821275.render();\n});\n</script>",
      "text/html": [
       "<div id=\"3dmolviewer_1559844327821275\"  style=\"position: relative; width: 640px; height: 480px\">\n",
       "        <p id=\"3dmolwarning_1559844327821275\" style=\"background-color:#ffcccc;color:black\">You appear to be running in JupyterLab (or JavaScript failed to load for some other reason).  You need to install the 3dmol extension: <br>\n",
       "        <tt>jupyter labextension install jupyterlab_3dmol</tt></p>\n",
       "        </div>\n",
       "<script>\n",
       "\n",
       "var loadScriptAsync = function(uri){\n",
       "  return new Promise((resolve, reject) => {\n",
       "    var tag = document.createElement('script');\n",
       "    tag.src = uri;\n",
       "    tag.async = true;\n",
       "    tag.onload = () => {\n",
       "      resolve();\n",
       "    };\n",
       "  var firstScriptTag = document.getElementsByTagName('script')[0];\n",
       "  firstScriptTag.parentNode.insertBefore(tag, firstScriptTag);\n",
       "});\n",
       "};\n",
       "\n",
       "if(typeof $3Dmolpromise === 'undefined') {\n",
       "$3Dmolpromise = null;\n",
       "  $3Dmolpromise = loadScriptAsync('https://3dmol.csb.pitt.edu/build/3Dmol.js');\n",
       "}\n",
       "\n",
       "var viewer_1559844327821275 = null;\n",
       "var warn = document.getElementById(\"3dmolwarning_1559844327821275\");\n",
       "if(warn) {\n",
       "    warn.parentNode.removeChild(warn);\n",
       "}\n",
       "$3Dmolpromise.then(function() {\n",
       "viewer_1559844327821275 = $3Dmol.createViewer($(\"#3dmolviewer_1559844327821275\"),{backgroundColor:\"white\"});\n",
       "\tviewer_1559844327821275.addModel(\"@<TRIPOS>MOLECULE\\nRES\\n8 7 1 0 1\\nSMALL\\nNO_CHARGES\\n@<TRIPOS>CRYSIN\\n    7.1400     7.9380     6.6460    90.0000    90.0000    90.0000  1  1\\n@<TRIPOS>ATOM\\n       1 C            0.0000    -1.4000    -0.0000 C             1 RES     \\n       2 H           -1.0700    -1.4000     0.0000 H             1 RES     \\n       3 H            0.3570    -2.1690     0.6530 H             1 RES     \\n       4 H            0.3570    -1.5810    -0.9930 H             1 RES     \\n       5 C            0.0000     0.0000     0.0000 C             1 RES     \\n       6 H            1.0700     0.0000     0.0000 H             1 RES     \\n       7 H           -0.3570     0.7690     0.6530 H             1 RES     \\n       8 H           -0.3570     0.1810    -0.9930 H             1 RES     \\n@<TRIPOS>BOND\\n       1        1        4 1\\n       2        1        3 1\\n       3        1        5 1\\n       4        5        8 1\\n       5        1        2 1\\n       6        5        7 1\\n       7        6        5 1\\n@<TRIPOS>SUBSTRUCTURE\\n       1 RES             1 RESIDUE    0 **** ROOT      0\\n\",\"mol2\");\n",
       "\tviewer_1559844327821275.setStyle({\"stick\": {\"radius\": 0.2, \"color\": \"grey\"}, \"sphere\": {\"scale\": 0.3, \"colorscheme\": {}}});\n",
       "\tviewer_1559844327821275.zoomTo();\n",
       "viewer_1559844327821275.render();\n",
       "});\n",
       "</script>"
      ]
     },
     "metadata": {},
     "output_type": "display_data"
    },
    {
     "data": {
      "text/plain": [
       "<py3Dmol.view at 0x125d60828>"
      ]
     },
     "execution_count": 11,
     "metadata": {},
     "output_type": "execute_result"
    }
   ],
   "source": [
    "ethane = Ethane()\n",
    "ethane.visualize()"
   ]
  },
  {
   "cell_type": "code",
   "execution_count": 12,
   "metadata": {},
   "outputs": [],
   "source": [
    "# Save to .mol2\n",
    "ethane.save('ethane.mol2', overwrite=True)"
   ]
  },
  {
   "cell_type": "code",
   "execution_count": null,
   "metadata": {},
   "outputs": [],
   "source": []
  }
 ],
 "metadata": {
  "kernelspec": {
   "display_name": "Python 3",
   "language": "python",
   "name": "python3"
  },
  "language_info": {
   "codemirror_mode": {
    "name": "ipython",
    "version": 3
   },
   "file_extension": ".py",
   "mimetype": "text/x-python",
   "name": "python",
   "nbconvert_exporter": "python",
   "pygments_lexer": "ipython3",
   "version": "3.6.7"
  },
  "widgets": {
   "state": {
    "00ad9af3bb8e4f97818fc8e555431879": {
     "views": [
      {
       "cell_index": 19
      }
     ]
    },
    "028e0f8c00344481a80fac23fe39b105": {
     "views": [
      {
       "cell_index": 18
      }
     ]
    },
    "15a9f3099e5e40ec833aeab662c63045": {
     "views": [
      {
       "cell_index": 14
      }
     ]
    },
    "199da3f991354041833be775d76dc48b": {
     "views": [
      {
       "cell_index": 19
      }
     ]
    },
    "25aafb8c1bd74fe2a6cd3cc14a66d31b": {
     "views": [
      {
       "cell_index": 16
      }
     ]
    },
    "40fb99a0006a40de9b6f6a294067a22a": {
     "views": [
      {
       "cell_index": 15
      }
     ]
    },
    "44667c6bb704498faa30121553fc3535": {
     "views": [
      {
       "cell_index": 9
      }
     ]
    },
    "8649a13e523f40f99f759fab76cac562": {
     "views": [
      {
       "cell_index": 3
      }
     ]
    },
    "92084e478d394a208b1cd24675cb167f": {
     "views": [
      {
       "cell_index": 3
      }
     ]
    },
    "977bd6db31d848a380c022b9998d9858": {
     "views": [
      {
       "cell_index": 14
      }
     ]
    },
    "b8d4bdb67cbe488a91ff5597bc252fb5": {
     "views": [
      {
       "cell_index": 15
      }
     ]
    },
    "bf02bce603d9488b9365ddfee6816491": {
     "views": [
      {
       "cell_index": 3
      }
     ]
    },
    "c122d299d30f44f38abfcfaf2cb8030e": {
     "views": [
      {
       "cell_index": 16
      }
     ]
    },
    "d01f6bd3f390412784fe23c3a253bce9": {
     "views": [
      {
       "cell_index": 17
      }
     ]
    },
    "d3e81ec99f0449c1a5b5c758047cb836": {
     "views": [
      {
       "cell_index": 9
      }
     ]
    },
    "da59c5fc50f64969a4bd2af3ef1dd930": {
     "views": [
      {
       "cell_index": 9
      }
     ]
    },
    "eb883ff42b0f4e06a22d60ebb5529b82": {
     "views": [
      {
       "cell_index": 15
      }
     ]
    },
    "f71fac17584640f295bcd4cc27444438": {
     "views": [
      {
       "cell_index": 3
      }
     ]
    },
    "f84989deac0e44388a00e9e176206114": {
     "views": [
      {
       "cell_index": 3
      }
     ]
    },
    "ff7783a7f1ae4c679ee458b0b90f7ba9": {
     "views": [
      {
       "cell_index": 9
      }
     ]
    }
   },
   "version": "1.2.0"
  }
 },
 "nbformat": 4,
 "nbformat_minor": 1
}
