{
 "cells": [
  {
   "cell_type": "markdown",
   "metadata": {},
   "source": [
    "Methane: Compounds and bonds\n",
    "---------------------------------\n",
    "\n",
    "__Note__: mBuild expects all distance units to be in nanometers.\n",
    "\n",
    "The primary building block in mBuild is a `Compound`. Anything you construct will inherit from this class. Let's start with some basic imports and initialization:"
   ]
  },
  {
   "cell_type": "code",
   "execution_count": 1,
   "metadata": {},
   "outputs": [],
   "source": [
    "import mbuild as mb\n",
    "\n",
    "class Methane(mb.Compound):\n",
    "    def __init__(self):\n",
    "        super(Methane, self).__init__()"
   ]
  },
  {
   "cell_type": "markdown",
   "metadata": {},
   "source": [
    "Any `Compound` can contain other `Compounds` which can be added using its `add()` method. `Compounds` at the bottom of such a hierarchy are referred to as `Particles`. Note however, that this is purely semantic in mBuild to help clearly designate the bottom of a hierarchy."
   ]
  },
  {
   "cell_type": "code",
   "execution_count": 2,
   "metadata": {},
   "outputs": [],
   "source": [
    "import mbuild as mb\n",
    "\n",
    "class Methane(mb.Compound):\n",
    "    def __init__(self):\n",
    "        super(Methane, self).__init__()\n",
    "        carbon = mb.Particle(name='C')\n",
    "        self.add(carbon, label='C[$]')\n",
    "\n",
    "        hydrogen = mb.Particle(name='H', pos=[0.11, 0, 0])\n",
    "        self.add(hydrogen, label='HC[$]')"
   ]
  },
  {
   "cell_type": "markdown",
   "metadata": {},
   "source": [
    "By default a created `Compound/Particle` will be placed at `0, 0, 0` as indicated by its `pos` attribute.  The `Particle` objects contained in a `Compound`, the bottoms of the hierarchy, can be referenced via the `particles` method which returns a generator of all `Particle` objects contained below the `Compound` in the hierarchy.\n",
    "\n",
    "__Note:__ All positions in mBuild are stored in nanometers."
   ]
  },
  {
   "cell_type": "markdown",
   "metadata": {},
   "source": [
    "Any part added to a `Compound` can be given an optional, descriptive string label. If the label ends with the characters `[$]`, a list will be created in the labels. Any subsequent parts added to the `Compound` with the same label prefix will be appended to the list. In the example above, we've labeled the hydrogen as `HC[$]`. So this first part, with the label prefix `HC`, is\n",
    "now referenceable via `self['HC'][0]`. The next part added with the label `HC[$]` will be referenceable via `self['HC'][1]`.\n",
    "\n",
    "Now let's use these styles of referencing to connect the carbon to the hydrogen. Note that for typical use cases, you will almost never have to explicitly define a bond when using mBuild - this is just to show you what's going on\n",
    "under the hood:"
   ]
  },
  {
   "cell_type": "code",
   "execution_count": 3,
   "metadata": {},
   "outputs": [],
   "source": [
    "import mbuild as mb\n",
    "\n",
    "class Methane(mb.Compound):\n",
    "    def __init__(self):\n",
    "        super(Methane, self).__init__()\n",
    "        carbon = mb.Particle(name='C')\n",
    "        self.add(carbon, label='C[$]')\n",
    "\n",
    "        hydrogen = mb.Particle(name='H', pos=[0.11, 0, 0])\n",
    "        self.add(hydrogen, label='HC[$]')\n",
    "\n",
    "        self.add_bond((self[0], self['HC'][0]))"
   ]
  },
  {
   "cell_type": "markdown",
   "metadata": {},
   "source": [
    "As you can see, the carbon is placed in the zero index of `self`. The hydrogen could be referenced via `self[1]` but since we gave it a fancy label, it's also referenceable via `self['HC'][0]`.\n",
    "\n",
    "Alright now that we've got the basics, let's finish building our `Methane` and take a look at it:"
   ]
  },
  {
   "cell_type": "code",
   "execution_count": 4,
   "metadata": {},
   "outputs": [],
   "source": [
    "import mbuild as mb\n",
    "\n",
    "class Methane(mb.Compound):\n",
    "    def __init__(self):\n",
    "        super(Methane, self).__init__()\n",
    "        carbon = mb.Particle(name='C')\n",
    "        self.add(carbon, label='C[$]')\n",
    "\n",
    "        hydrogen = mb.Particle(name='H', pos=[0.1, 0, -0.07])\n",
    "        self.add(hydrogen, label='HC[$]')\n",
    "        \n",
    "        self.add_bond((self[0], self['HC'][0]))\n",
    "\n",
    "        self.add(mb.Particle(name='H', pos=[-0.1, 0, -0.07]), label='HC[$]')\n",
    "        self.add(mb.Particle(name='H', pos=[0, 0.1, 0.07]), label='HC[$]')\n",
    "        self.add(mb.Particle(name='H', pos=[0, -0.1, 0.07]), label='HC[$]')\n",
    "\n",
    "        self.add_bond((self[0], self['HC'][1]))\n",
    "        self.add_bond((self[0], self['HC'][2]))\n",
    "        self.add_bond((self[0], self['HC'][3]))"
   ]
  },
  {
   "cell_type": "code",
   "execution_count": 5,
   "metadata": {},
   "outputs": [
    {
     "data": {
      "application/3dmoljs_load.v0": "<div id=\"3dmolviewer_1559844511372559\"  style=\"position: relative; width: 640px; height: 480px\">\n        <p id=\"3dmolwarning_1559844511372559\" style=\"background-color:#ffcccc;color:black\">You appear to be running in JupyterLab (or JavaScript failed to load for some other reason).  You need to install the 3dmol extension: <br>\n        <tt>jupyter labextension install jupyterlab_3dmol</tt></p>\n        </div>\n<script>\n\nvar loadScriptAsync = function(uri){\n  return new Promise((resolve, reject) => {\n    var tag = document.createElement('script');\n    tag.src = uri;\n    tag.async = true;\n    tag.onload = () => {\n      resolve();\n    };\n  var firstScriptTag = document.getElementsByTagName('script')[0];\n  firstScriptTag.parentNode.insertBefore(tag, firstScriptTag);\n});\n};\n\nif(typeof $3Dmolpromise === 'undefined') {\n$3Dmolpromise = null;\n  $3Dmolpromise = loadScriptAsync('https://3dmol.csb.pitt.edu/build/3Dmol.js');\n}\n\nvar viewer_1559844511372559 = null;\nvar warn = document.getElementById(\"3dmolwarning_1559844511372559\");\nif(warn) {\n    warn.parentNode.removeChild(warn);\n}\n$3Dmolpromise.then(function() {\nviewer_1559844511372559 = $3Dmol.createViewer($(\"#3dmolviewer_1559844511372559\"),{backgroundColor:\"white\"});\n\tviewer_1559844511372559.addModel(\"@<TRIPOS>MOLECULE\\nRES\\n5 4 1 0 1\\nSMALL\\nNO_CHARGES\\n@<TRIPOS>CRYSIN\\n    7.0000     7.0000     6.4000    90.0000    90.0000    90.0000  1  1\\n@<TRIPOS>ATOM\\n       1 C            0.0000     0.0000     0.0000 C             1 RES     \\n       2 H            1.0000     0.0000    -0.7000 H             1 RES     \\n       3 H           -1.0000     0.0000    -0.7000 H             1 RES     \\n       4 H            0.0000     1.0000     0.7000 H             1 RES     \\n       5 H            0.0000    -1.0000     0.7000 H             1 RES     \\n@<TRIPOS>BOND\\n       1        1        4 1\\n       2        1        5 1\\n       3        3        1 1\\n       4        2        1 1\\n@<TRIPOS>SUBSTRUCTURE\\n       1 RES             1 RESIDUE    0 **** ROOT      0\\n\",\"mol2\");\n\tviewer_1559844511372559.setStyle({\"stick\": {\"radius\": 0.2, \"color\": \"grey\"}, \"sphere\": {\"scale\": 0.3, \"colorscheme\": {}}});\n\tviewer_1559844511372559.zoomTo();\nviewer_1559844511372559.render();\n});\n</script>",
      "text/html": [
       "<div id=\"3dmolviewer_1559844511372559\"  style=\"position: relative; width: 640px; height: 480px\">\n",
       "        <p id=\"3dmolwarning_1559844511372559\" style=\"background-color:#ffcccc;color:black\">You appear to be running in JupyterLab (or JavaScript failed to load for some other reason).  You need to install the 3dmol extension: <br>\n",
       "        <tt>jupyter labextension install jupyterlab_3dmol</tt></p>\n",
       "        </div>\n",
       "<script>\n",
       "\n",
       "var loadScriptAsync = function(uri){\n",
       "  return new Promise((resolve, reject) => {\n",
       "    var tag = document.createElement('script');\n",
       "    tag.src = uri;\n",
       "    tag.async = true;\n",
       "    tag.onload = () => {\n",
       "      resolve();\n",
       "    };\n",
       "  var firstScriptTag = document.getElementsByTagName('script')[0];\n",
       "  firstScriptTag.parentNode.insertBefore(tag, firstScriptTag);\n",
       "});\n",
       "};\n",
       "\n",
       "if(typeof $3Dmolpromise === 'undefined') {\n",
       "$3Dmolpromise = null;\n",
       "  $3Dmolpromise = loadScriptAsync('https://3dmol.csb.pitt.edu/build/3Dmol.js');\n",
       "}\n",
       "\n",
       "var viewer_1559844511372559 = null;\n",
       "var warn = document.getElementById(\"3dmolwarning_1559844511372559\");\n",
       "if(warn) {\n",
       "    warn.parentNode.removeChild(warn);\n",
       "}\n",
       "$3Dmolpromise.then(function() {\n",
       "viewer_1559844511372559 = $3Dmol.createViewer($(\"#3dmolviewer_1559844511372559\"),{backgroundColor:\"white\"});\n",
       "\tviewer_1559844511372559.addModel(\"@<TRIPOS>MOLECULE\\nRES\\n5 4 1 0 1\\nSMALL\\nNO_CHARGES\\n@<TRIPOS>CRYSIN\\n    7.0000     7.0000     6.4000    90.0000    90.0000    90.0000  1  1\\n@<TRIPOS>ATOM\\n       1 C            0.0000     0.0000     0.0000 C             1 RES     \\n       2 H            1.0000     0.0000    -0.7000 H             1 RES     \\n       3 H           -1.0000     0.0000    -0.7000 H             1 RES     \\n       4 H            0.0000     1.0000     0.7000 H             1 RES     \\n       5 H            0.0000    -1.0000     0.7000 H             1 RES     \\n@<TRIPOS>BOND\\n       1        1        4 1\\n       2        1        5 1\\n       3        3        1 1\\n       4        2        1 1\\n@<TRIPOS>SUBSTRUCTURE\\n       1 RES             1 RESIDUE    0 **** ROOT      0\\n\",\"mol2\");\n",
       "\tviewer_1559844511372559.setStyle({\"stick\": {\"radius\": 0.2, \"color\": \"grey\"}, \"sphere\": {\"scale\": 0.3, \"colorscheme\": {}}});\n",
       "\tviewer_1559844511372559.zoomTo();\n",
       "viewer_1559844511372559.render();\n",
       "});\n",
       "</script>"
      ]
     },
     "metadata": {},
     "output_type": "display_data"
    },
    {
     "data": {
      "text/plain": [
       "<py3Dmol.view at 0x12a896a90>"
      ]
     },
     "execution_count": 5,
     "metadata": {},
     "output_type": "execute_result"
    }
   ],
   "source": [
    "methane = Methane()\n",
    "methane.visualize()"
   ]
  },
  {
   "cell_type": "code",
   "execution_count": 6,
   "metadata": {},
   "outputs": [],
   "source": [
    "# Save to .mol2\n",
    "methane.save('methane.mol2',overwrite=True)"
   ]
  }
 ],
 "metadata": {
  "kernelspec": {
   "display_name": "Python 3",
   "language": "python",
   "name": "python3"
  },
  "language_info": {
   "codemirror_mode": {
    "name": "ipython",
    "version": 3
   },
   "file_extension": ".py",
   "mimetype": "text/x-python",
   "name": "python",
   "nbconvert_exporter": "python",
   "pygments_lexer": "ipython3",
   "version": "3.6.7"
  },
  "widgets": {
   "state": {
    "77b058af19e84b20a6f7135e9af8694d": {
     "views": [
      {
       "cell_index": 9
      }
     ]
    },
    "a2234bb94ea0407ea49d917debf19663": {
     "views": [
      {
       "cell_index": 14
      }
     ]
    },
    "c64cb33cb3c0400dae93a43967009a1f": {
     "views": [
      {
       "cell_index": 9
      }
     ]
    },
    "c67e29aabf524bf3b38e93ced5b4eee6": {
     "views": [
      {
       "cell_index": 9
      }
     ]
    },
    "ed1cb446e71d4f7bb922fd0be1536323": {
     "views": [
      {
       "cell_index": 11
      }
     ]
    }
   },
   "version": "1.2.0"
  }
 },
 "nbformat": 4,
 "nbformat_minor": 1
}
