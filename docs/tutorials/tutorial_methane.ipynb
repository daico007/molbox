{
 "cells": [
  {
   "cell_type": "markdown",
   "metadata": {},
   "source": [
    "Methane: Compounds and bonds\n",
    "---------------------------------\n",
    "\n",
    "The primary building block in mBuild is a `Compound`. Anything you construct will inherit from this class. Let's start with some basic imports and initialization:"
   ]
  },
  {
   "cell_type": "code",
   "execution_count": 32,
   "metadata": {},
   "outputs": [],
   "source": [
    "import mbuild as mb\n",
    "\n",
    "class Methane(mb.Compound):\n",
    "    def __init__(self):\n",
    "        super(Methane, self).__init__()"
   ]
  },
  {
   "cell_type": "markdown",
   "metadata": {},
   "source": [
    "Any \n",
    "\n",
    "The other parts used in building molecules are `Atoms` and `Bonds`. Either of them can be added to a `Compound` using its `add()` method. Let's add a carbon\n",
    "and a hydrogen atom to our `Methane`:\n"
   ]
  },
  {
   "cell_type": "code",
   "execution_count": 2,
   "metadata": {},
   "outputs": [],
   "source": [
    "import mbuild as mb\n",
    "\n",
    "class Methane(mb.Compound):\n",
    "    def __init__(self):\n",
    "        super(Methane, self).__init__()\n",
    "        carbon = mb.Particle(name='C')\n",
    "        self.add(carbon, label='C[$]')\n",
    "\n",
    "        hydrogen = mb.Particle(name='H', pos=[0.11, 0, 0])\n",
    "        self.add(hydrogen, label='HC[$]')"
   ]
  },
  {
   "cell_type": "markdown",
   "metadata": {},
   "source": [
    "By default a created `Atom` will be placed at `0, 0, 0` as indicated by its `pos` attribute.  The `Atom` objects contained in a `Compound` can be referenced via the `atoms` attribute which returns a list of all `Atoms` including those in any sub-compounds.\n",
    "\n",
    "__Note:__ All positions in mBuild are stored in nanometers."
   ]
  },
  {
   "cell_type": "markdown",
   "metadata": {},
   "source": [
    "Any part added to a `Compound` can be given an optional, descriptive string label. If the label ends with the characters `[$]`, a list will be created in the labels. Any subsequent parts added to the `Compound` with the same label prefix will be appended to the list. In the example above, we've labeled the hydrogen as `HC[$]`. So this first part, with the label prefix `HC`, is\n",
    "now referenceable via `self.HC[0]`. The next part added with the label `HC[$]` will be referenceable via `self.HC[1]`.\n",
    "\n",
    "Now let's use these styles of referencing to connect the carbon to the hydrogen. Note that for typical use cases, you will almost never have to explicitly define a bond when using mBuild - this is just to show you what's going on\n",
    "under the hood:"
   ]
  },
  {
   "cell_type": "code",
   "execution_count": 3,
   "metadata": {},
   "outputs": [],
   "source": [
    "import mbuild as mb\n",
    "\n",
    "class Methane(mb.Compound):\n",
    "    def __init__(self):\n",
    "        super(Methane, self).__init__()\n",
    "        carbon = mb.Particle(name='C')\n",
    "        self.add(carbon, label='C[$]')\n",
    "\n",
    "        hydrogen = mb.Particle(name='H', pos=[0.11, 0, 0])\n",
    "        self.add(hydrogen, label='HC[$]')\n",
    "\n",
    "        self.add_bond((self[0], self.HC[0]))"
   ]
  },
  {
   "cell_type": "markdown",
   "metadata": {},
   "source": [
    "As you can see, the carbon is placed in the zero index of the `atoms` attribute. The hydrogen could be referenced via `self.atoms[1]` but since we gave it a fancy label, it's also referenceable via `HC[0]`.\n",
    "\n",
    "Like `Atoms`, `Bonds` also have a descriptive `kind` attribute. By default, `kind` is set to `'{0}-{1}'.format(atom1.name, atom2.name)`.\n",
    "\n",
    "Alright now that we've got the basics, let's finish building our `Methane` and take a look at it:"
   ]
  },
  {
   "cell_type": "code",
   "execution_count": 4,
   "metadata": {},
   "outputs": [],
   "source": [
    "import mbuild as mb\n",
    "\n",
    "class Methane(mb.Compound):\n",
    "    def __init__(self):\n",
    "        super(Methane, self).__init__()\n",
    "        carbon = mb.Particle(name='C')\n",
    "        self.add(carbon, label='C[$]')\n",
    "\n",
    "        hydrogen = mb.Particle(name='H', pos=[0.1, 0, -0.07])\n",
    "        self.add(hydrogen, label='HC[$]')\n",
    "        \n",
    "        self.add_bond((self[0], self.HC[0]))\n",
    "\n",
    "        self.add(mb.Particle(name='H', pos=[-0.1, 0, -0.07]), label='HC[$]')\n",
    "        self.add(mb.Particle(name='H', pos=[0, 0.1, 0.07]), label='HC[$]')\n",
    "        self.add(mb.Particle(name='H', pos=[0, -0.1, 0.07]), label='HC[$]')\n",
    "\n",
    "        self.add_bond((self[0], self.HC[1]))\n",
    "        self.add_bond((self[0], self.HC[2]))\n",
    "        self.add_bond((self[0], self.HC[3]))"
   ]
  },
  {
   "cell_type": "code",
   "execution_count": 5,
   "metadata": {},
   "outputs": [
    {
     "data": {
      "text/html": [
       "<div id=\"molecule_ec66f560-d0ed-478b-9b5d-0cb331aa556d\"></div>\n",
       "           <script type=\"text/javascript\">\n",
       "           require.config({baseUrl: '/',\n",
       "                           paths: {imolecule: ['nbextensions/imolecule.min', 'https://rawgit.com/patrickfuller/imolecule/master/imolecule/js/build/imolecule.min']}});\n",
       "           require(['imolecule'], function () {\n",
       "               var $d = $('#molecule_ec66f560-d0ed-478b-9b5d-0cb331aa556d');\n",
       "               $d.width(400); $d.height(300);\n",
       "               $d.imolecule = jQuery.extend({}, imolecule);\n",
       "               $d.imolecule.create($d, {drawingType: 'ball and stick',\n",
       "                                        cameraType: 'perspective',\n",
       "                                        shader: 'lambert'});\n",
       "               $d.imolecule.addElements({});\n",
       "               $d.imolecule.draw({\"atoms\":[{\"element\":\"C\",\"location\":[0.0,0.0,0.0]},{\"element\":\"H\",\"location\":[1.0,0.0,-0.7000000000000001]},{\"element\":\"H\",\"location\":[-1.0,0.0,-0.7000000000000001]},{\"element\":\"H\",\"location\":[0.0,1.0,0.7000000000000001]},{\"element\":\"H\",\"location\":[0.0,-1.0,0.7000000000000001]}],\"bonds\":[{\"atoms\":[2,0],\"order\":1},{\"atoms\":[4,0],\"order\":1},{\"atoms\":[3,0],\"order\":1},{\"atoms\":[1,0],\"order\":1}],\"name\":\"Methane\"});\n",
       "\n",
       "               $d.resizable({\n",
       "                   aspectRatio: 400 / 300,\n",
       "                   resize: function (evt, ui) {\n",
       "                       $d.imolecule.renderer.setSize(ui.size.width,\n",
       "                                                     ui.size.height);\n",
       "                   }\n",
       "               });\n",
       "           });\n",
       "           </script>"
      ]
     },
     "output_type": "execute_result",
     "metadata": {}
    }
   ],
   "source": [
    "methane = Methane()\n",
    "methane.visualize()"
   ]
  },
  {
   "cell_type": "code",
   "execution_count": null,
   "metadata": {},
   "outputs": [],
   "source": [
    ""
   ]
  }
 ],
 "metadata": {
  "kernelspec": {
   "display_name": "Python 3",
   "language": "python",
   "name": "python3"
  },
  "language_info": {
   "codemirror_mode": {
    "name": "ipython",
    "version": 3.0
   },
   "file_extension": ".py",
   "mimetype": "text/x-python",
   "name": "python",
   "nbconvert_exporter": "python",
   "pygments_lexer": "ipython3",
   "version": "3.4.3"
  }
 },
 "nbformat": 4,
 "nbformat_minor": 0
}