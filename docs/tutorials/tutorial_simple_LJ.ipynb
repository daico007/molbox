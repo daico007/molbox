{
 "cells": [
  {
   "cell_type": "markdown",
   "metadata": {},
   "source": [
    "# Point Particles: Basic system initialization\n",
    "This tutorial focuses on the usage of basic system initialization operations, as applied to simple point particle systems (i.e., generic Lennard-Jones particles rather than specific atoms). \n",
    "\n",
    "The code below defines several point particles in a cubic arrangement. Note, the color and radius associated with a Particle name can be set and passed to the visualize command.  Colors are passed in hex format (see http://www.color-hex.com/color/bfbfbf)."
   ]
  },
  {
   "cell_type": "code",
   "execution_count": null,
   "metadata": {
    "collapsed": false
   },
   "outputs": [],
   "source": [
    "import mbuild as mb\n",
    "\n",
    "class MonoLJ(mb.Compound):\n",
    "    def __init__(self):\n",
    "        super(MonoLJ, self).__init__()\n",
    "        lj_particle1 = mb.Particle(name='LJ', pos=[0, 0, 0])\n",
    "        self.add(lj_particle1)\n",
    "\n",
    "        lj_particle2 = mb.Particle(name='LJ', pos=[1, 0, 0])\n",
    "        self.add(lj_particle2)\n",
    "\n",
    "        lj_particle3 = mb.Particle(name='LJ', pos=[0, 1, 0])\n",
    "        self.add(lj_particle3)\n",
    "\n",
    "        lj_particle4 = mb.Particle(name='LJ', pos=[0, 0, 1])\n",
    "        self.add(lj_particle4)\n",
    "\n",
    "        lj_particle5 = mb.Particle(name='LJ', pos=[1, 0, 1])\n",
    "        self.add(lj_particle5)\n",
    "\n",
    "        lj_particle6 = mb.Particle(name='LJ', pos=[1, 1, 0])\n",
    "        self.add(lj_particle6)\n",
    "\n",
    "        lj_particle7 = mb.Particle(name='LJ', pos=[0, 1, 1])\n",
    "        self.add(lj_particle7)\n",
    "        \n",
    "        lj_particle8 = mb.Particle(name='LJ', pos=[1, 1, 1])\n",
    "        self.add(lj_particle8)\n",
    "\n",
    "\n",
    "monoLJ = MonoLJ()\n",
    "colors = {'LJ': {'color': 0xbfbfbf, 'radius': 5}}\n",
    "monoLJ.visualize(element_properties=colors)"
   ]
  },
  {
   "cell_type": "markdown",
   "metadata": {},
   "source": [
    "While this would work for defining a single molecule or very small system, this would not be efficient for large systems.  Instead, the clone and translate operator can be used to facilitate automation. Below, we simply define a single prototype particle (lj_proto), which we then copy and translate about the system. \n",
    "\n",
    "Note, mBuild provides two different translate operations, \"translate\" and \"translate_to\".   \"translate\" moves a particle by adding the vector the original position, whereas \"translate_to\" move a particle to the specified location in space.  Note, \"translate_to\" maintains the internal spatial relationships of a collection of particles by first shifting the center of mass of the collection of particles to the origin, then translating to the specified location.  Since the lj_proto particle in this example starts at the origin, these two commands produce identical behavior. "
   ]
  },
  {
   "cell_type": "code",
   "execution_count": null,
   "metadata": {
    "collapsed": false
   },
   "outputs": [],
   "source": [
    "import mbuild as mb\n",
    "\n",
    "class MonoLJ(mb.Compound):\n",
    "    def __init__(self):\n",
    "        super(MonoLJ, self).__init__()\n",
    "        lj_proto = mb.Particle(name='LJ', pos=[0, 0, 0])\n",
    "\n",
    "        for i in range(0,2):\n",
    "            for j in range(0,2):\n",
    "                for k in range(0,2):\n",
    "                    lj_particle = mb.clone(lj_proto)\n",
    "                    pos = [i,j,k]\n",
    "                    mb.translate(lj_particle, pos)\n",
    "                    self.add(lj_particle)\n",
    "\n",
    "monoLJ = MonoLJ()\n",
    "colors = {'LJ': {'color': 0xbfbfbf, 'radius': 5}}\n",
    "monoLJ.visualize(element_properties=colors)"
   ]
  },
  {
   "cell_type": "markdown",
   "metadata": {},
   "source": [
    "To simplify this process, mBuild provides several build-in patterning tools, where for example,  Grid3DPattern can be used to perform this same operation.  Grid3DPattern generates a set of points, from 0 to 1, which get stored in the variable \"pattern\".  We need only loop over the points in pattern, cloning, translating, and adding to the system.  Note, because Grid3DPattern defines points between 0 and 1, they must be scaled based on the desired system size, i.e., pattern.scale(2). "
   ]
  },
  {
   "cell_type": "code",
   "execution_count": null,
   "metadata": {
    "collapsed": false
   },
   "outputs": [],
   "source": [
    "import mbuild as mb\n",
    "\n",
    "class MonoLJ(mb.Compound):\n",
    "    def __init__(self):\n",
    "        super(MonoLJ, self).__init__()\n",
    "        lj_proto = mb.Particle(name='LJ', pos=[0, 0, 0])\n",
    "\n",
    "        pattern = mb.Grid3DPattern(2, 2, 2)\n",
    "        pattern.scale(2)\n",
    "\n",
    "        for pos in pattern:\n",
    "            lj_particle = mb.clone(lj_proto)\n",
    "            mb.translate(lj_particle, pos)\n",
    "            self.add(lj_particle)\n",
    "\n",
    "monoLJ = MonoLJ()\n",
    "colors = {'LJ': {'color': 0xbfbfbf, 'radius': 5}}\n",
    "monoLJ.visualize(element_properties=colors)"
   ]
  },
  {
   "cell_type": "markdown",
   "metadata": {},
   "source": [
    "Larger systems can therefore be easily generated by toggling the values given to Grid3DPattern.  Other patterns can also be generated using the same basic code, such as a 2D grid pattern:"
   ]
  },
  {
   "cell_type": "code",
   "execution_count": null,
   "metadata": {
    "collapsed": false,
    "scrolled": true
   },
   "outputs": [],
   "source": [
    "import mbuild as mb\n",
    "\n",
    "class MonoLJ(mb.Compound):\n",
    "    def __init__(self):\n",
    "        super(MonoLJ, self).__init__()\n",
    "        lj_proto = mb.Particle(name='LJ', pos=[0, 0, 0])\n",
    "\n",
    "        pattern = mb.Grid2DPattern(5, 5)\n",
    "        pattern.scale(5)\n",
    "\n",
    "        for pos in pattern:\n",
    "            lj_particle = mb.clone(lj_proto)\n",
    "            mb.translate(lj_particle, pos)\n",
    "            self.add(lj_particle)\n",
    "\n",
    "monoLJ = MonoLJ()\n",
    "colors = {'LJ': {'color': 0xbfbfbf, 'radius': 5}}\n",
    "monoLJ.visualize(element_properties=colors)"
   ]
  },
  {
   "cell_type": "markdown",
   "metadata": {},
   "source": [
    "Points on a sphere can be generated using SpherePattern. Points on a disk using DisKPattern, etc. \n",
    "\n",
    "Note to show both simultaneously, we shift the x-coordinate of Particles in the sphere by -1 (i.e., pos[0]-=1.0) and +1 for the disk (i.e, pos[0]+=1.0).  "
   ]
  },
  {
   "cell_type": "code",
   "execution_count": null,
   "metadata": {
    "collapsed": false
   },
   "outputs": [],
   "source": [
    "import mbuild as mb\n",
    "\n",
    "class MonoLJ(mb.Compound):\n",
    "    def __init__(self):\n",
    "        super(MonoLJ, self).__init__()\n",
    "        lj_proto = mb.Particle(name='LJ', pos=[0, 0, 0])\n",
    "        \n",
    "        pattern_sphere = mb.SpherePattern(200)\n",
    "        pattern_sphere.scale(0.5)\n",
    "        \n",
    "        for pos in pattern_sphere:\n",
    "            lj_particle = mb.clone(lj_proto)\n",
    "            pos[0]-=1.0\n",
    "            mb.translate(lj_particle, pos)\n",
    "            self.add(lj_particle)\n",
    "        \n",
    "        pattern_disk = mb.DiskPattern(200)\n",
    "        pattern_disk.scale(0.5)\n",
    "        for pos in pattern_disk:\n",
    "            lj_particle = mb.clone(lj_proto)\n",
    "            pos[0]+=1.0\n",
    "            mb.translate(lj_particle, pos)\n",
    "            self.add(lj_particle)\n",
    "\n",
    "monoLJ = MonoLJ()\n",
    "colors = {'LJ': {'color': 0xbfbfbf, 'radius': 1.0}}\n",
    "monoLJ.visualize(element_properties=colors)\n"
   ]
  },
  {
   "cell_type": "markdown",
   "metadata": {},
   "source": [
    "We can also take advantage of the hierachical nature of mBuild to accomplish the same task more cleanly.  Below we  create a component that corresponds to the sphere (class SphereLJ), and one that corresponds to the disk (class DiskLJ), and then instantiate and shift each of these individually in the MonoLJ component."
   ]
  },
  {
   "cell_type": "code",
   "execution_count": null,
   "metadata": {
    "collapsed": false
   },
   "outputs": [],
   "source": [
    "import mbuild as mb\n",
    "\n",
    "class SphereLJ(mb.Compound):\n",
    "    def __init__(self):\n",
    "        super(SphereLJ, self).__init__()\n",
    "        lj_proto = mb.Particle(name='LJ', pos=[0, 0, 0])\n",
    "        \n",
    "        pattern_sphere = mb.SpherePattern(200)\n",
    "        pattern_sphere.scale(0.5)\n",
    "        \n",
    "        for pos in pattern_sphere:\n",
    "            lj_particle = mb.clone(lj_proto)\n",
    "            mb.translate(lj_particle, pos)\n",
    "            self.add(lj_particle)\n",
    "\n",
    "class DiskLJ(mb.Compound):\n",
    "    def __init__(self):\n",
    "        super(DiskLJ, self).__init__()\n",
    "        lj_proto = mb.Particle(name='LJ', pos=[0, 0, 0])\n",
    "\n",
    "        pattern_disk = mb.DiskPattern(200)\n",
    "        pattern_disk.scale(0.5)\n",
    "        for pos in pattern_disk:\n",
    "            lj_particle = mb.clone(lj_proto)\n",
    "            mb.translate(lj_particle, pos)\n",
    "            self.add(lj_particle)\n",
    "\n",
    "\n",
    "class MonoLJ(mb.Compound):\n",
    "    def __init__(self):\n",
    "        super(MonoLJ, self).__init__()\n",
    "        \n",
    "        sphere = SphereLJ();\n",
    "        pos=[-1, 0, 0]\n",
    "        mb.translate(sphere, pos)\n",
    "        self.add(sphere)\n",
    "\n",
    "        disk = DiskLJ();\n",
    "        pos=[1, 0, 0]\n",
    "        mb.translate(disk, pos)\n",
    "        self.add(disk)\n",
    "\n",
    "\n",
    "monoLJ = MonoLJ()\n",
    "colors = {'LJ': {'color': 0xbfbfbf, 'radius': 1.0}}\n",
    "monoLJ.visualize(element_properties=colors)\n",
    "\n"
   ]
  },
  {
   "cell_type": "markdown",
   "metadata": {},
   "source": [
    "Again, since mBuild is hierarchical, the pattern functions can be used to generate large systems of any arbitary component.  For example, we can replicate the SphereLJ component on a regular array."
   ]
  },
  {
   "cell_type": "code",
   "execution_count": null,
   "metadata": {
    "collapsed": false
   },
   "outputs": [],
   "source": [
    "import mbuild as mb\n",
    "\n",
    "class SphereLJ(mb.Compound):\n",
    "    def __init__(self):\n",
    "        super(SphereLJ, self).__init__()\n",
    "        lj_proto = mb.Particle(name='LJ', pos=[0, 0, 0])\n",
    "        \n",
    "        pattern_sphere = mb.SpherePattern(13)\n",
    "        pattern_sphere.scale(0.5)\n",
    "        \n",
    "        for pos in pattern_sphere:\n",
    "            lj_particle = mb.clone(lj_proto)\n",
    "            mb.translate(lj_particle, pos)\n",
    "            self.add(lj_particle)\n",
    "class MonoLJ(mb.Compound):\n",
    "    def __init__(self):\n",
    "        super(MonoLJ, self).__init__()\n",
    "        sphere = SphereLJ();\n",
    "\n",
    "        pattern = mb.Grid3DPattern(3, 3, 3)\n",
    "        pattern.scale(10)\n",
    "\n",
    "        for pos in pattern:\n",
    "            lj_sphere = mb.clone(sphere)\n",
    "            mb.translate_to(lj_sphere, pos)\n",
    "            #shift the particle so the center of mass\n",
    "            #of the system is at the origin\n",
    "            mb.translate(lj_sphere, [-5,-5,-5])\n",
    "\n",
    "            self.add(lj_sphere)\n",
    "\n",
    "monoLJ = MonoLJ()\n",
    "colors = {'LJ': {'color': 0xbfbfbf, 'radius': 5}}\n",
    "monoLJ.visualize(element_properties=colors)"
   ]
  },
  {
   "cell_type": "markdown",
   "metadata": {},
   "source": [
    "Several functions exist for rotating compounds. For example, the spin command allows a compound to be rotated, in place, about a specific axis (i.e., it considers the origin for the rotation to lie at the compound's center of mass)."
   ]
  },
  {
   "cell_type": "code",
   "execution_count": 2,
   "metadata": {
    "collapsed": false
   },
   "outputs": [
    {
     "data": {
      "text/html": [
       "<div id=\"molecule_b97d3c2c-ba2b-4ec0-a316-c13bd1ad9e0f\"></div>\n",
       "           <script type=\"text/javascript\">\n",
       "           require.config({baseUrl: '/',\n",
       "                           paths: {imolecule: ['nbextensions/imolecule.min', 'https://rawgit.com/patrickfuller/imolecule/master/imolecule/js/build/imolecule.min']}});\n",
       "           require(['imolecule'], function () {\n",
       "               var $d = $('#molecule_b97d3c2c-ba2b-4ec0-a316-c13bd1ad9e0f');\n",
       "               $d.width(400); $d.height(300);\n",
       "               $d.imolecule = jQuery.extend({}, imolecule);\n",
       "               $d.imolecule.create($d, {drawingType: 'ball and stick',\n",
       "                                        cameraType: 'perspective',\n",
       "                                        shader: 'lambert',\n",
       "                                        showSave: false});\n",
       "               $d.imolecule.addElements({\n",
       "    \"LJ\": {\n",
       "        \"color\": 12566459,\n",
       "        \"radius\": 5\n",
       "    }\n",
       "});\n",
       "               $d.imolecule.draw({\"atoms\":[{\"element\":\"LJ\",\"location\":[-45.980544,-50.783409,-51.407213]},{\"element\":\"LJ\",\"location\":[-47.148971,-48.078214,-47.367819]},{\"element\":\"LJ\",\"location\":[-49.287329,-54.270985,-50.028086]},{\"element\":\"LJ\",\"location\":[-50.455756,-51.565790,-45.988692]},{\"element\":\"LJ\",\"location\":[-49.544244,-48.434210,-54.011308]},{\"element\":\"LJ\",\"location\":[-50.712671,-45.729015,-49.971914]},{\"element\":\"LJ\",\"location\":[-52.851029,-51.921786,-52.632181]},{\"element\":\"LJ\",\"location\":[-54.019456,-49.216591,-48.592787]},{\"element\":\"LJ\",\"location\":[-49.898403,-50.370006,-20.979760]},{\"element\":\"LJ\",\"location\":[-51.357608,-53.949972,-17.808867]},{\"element\":\"LJ\",\"location\":[-52.593193,-47.015710,-18.432839]},{\"element\":\"LJ\",\"location\":[-54.052398,-50.595676,-15.261946]},{\"element\":\"LJ\",\"location\":[-45.947602,-49.404324,-18.071387]},{\"element\":\"LJ\",\"location\":[-47.406807,-52.984290,-14.900494]},{\"element\":\"LJ\",\"location\":[-48.642392,-46.050028,-15.524467]},{\"element\":\"LJ\",\"location\":[-50.101597,-49.629994,-12.353573]},{\"element\":\"LJ\",\"location\":[-46.200971,-51.958925,17.359480]},{\"element\":\"LJ\",\"location\":[-47.832030,-47.890325,19.764921]},{\"element\":\"LJ\",\"location\":[-50.690642,-54.087971,17.916268]},{\"element\":\"LJ\",\"location\":[-52.321701,-50.019372,20.321708]},{\"element\":\"LJ\",\"location\":[-47.678299,-49.980628,13.011625]},{\"element\":\"LJ\",\"location\":[-49.309358,-45.912029,15.417066]},{\"element\":\"LJ\",\"location\":[-52.167970,-52.109675,13.568413]},{\"element\":\"LJ\",\"location\":[-53.799029,-48.041075,15.973853]},{\"element\":\"LJ\",\"location\":[-49.834290,-18.471976,-46.067647]},{\"element\":\"LJ\",\"location\":[-47.342330,-14.369671,-47.468084]},{\"element\":\"LJ\",\"location\":[-53.966678,-16.711553,-48.264071]},{\"element\":\"LJ\",\"location\":[-51.474718,-12.609247,-49.664508]},{\"element\":\"LJ\",\"location\":[-48.525282,-20.724086,-50.335492]},{\"element\":\"LJ\",\"location\":[-46.033322,-16.621780,-51.735929]},{\"element\":\"LJ\",\"location\":[-52.657670,-18.963663,-52.531916]},{\"element\":\"LJ\",\"location\":[-50.165710,-14.861357,-53.932353]},{\"element\":\"LJ\",\"location\":[-48.617355,-19.882848,-19.215092]},{\"element\":\"LJ\",\"location\":[-46.670831,-15.279809,-19.063176]},{\"element\":\"LJ\",\"location\":[-48.724879,-20.002309,-14.217676]},{\"element\":\"LJ\",\"location\":[-46.778356,-15.399271,-14.065760]},{\"element\":\"LJ\",\"location\":[-53.221644,-17.934063,-19.267573]},{\"element\":\"LJ\",\"location\":[-51.275121,-13.331024,-19.115657]},{\"element\":\"LJ\",\"location\":[-53.329169,-18.053525,-14.270157]},{\"element\":\"LJ\",\"location\":[-51.382645,-13.450486,-14.118241]},{\"element\":\"LJ\",\"location\":[-46.008441,-15.701277,18.039794]},{\"element\":\"LJ\",\"location\":[-47.116498,-19.111236,14.554914]},{\"element\":\"LJ\",\"location\":[-49.182363,-12.483967,15.900837]},{\"element\":\"LJ\",\"location\":[-50.290421,-15.893927,12.415957]},{\"element\":\"LJ\",\"location\":[-49.709579,-17.439407,20.917376]},{\"element\":\"LJ\",\"location\":[-50.817637,-20.849366,17.432496]},{\"element\":\"LJ\",\"location\":[-52.883502,-14.222097,18.778419]},{\"element\":\"LJ\",\"location\":[-53.991559,-17.632057,15.293540]},{\"element\":\"LJ\",\"location\":[-46.535524,18.297177,-47.977912]},{\"element\":\"LJ\",\"location\":[-49.630412,14.857337,-46.083403]},{\"element\":\"LJ\",\"location\":[-46.443621,15.822263,-52.321454]},{\"element\":\"LJ\",\"location\":[-49.538509,12.382423,-50.426945]},{\"element\":\"LJ\",\"location\":[-50.461491,20.950910,-49.573055]},{\"element\":\"LJ\",\"location\":[-53.556379,17.511070,-47.678546]},{\"element\":\"LJ\",\"location\":[-50.369588,18.475997,-53.916597]},{\"element\":\"LJ\",\"location\":[-53.464476,15.036156,-52.022088]},{\"element\":\"LJ\",\"location\":[-51.751432,20.620494,-16.889679]},{\"element\":\"LJ\",\"location\":[-53.606422,16.784886,-14.272978]},{\"element\":\"LJ\",\"location\":[-47.174386,19.583803,-15.164594]},{\"element\":\"LJ\",\"location\":[-49.029375,15.748195,-12.547893]},{\"element\":\"LJ\",\"location\":[-50.970625,17.585138,-20.785440]},{\"element\":\"LJ\",\"location\":[-52.825614,13.749531,-18.168739]},{\"element\":\"LJ\",\"location\":[-46.393578,16.548447,-19.060356]},{\"element\":\"LJ\",\"location\":[-48.248568,12.712839,-16.443654]},{\"element\":\"LJ\",\"location\":[-50.388976,18.868868,12.958701]},{\"element\":\"LJ\",\"location\":[-48.334316,20.632803,17.161903]},{\"element\":\"LJ\",\"location\":[-47.867949,14.587966,13.522885]},{\"element\":\"LJ\",\"location\":[-45.813289,16.351901,17.726086]},{\"element\":\"LJ\",\"location\":[-54.186711,16.981432,15.607247]},{\"element\":\"LJ\",\"location\":[-52.132051,18.745367,19.810448]},{\"element\":\"LJ\",\"location\":[-51.665684,12.700530,16.171430]},{\"element\":\"LJ\",\"location\":[-49.611024,14.464465,20.374632]},{\"element\":\"LJ\",\"location\":[-13.885834,-50.277885,-53.307529]},{\"element\":\"LJ\",\"location\":[-18.779805,-51.270638,-53.559512]},{\"element\":\"LJ\",\"location\":[-14.862388,-46.126089,-50.698137]},{\"element\":\"LJ\",\"location\":[-19.756359,-47.118842,-50.950119]},{\"element\":\"LJ\",\"location\":[-13.576974,-52.881158,-49.049881]},{\"element\":\"LJ\",\"location\":[-18.470945,-53.873911,-49.301863]},{\"element\":\"LJ\",\"location\":[-14.553529,-48.729362,-46.440488]},{\"element\":\"LJ\",\"location\":[-19.447499,-49.722115,-46.692471]},{\"element\":\"LJ\",\"location\":[-20.042601,-49.201976,-19.258235]},{\"element\":\"LJ\",\"location\":[-15.328968,-47.785703,-20.139051]},{\"element\":\"LJ\",\"location\":[-18.429992,-53.745992,-17.934826]},{\"element\":\"LJ\",\"location\":[-13.716359,-52.329719,-18.815642]},{\"element\":\"LJ\",\"location\":[-19.616975,-47.670281,-14.517691]},{\"element\":\"LJ\",\"location\":[-14.903342,-46.254008,-15.398507]},{\"element\":\"LJ\",\"location\":[-18.004365,-52.214297,-13.194283]},{\"element\":\"LJ\",\"location\":[-13.290733,-50.798024,-14.075098]},{\"element\":\"LJ\",\"location\":[-15.653623,-51.610016,12.776732]},{\"element\":\"LJ\",\"location\":[-12.471345,-51.069661,16.595256]},{\"element\":\"LJ\",\"location\":[-19.066993,-53.519614,15.891589]},{\"element\":\"LJ\",\"location\":[-15.884716,-52.979259,19.710113]},{\"element\":\"LJ\",\"location\":[-17.448618,-47.020741,13.623220]},{\"element\":\"LJ\",\"location\":[-14.266340,-46.480386,17.441744]},{\"element\":\"LJ\",\"location\":[-20.861989,-48.930339,16.738077]},{\"element\":\"LJ\",\"location\":[-17.679711,-48.389984,20.556601]},{\"element\":\"LJ\",\"location\":[-13.252401,-17.492923,-47.468185]},{\"element\":\"LJ\",\"location\":[-17.948011,-16.866313,-45.868620]},{\"element\":\"LJ\",\"location\":[-14.900483,-20.449923,-51.147855]},{\"element\":\"LJ\",\"location\":[-19.596094,-19.823313,-49.548291]},{\"element\":\"LJ\",\"location\":[-13.737240,-13.510020,-50.451709]},{\"element\":\"LJ\",\"location\":[-18.432850,-12.883411,-48.852145]},{\"element\":\"LJ\",\"location\":[-15.385322,-16.467020,-54.131380]},{\"element\":\"LJ\",\"location\":[-20.080933,-15.840411,-52.531815]},{\"element\":\"LJ\",\"location\":[-13.964458,-17.019537,-20.031715]},{\"element\":\"LJ\",\"location\":[-16.609372,-20.770269,-18.047669]},{\"element\":\"LJ\",\"location\":[-18.008511,-14.083509,-19.872404]},{\"element\":\"LJ\",\"location\":[-20.653425,-17.834241,-17.888358]},{\"element\":\"LJ\",\"location\":[-12.679909,-15.499092,-15.444975]},{\"element\":\"LJ\",\"location\":[-15.324823,-19.249824,-13.460929]},{\"element\":\"LJ\",\"location\":[-16.723962,-12.563065,-15.285664]},{\"element\":\"LJ\",\"location\":[-19.368876,-16.313797,-13.301618]},{\"element\":\"LJ\",\"location\":[-12.500114,-16.112172,17.707039]},{\"element\":\"LJ\",\"location\":[-14.463295,-20.287196,15.779580]},{\"element\":\"LJ\",\"location\":[-15.030113,-13.381471,14.369020]},{\"element\":\"LJ\",\"location\":[-16.993294,-17.556494,12.441561]},{\"element\":\"LJ\",\"location\":[-16.340039,-15.776839,20.891773]},{\"element\":\"LJ\",\"location\":[-18.303220,-19.951862,18.964314]},{\"element\":\"LJ\",\"location\":[-18.870038,-13.046137,17.553753]},{\"element\":\"LJ\",\"location\":[-20.833219,-17.221161,15.626294]},{\"element\":\"LJ\",\"location\":[-12.383452,16.562093,-50.627008]},{\"element\":\"LJ\",\"location\":[-14.953054,20.487913,-48.899268]},{\"element\":\"LJ\",\"location\":[-14.925697,13.545933,-47.554587]},{\"element\":\"LJ\",\"location\":[-17.495298,17.471752,-45.826847]},{\"element\":\"LJ\",\"location\":[-15.838035,15.861581,-54.173153]},{\"element\":\"LJ\",\"location\":[-18.407636,19.787401,-52.445413]},{\"element\":\"LJ\",\"location\":[-18.380280,12.845421,-51.100732]},{\"element\":\"LJ\",\"location\":[-20.949881,16.771241,-49.372992]},{\"element\":\"LJ\",\"location\":[-18.487450,14.515802,-13.379034]},{\"element\":\"LJ\",\"location\":[-13.916568,16.541646,-13.324313]},{\"element\":\"LJ\",\"location\":[-20.307693,18.679148,-15.465482]},{\"element\":\"LJ\",\"location\":[-15.736811,20.704992,-15.410761]},{\"element\":\"LJ\",\"location\":[-17.596522,12.628342,-17.922572]},{\"element\":\"LJ\",\"location\":[-13.025640,14.654185,-17.867852]},{\"element\":\"LJ\",\"location\":[-19.416765,16.791688,-20.009020]},{\"element\":\"LJ\",\"location\":[-14.845883,18.817531,-19.954299]},{\"element\":\"LJ\",\"location\":[-12.658781,16.836833,15.036360]},{\"element\":\"LJ\",\"location\":[-16.647849,14.933835,12.698425]},{\"element\":\"LJ\",\"location\":[-15.372195,20.792881,16.445995]},{\"element\":\"LJ\",\"location\":[-19.361262,18.889883,14.108061]},{\"element\":\"LJ\",\"location\":[-13.972071,14.443451,19.225273]},{\"element\":\"LJ\",\"location\":[-17.961138,12.540452,16.887338]},{\"element\":\"LJ\",\"location\":[-16.685485,18.399499,20.634908]},{\"element\":\"LJ\",\"location\":[-20.674552,16.496500,18.296973]},{\"element\":\"LJ\",\"location\":[16.402392,-46.296897,-47.771282]},{\"element\":\"LJ\",\"location\":[16.831811,-50.853476,-45.758031]},{\"element\":\"LJ\",\"location\":[19.974079,-47.423889,-51.083825]},{\"element\":\"LJ\",\"location\":[20.403498,-51.980468,-49.070573]},{\"element\":\"LJ\",\"location\":[12.929835,-48.019532,-50.929427]},{\"element\":\"LJ\",\"location\":[13.359255,-52.576111,-48.916175]},{\"element\":\"LJ\",\"location\":[16.501522,-49.146524,-54.241969]},{\"element\":\"LJ\",\"location\":[16.930942,-53.703103,-52.228718]},{\"element\":\"LJ\",\"location\":[13.270513,-50.326174,-19.333078]},{\"element\":\"LJ\",\"location\":[13.319801,-47.803294,-15.016523]},{\"element\":\"LJ\",\"location\":[17.705840,-48.355788,-20.535347]},{\"element\":\"LJ\",\"location\":[17.755129,-45.832908,-16.218792]},{\"element\":\"LJ\",\"location\":[15.578205,-54.167092,-17.114541]},{\"element\":\"LJ\",\"location\":[15.627493,-51.644212,-12.797987]},{\"element\":\"LJ\",\"location\":[20.013532,-52.196706,-18.316810]},{\"element\":\"LJ\",\"location\":[20.062821,-49.673826,-14.000255]},{\"element\":\"LJ\",\"location\":[20.322432,-48.189356,15.215133]},{\"element\":\"LJ\",\"location\":[16.295095,-45.688025,16.803815]},{\"element\":\"LJ\",\"location\":[19.981795,-51.243072,19.159596]},{\"element\":\"LJ\",\"location\":[15.954459,-48.741741,20.748277]},{\"element\":\"LJ\",\"location\":[17.378874,-51.258259,12.585056]},{\"element\":\"LJ\",\"location\":[13.351538,-48.756928,14.173738]},{\"element\":\"LJ\",\"location\":[17.038238,-54.311975,16.529519]},{\"element\":\"LJ\",\"location\":[13.010902,-51.810644,18.118200]},{\"element\":\"LJ\",\"location\":[18.850504,-17.626421,-46.386175]},{\"element\":\"LJ\",\"location\":[19.772207,-13.716938,-49.363826]},{\"element\":\"LJ\",\"location\":[13.951740,-16.654692,-46.626718]},{\"element\":\"LJ\",\"location\":[14.873444,-12.745209,-49.604369]},{\"element\":\"LJ\",\"location\":[18.459889,-20.588124,-50.395631]},{\"element\":\"LJ\",\"location\":[19.381593,-16.678641,-53.373282]},{\"element\":\"LJ\",\"location\":[13.561126,-19.616395,-50.636174]},{\"element\":\"LJ\",\"location\":[14.482830,-15.706912,-53.613825]},{\"element\":\"LJ\",\"location\":[15.619533,-13.676422,-19.618267]},{\"element\":\"LJ\",\"location\":[20.225286,-15.447222,-18.811237]},{\"element\":\"LJ\",\"location\":[13.801094,-18.331122,-19.453795]},{\"element\":\"LJ\",\"location\":[18.406848,-20.101922,-18.646765]},{\"element\":\"LJ\",\"location\":[14.926485,-13.231411,-14.686569]},{\"element\":\"LJ\",\"location\":[19.532239,-15.002212,-13.879538]},{\"element\":\"LJ\",\"location\":[13.108047,-17.886111,-14.522096]},{\"element\":\"LJ\",\"location\":[17.713801,-19.656912,-13.715066]},{\"element\":\"LJ\",\"location\":[13.987884,-16.365409,20.055378]},{\"element\":\"LJ\",\"location\":[15.006660,-12.671285,16.843597]},{\"element\":\"LJ\",\"location\":[13.460100,-19.543994,16.232024]},{\"element\":\"LJ\",\"location\":[14.478876,-15.849870,13.020242]},{\"element\":\"LJ\",\"location\":[18.854458,-17.483463,20.313092]},{\"element\":\"LJ\",\"location\":[19.873234,-13.789339,17.101310]},{\"element\":\"LJ\",\"location\":[18.326673,-20.662048,16.489737]},{\"element\":\"LJ\",\"location\":[19.345449,-16.967924,13.277955]},{\"element\":\"LJ\",\"location\":[13.440909,17.107336,-47.145128]},{\"element\":\"LJ\",\"location\":[16.457522,13.135858,-47.502071]},{\"element\":\"LJ\",\"location\":[17.394513,20.144532,-47.525189]},{\"element\":\"LJ\",\"location\":[20.411127,16.173055,-47.882132]},{\"element\":\"LJ\",\"location\":[12.922206,17.160279,-52.117868]},{\"element\":\"LJ\",\"location\":[15.938820,13.188801,-52.474811]},{\"element\":\"LJ\",\"location\":[16.875811,20.197475,-52.497929]},{\"element\":\"LJ\",\"location\":[19.892425,16.225998,-52.854872]},{\"element\":\"LJ\",\"location\":[18.462489,14.793179,-20.132942]},{\"element\":\"LJ\",\"location\":[20.101457,18.976308,-17.938582]},{\"element\":\"LJ\",\"location\":[17.924937,12.650743,-15.647297]},{\"element\":\"LJ\",\"location\":[19.563905,16.833872,-13.452938]},{\"element\":\"LJ\",\"location\":[13.769428,16.499461,-19.880395]},{\"element\":\"LJ\",\"location\":[15.408396,20.682590,-17.686036]},{\"element\":\"LJ\",\"location\":[13.231876,14.357025,-15.394751]},{\"element\":\"LJ\",\"location\":[14.870844,18.540155,-13.200391]},{\"element\":\"LJ\",\"location\":[17.413924,13.699383,19.730461]},{\"element\":\"LJ\",\"location\":[13.678637,17.022807,19.780321]},{\"element\":\"LJ\",\"location\":[16.468263,12.708673,14.921696]},{\"element\":\"LJ\",\"location\":[12.732976,16.032097,14.971556]},{\"element\":\"LJ\",\"location\":[20.600357,17.301236,18.361777]},{\"element\":\"LJ\",\"location\":[16.865071,20.624660,18.411637]},{\"element\":\"LJ\",\"location\":[19.654696,16.310526,13.553012]},{\"element\":\"LJ\",\"location\":[15.919409,19.633950,13.602872]}],\"bonds\":[],\"name\":\"MonoLJ\"});\n",
       "\n",
       "               $d.resizable({\n",
       "                   aspectRatio: 400 / 300,\n",
       "                   resize: function (evt, ui) {\n",
       "                       $d.imolecule.renderer.setSize(ui.size.width,\n",
       "                                                     ui.size.height);\n",
       "                   }\n",
       "               });\n",
       "           });\n",
       "           </script>"
      ],
      "text/plain": [
       "<IPython.core.display.HTML object>"
      ]
     },
     "metadata": {},
     "output_type": "display_data"
    }
   ],
   "source": [
    "import mbuild as mb\n",
    "import random\n",
    "from numpy import pi\n",
    "\n",
    "\n",
    "class CubeLJ(mb.Compound):\n",
    "    def __init__(self):\n",
    "        super(CubeLJ, self).__init__()\n",
    "        lj_proto = mb.Particle(name='LJ', pos=[0, 0, 0])\n",
    "        \n",
    "        pattern = mb.Grid3DPattern(2, 2, 2)\n",
    "        pattern.scale(1)\n",
    "\n",
    "        for pos in pattern:\n",
    "            lj_particle = mb.clone(lj_proto)\n",
    "            mb.translate(lj_particle, pos)\n",
    "            self.add(lj_particle)\n",
    "            \n",
    "class MonoLJ(mb.Compound):\n",
    "    def __init__(self):\n",
    "        super(MonoLJ, self).__init__()\n",
    "        cube_proto = CubeLJ();\n",
    "\n",
    "        pattern = mb.Grid3DPattern(3, 3, 3)\n",
    "        pattern.scale(10)\n",
    "        rnd = random.Random()\n",
    "        rnd.seed(123)\n",
    "        \n",
    "        for pos in pattern:\n",
    "            lj_cube = mb.clone(cube_proto)\n",
    "            mb.translate_to(lj_cube, pos)\n",
    "            #shift the particle so the center of mass\n",
    "            #of the system is at the origin\n",
    "            mb.translate(lj_cube, [-5,-5,-5])\n",
    "            mb.spin_x(lj_cube, rnd.uniform(0, 2 * pi))\n",
    "            mb.spin_y(lj_cube, rnd.uniform(0, 2 * pi))\n",
    "            mb.spin_z(lj_cube, rnd.uniform(0, 2 * pi))\n",
    "\n",
    "            self.add(lj_cube)\n",
    "\n",
    "monoLJ = MonoLJ()\n",
    "colors = {'LJ': {'color': 0xbfbfbb, 'radius': 5}}\n",
    "monoLJ.visualize(element_properties=colors)"
   ]
  },
  {
   "cell_type": "markdown",
   "metadata": {},
   "source": [
    "Configurations can be dumped to file using the save command; this takes advantage of MDTraj and supports a range of file formats (see http://MDTraj.org). "
   ]
  },
  {
   "cell_type": "code",
   "execution_count": null,
   "metadata": {
    "collapsed": true
   },
   "outputs": [],
   "source": [
    "#save as xyz file\n",
    "monoLJ.save('output.xyz')\n",
    "#save as mol2\n",
    "monoLJ.save('output.mol2')"
   ]
  }
 ],
 "metadata": {
  "kernelspec": {
   "display_name": "Python 2",
   "language": "python",
   "name": "python2"
  },
  "language_info": {
   "codemirror_mode": {
    "name": "ipython",
    "version": 2
   },
   "file_extension": ".py",
   "mimetype": "text/x-python",
   "name": "python",
   "nbconvert_exporter": "python",
   "pygments_lexer": "ipython2",
   "version": "2.7.10"
  }
 },
 "nbformat": 4,
 "nbformat_minor": 0
}
