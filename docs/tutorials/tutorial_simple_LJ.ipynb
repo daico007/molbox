{
 "cells": [
  {
   "cell_type": "markdown",
   "metadata": {},
   "source": [
    "# Point Particles: Basic system initialization\n",
    "This tutorial focuses on the usage of basic system initialization operations, as applied to simple point particle systems (i.e., generic Lennard-Jones particles rather than specific atoms). \n",
    "\n",
    "The code below defines several point particles in a cubic arrangement. Note, the color and radius associated with a Particle name can be set and passed to the visualize command.  Colors are passed in hex format (see http://www.color-hex.com/color/bfbfbf)."
   ]
  },
  {
   "cell_type": "code",
   "execution_count": 3,
   "metadata": {
    "collapsed": false
   },
   "outputs": [
    {
     "data": {
      "text/html": [
       "<div id=\"molecule_80f6eb6e-973b-4f2f-aac1-dfee3a9683e5\"></div>\n",
       "           <script type=\"text/javascript\">\n",
       "           require.config({baseUrl: '/',\n",
       "                           paths: {imolecule: ['nbextensions/imolecule.min', 'https://rawgit.com/patrickfuller/imolecule/master/imolecule/js/build/imolecule.min']}});\n",
       "           require(['imolecule'], function () {\n",
       "               var $d = $('#molecule_80f6eb6e-973b-4f2f-aac1-dfee3a9683e5');\n",
       "               $d.width(400); $d.height(300);\n",
       "               $d.imolecule = jQuery.extend({}, imolecule);\n",
       "               $d.imolecule.create($d, {drawingType: 'ball and stick',\n",
       "                                        cameraType: 'perspective',\n",
       "                                        shader: 'lambert',\n",
       "                                        showSave: false});\n",
       "               $d.imolecule.addElements({\n",
       "    \"LJ\": {\n",
       "        \"color\": 12566463,\n",
       "        \"radius\": 5\n",
       "    }\n",
       "});\n",
       "               $d.imolecule.draw({\"atoms\":[{\"element\":\"LJ\",\"location\":[0.000000,0.000000,0.000000]},{\"element\":\"LJ\",\"location\":[10.000000,0.000000,0.000000]},{\"element\":\"LJ\",\"location\":[0.000000,10.000000,0.000000]},{\"element\":\"LJ\",\"location\":[0.000000,0.000000,10.000000]},{\"element\":\"LJ\",\"location\":[10.000000,0.000000,10.000000]},{\"element\":\"LJ\",\"location\":[10.000000,10.000000,0.000000]},{\"element\":\"LJ\",\"location\":[0.000000,10.000000,10.000000]},{\"element\":\"LJ\",\"location\":[10.000000,10.000000,10.000000]}],\"bonds\":[],\"name\":\"MonoLJ\"});\n",
       "\n",
       "               $d.resizable({\n",
       "                   aspectRatio: 400 / 300,\n",
       "                   resize: function (evt, ui) {\n",
       "                       $d.imolecule.renderer.setSize(ui.size.width,\n",
       "                                                     ui.size.height);\n",
       "                   }\n",
       "               });\n",
       "           });\n",
       "           </script>"
      ],
      "text/plain": [
       "<IPython.core.display.HTML object>"
      ]
     },
     "metadata": {},
     "output_type": "display_data"
    }
   ],
   "source": [
    "import mbuild as mb\n",
    "\n",
    "class MonoLJ(mb.Compound):\n",
    "    def __init__(self):\n",
    "        super(MonoLJ, self).__init__()\n",
    "        lj_particle1 = mb.Particle(name='LJ', pos=[0, 0, 0])\n",
    "        self.add(lj_particle1)\n",
    "\n",
    "        lj_particle2 = mb.Particle(name='LJ', pos=[1, 0, 0])\n",
    "        self.add(lj_particle2)\n",
    "\n",
    "        lj_particle3 = mb.Particle(name='LJ', pos=[0, 1, 0])\n",
    "        self.add(lj_particle3)\n",
    "\n",
    "        lj_particle4 = mb.Particle(name='LJ', pos=[0, 0, 1])\n",
    "        self.add(lj_particle4)\n",
    "\n",
    "        lj_particle5 = mb.Particle(name='LJ', pos=[1, 0, 1])\n",
    "        self.add(lj_particle5)\n",
    "\n",
    "        lj_particle6 = mb.Particle(name='LJ', pos=[1, 1, 0])\n",
    "        self.add(lj_particle6)\n",
    "\n",
    "        lj_particle7 = mb.Particle(name='LJ', pos=[0, 1, 1])\n",
    "        self.add(lj_particle7)\n",
    "        \n",
    "        lj_particle8 = mb.Particle(name='LJ', pos=[1, 1, 1])\n",
    "        self.add(lj_particle8)\n",
    "\n",
    "\n",
    "monoLJ = MonoLJ()\n",
    "colors = {'LJ': {'color': 0xbfbfbf, 'radius': 5}}\n",
    "monoLJ.visualize(element_properties=colors)"
   ]
  },
  {
   "cell_type": "markdown",
   "metadata": {},
   "source": [
    "While this would work for defining a single molecule or very small system, this would not be efficient for large systems.  Instead, the clone and translate operator can be used to facilitate automation. Below, we simply define a single prototype particle (lj_proto), which we then copy and translate about the system. \n",
    "\n",
    "Note, mBuild provides two different translate operations, \"translate\" and \"translate_to\".   \"translate\" moves a particle by adding the vector the original position, whereas \"translate_to\" move a particle to the specified location in space.  Note, \"translate_to\" maintains the internal spatial relationships of a collection of particles by first shifting the center of mass of the collection of particles to the origin, then translating to the specified location.  Since the lj_proto particle in this example starts at the origin, these two commands produce identical behavior. "
   ]
  },
  {
   "cell_type": "code",
   "execution_count": 4,
   "metadata": {
    "collapsed": false
   },
   "outputs": [
    {
     "data": {
      "text/html": [
       "<div id=\"molecule_ab27c86e-c3f5-4418-8a01-ac8a9c37be57\"></div>\n",
       "           <script type=\"text/javascript\">\n",
       "           require.config({baseUrl: '/',\n",
       "                           paths: {imolecule: ['nbextensions/imolecule.min', 'https://rawgit.com/patrickfuller/imolecule/master/imolecule/js/build/imolecule.min']}});\n",
       "           require(['imolecule'], function () {\n",
       "               var $d = $('#molecule_ab27c86e-c3f5-4418-8a01-ac8a9c37be57');\n",
       "               $d.width(400); $d.height(300);\n",
       "               $d.imolecule = jQuery.extend({}, imolecule);\n",
       "               $d.imolecule.create($d, {drawingType: 'ball and stick',\n",
       "                                        cameraType: 'perspective',\n",
       "                                        shader: 'lambert',\n",
       "                                        showSave: false});\n",
       "               $d.imolecule.addElements({\n",
       "    \"LJ\": {\n",
       "        \"color\": 12566463,\n",
       "        \"radius\": 5\n",
       "    }\n",
       "});\n",
       "               $d.imolecule.draw({\"atoms\":[{\"element\":\"LJ\",\"location\":[0.000000,0.000000,0.000000]},{\"element\":\"LJ\",\"location\":[0.000000,0.000000,10.000000]},{\"element\":\"LJ\",\"location\":[0.000000,10.000000,0.000000]},{\"element\":\"LJ\",\"location\":[0.000000,10.000000,10.000000]},{\"element\":\"LJ\",\"location\":[10.000000,0.000000,0.000000]},{\"element\":\"LJ\",\"location\":[10.000000,0.000000,10.000000]},{\"element\":\"LJ\",\"location\":[10.000000,10.000000,0.000000]},{\"element\":\"LJ\",\"location\":[10.000000,10.000000,10.000000]}],\"bonds\":[],\"name\":\"MonoLJ\"});\n",
       "\n",
       "               $d.resizable({\n",
       "                   aspectRatio: 400 / 300,\n",
       "                   resize: function (evt, ui) {\n",
       "                       $d.imolecule.renderer.setSize(ui.size.width,\n",
       "                                                     ui.size.height);\n",
       "                   }\n",
       "               });\n",
       "           });\n",
       "           </script>"
      ],
      "text/plain": [
       "<IPython.core.display.HTML object>"
      ]
     },
     "metadata": {},
     "output_type": "display_data"
    }
   ],
   "source": [
    "import mbuild as mb\n",
    "\n",
    "class MonoLJ(mb.Compound):\n",
    "    def __init__(self):\n",
    "        super(MonoLJ, self).__init__()\n",
    "        lj_proto = mb.Particle(name='LJ', pos=[0, 0, 0])\n",
    "\n",
    "        for i in range(0,2):\n",
    "            for j in range(0,2):\n",
    "                for k in range(0,2):\n",
    "                    lj_particle = mb.clone(lj_proto)\n",
    "                    pos = [i,j,k]\n",
    "                    mb.translate(lj_particle, pos)\n",
    "                    self.add(lj_particle)\n",
    "\n",
    "monoLJ = MonoLJ()\n",
    "colors = {'LJ': {'color': 0xbfbfbf, 'radius': 5}}\n",
    "monoLJ.visualize(element_properties=colors)"
   ]
  },
  {
   "cell_type": "markdown",
   "metadata": {},
   "source": [
    "To simplify this process, mBuild provides several build-in patterning tools, where for example,  Grid3DPattern can be used to perform this same operation.  Grid3DPattern generates a set of points, from 0 to 1, which get stored in the variable \"pattern\".  We need only loop over the points in pattern, cloning, translating, and adding to the system.  Note, because Grid3DPattern defines points between 0 and 1, they must be scaled based on the desired system size, i.e., pattern.scale(2). "
   ]
  },
  {
   "cell_type": "code",
   "execution_count": 5,
   "metadata": {
    "collapsed": false
   },
   "outputs": [
    {
     "data": {
      "text/html": [
       "<div id=\"molecule_8fb3654a-a033-4966-80ef-52866a268656\"></div>\n",
       "           <script type=\"text/javascript\">\n",
       "           require.config({baseUrl: '/',\n",
       "                           paths: {imolecule: ['nbextensions/imolecule.min', 'https://rawgit.com/patrickfuller/imolecule/master/imolecule/js/build/imolecule.min']}});\n",
       "           require(['imolecule'], function () {\n",
       "               var $d = $('#molecule_8fb3654a-a033-4966-80ef-52866a268656');\n",
       "               $d.width(400); $d.height(300);\n",
       "               $d.imolecule = jQuery.extend({}, imolecule);\n",
       "               $d.imolecule.create($d, {drawingType: 'ball and stick',\n",
       "                                        cameraType: 'perspective',\n",
       "                                        shader: 'lambert',\n",
       "                                        showSave: false});\n",
       "               $d.imolecule.addElements({\n",
       "    \"LJ\": {\n",
       "        \"color\": 12566463,\n",
       "        \"radius\": 5\n",
       "    }\n",
       "});\n",
       "               $d.imolecule.draw({\"atoms\":[{\"element\":\"LJ\",\"location\":[0.000000,0.000000,0.000000]},{\"element\":\"LJ\",\"location\":[0.000000,0.000000,10.000000]},{\"element\":\"LJ\",\"location\":[0.000000,10.000000,0.000000]},{\"element\":\"LJ\",\"location\":[0.000000,10.000000,10.000000]},{\"element\":\"LJ\",\"location\":[10.000000,0.000000,0.000000]},{\"element\":\"LJ\",\"location\":[10.000000,0.000000,10.000000]},{\"element\":\"LJ\",\"location\":[10.000000,10.000000,0.000000]},{\"element\":\"LJ\",\"location\":[10.000000,10.000000,10.000000]}],\"bonds\":[],\"name\":\"MonoLJ\"});\n",
       "\n",
       "               $d.resizable({\n",
       "                   aspectRatio: 400 / 300,\n",
       "                   resize: function (evt, ui) {\n",
       "                       $d.imolecule.renderer.setSize(ui.size.width,\n",
       "                                                     ui.size.height);\n",
       "                   }\n",
       "               });\n",
       "           });\n",
       "           </script>"
      ],
      "text/plain": [
       "<IPython.core.display.HTML object>"
      ]
     },
     "metadata": {},
     "output_type": "display_data"
    }
   ],
   "source": [
    "import mbuild as mb\n",
    "\n",
    "class MonoLJ(mb.Compound):\n",
    "    def __init__(self):\n",
    "        super(MonoLJ, self).__init__()\n",
    "        lj_proto = mb.Particle(name='LJ', pos=[0, 0, 0])\n",
    "\n",
    "        pattern = mb.Grid3DPattern(2, 2, 2)\n",
    "        pattern.scale(2)\n",
    "\n",
    "        for pos in pattern:\n",
    "            lj_particle = mb.clone(lj_proto)\n",
    "            mb.translate(lj_particle, pos)\n",
    "            self.add(lj_particle)\n",
    "\n",
    "monoLJ = MonoLJ()\n",
    "colors = {'LJ': {'color': 0xbfbfbf, 'radius': 5}}\n",
    "monoLJ.visualize(element_properties=colors)"
   ]
  },
  {
   "cell_type": "markdown",
   "metadata": {},
   "source": [
    "Larger systems can therefore be easily generated by toggling the values given to Grid3DPattern.  Other patterns can also be generated using the same basic code, such as a 2D grid pattern:"
   ]
  },
  {
   "cell_type": "code",
   "execution_count": 6,
   "metadata": {
    "collapsed": false,
    "scrolled": true
   },
   "outputs": [
    {
     "data": {
      "text/html": [
       "<div id=\"molecule_f476321e-3454-4bef-8898-2caac6dad5b6\"></div>\n",
       "           <script type=\"text/javascript\">\n",
       "           require.config({baseUrl: '/',\n",
       "                           paths: {imolecule: ['nbextensions/imolecule.min', 'https://rawgit.com/patrickfuller/imolecule/master/imolecule/js/build/imolecule.min']}});\n",
       "           require(['imolecule'], function () {\n",
       "               var $d = $('#molecule_f476321e-3454-4bef-8898-2caac6dad5b6');\n",
       "               $d.width(400); $d.height(300);\n",
       "               $d.imolecule = jQuery.extend({}, imolecule);\n",
       "               $d.imolecule.create($d, {drawingType: 'ball and stick',\n",
       "                                        cameraType: 'perspective',\n",
       "                                        shader: 'lambert',\n",
       "                                        showSave: false});\n",
       "               $d.imolecule.addElements({\n",
       "    \"LJ\": {\n",
       "        \"color\": 12566463,\n",
       "        \"radius\": 5\n",
       "    }\n",
       "});\n",
       "               $d.imolecule.draw({\"atoms\":[{\"element\":\"LJ\",\"location\":[0.000000,0.000000,0.000000]},{\"element\":\"LJ\",\"location\":[0.000000,10.000000,0.000000]},{\"element\":\"LJ\",\"location\":[0.000000,20.000000,0.000000]},{\"element\":\"LJ\",\"location\":[0.000000,30.000000,0.000000]},{\"element\":\"LJ\",\"location\":[0.000000,40.000000,0.000000]},{\"element\":\"LJ\",\"location\":[10.000000,0.000000,0.000000]},{\"element\":\"LJ\",\"location\":[10.000000,10.000000,0.000000]},{\"element\":\"LJ\",\"location\":[10.000000,20.000000,0.000000]},{\"element\":\"LJ\",\"location\":[10.000000,30.000000,0.000000]},{\"element\":\"LJ\",\"location\":[10.000000,40.000000,0.000000]},{\"element\":\"LJ\",\"location\":[20.000000,0.000000,0.000000]},{\"element\":\"LJ\",\"location\":[20.000000,10.000000,0.000000]},{\"element\":\"LJ\",\"location\":[20.000000,20.000000,0.000000]},{\"element\":\"LJ\",\"location\":[20.000000,30.000000,0.000000]},{\"element\":\"LJ\",\"location\":[20.000000,40.000000,0.000000]},{\"element\":\"LJ\",\"location\":[30.000000,0.000000,0.000000]},{\"element\":\"LJ\",\"location\":[30.000000,10.000000,0.000000]},{\"element\":\"LJ\",\"location\":[30.000000,20.000000,0.000000]},{\"element\":\"LJ\",\"location\":[30.000000,30.000000,0.000000]},{\"element\":\"LJ\",\"location\":[30.000000,40.000000,0.000000]},{\"element\":\"LJ\",\"location\":[40.000000,0.000000,0.000000]},{\"element\":\"LJ\",\"location\":[40.000000,10.000000,0.000000]},{\"element\":\"LJ\",\"location\":[40.000000,20.000000,0.000000]},{\"element\":\"LJ\",\"location\":[40.000000,30.000000,0.000000]},{\"element\":\"LJ\",\"location\":[40.000000,40.000000,0.000000]}],\"bonds\":[],\"name\":\"MonoLJ\"});\n",
       "\n",
       "               $d.resizable({\n",
       "                   aspectRatio: 400 / 300,\n",
       "                   resize: function (evt, ui) {\n",
       "                       $d.imolecule.renderer.setSize(ui.size.width,\n",
       "                                                     ui.size.height);\n",
       "                   }\n",
       "               });\n",
       "           });\n",
       "           </script>"
      ],
      "text/plain": [
       "<IPython.core.display.HTML object>"
      ]
     },
     "metadata": {},
     "output_type": "display_data"
    }
   ],
   "source": [
    "import mbuild as mb\n",
    "\n",
    "class MonoLJ(mb.Compound):\n",
    "    def __init__(self):\n",
    "        super(MonoLJ, self).__init__()\n",
    "        lj_proto = mb.Particle(name='LJ', pos=[0, 0, 0])\n",
    "\n",
    "        pattern = mb.Grid2DPattern(5, 5)\n",
    "        pattern.scale(5)\n",
    "\n",
    "        for pos in pattern:\n",
    "            lj_particle = mb.clone(lj_proto)\n",
    "            mb.translate(lj_particle, pos)\n",
    "            self.add(lj_particle)\n",
    "\n",
    "monoLJ = MonoLJ()\n",
    "colors = {'LJ': {'color': 0xbfbfbf, 'radius': 5}}\n",
    "monoLJ.visualize(element_properties=colors)"
   ]
  },
  {
   "cell_type": "markdown",
   "metadata": {},
   "source": [
    "Points on a sphere can be generated using SpherePattern. Points on a disk using DisKPattern, etc. \n",
    "\n",
    "Note to show both simultaneously, we shift the x-coordinate of Particles in the sphere by -1 (i.e., pos[0]-=1.0) and +1 for the disk (i.e, pos[0]+=1.0).  "
   ]
  },
  {
   "cell_type": "code",
   "execution_count": 7,
   "metadata": {
    "collapsed": false
   },
   "outputs": [
    {
     "data": {
      "text/html": [
       "<div id=\"molecule_ffc25cf4-c4aa-488f-8c70-417ee89da5a0\"></div>\n",
       "           <script type=\"text/javascript\">\n",
       "           require.config({baseUrl: '/',\n",
       "                           paths: {imolecule: ['nbextensions/imolecule.min', 'https://rawgit.com/patrickfuller/imolecule/master/imolecule/js/build/imolecule.min']}});\n",
       "           require(['imolecule'], function () {\n",
       "               var $d = $('#molecule_ffc25cf4-c4aa-488f-8c70-417ee89da5a0');\n",
       "               $d.width(400); $d.height(300);\n",
       "               $d.imolecule = jQuery.extend({}, imolecule);\n",
       "               $d.imolecule.create($d, {drawingType: 'ball and stick',\n",
       "                                        cameraType: 'perspective',\n",
       "                                        shader: 'lambert',\n",
       "                                        showSave: false});\n",
       "               $d.imolecule.addElements({\n",
       "    \"LJ\": {\n",
       "        \"color\": 12566463,\n",
       "        \"radius\": 1.000000\n",
       "    }\n",
       "});\n",
       "               $d.imolecule.draw({\"atoms\":[{\"element\":\"LJ\",\"location\":[-9.500625,0.000000,-4.975000]},{\"element\":\"LJ\",\"location\":[-10.636181,-0.582794,-4.925000]},{\"element\":\"LJ\",\"location\":[-9.902868,1.106770,-4.875000]},{\"element\":\"LJ\",\"location\":[-9.202185,-1.040609,-4.825000]},{\"element\":\"LJ\",\"location\":[-11.460359,0.258317,-4.775000]},{\"element\":\"LJ\",\"location\":[-8.620163,0.877739,-4.725000]},{\"element\":\"LJ\",\"location\":[-10.460340,-1.712443,-4.675000]},{\"element\":\"LJ\",\"location\":[-10.875648,1.686006,-4.625000]},{\"element\":\"LJ\",\"location\":[-8.105136,-0.692001,-4.575000]},{\"element\":\"LJ\",\"location\":[-11.966136,-0.811593,-4.525000]},{\"element\":\"LJ\",\"location\":[-9.054683,2.020087,-4.475000]},{\"element\":\"LJ\",\"location\":[-9.303281,-2.221251,-4.425000]},{\"element\":\"LJ\",\"location\":[-12.094343,1.213715,-4.375000]},{\"element\":\"LJ\",\"location\":[-7.549658,0.538701,-4.325000]},{\"element\":\"LJ\",\"location\":[-11.491391,-2.121350,-4.275000]},{\"element\":\"LJ\",\"location\":[-10.343616,2.651660,-4.225000]},{\"element\":\"LJ\",\"location\":[-7.896260,-1.773035,-4.175000]},{\"element\":\"LJ\",\"location\":[-12.823251,-0.116750,-4.125000]},{\"element\":\"LJ\",\"location\":[-7.946305,2.043701,-4.075000]},{\"element\":\"LJ\",\"location\":[-10.137021,-2.963208,-4.025000]},{\"element\":\"LJ\",\"location\":[-11.943301,2.328724,-3.975000]},{\"element\":\"LJ\",\"location\":[-6.930183,-0.413039,-3.925000]},{\"element\":\"LJ\",\"location\":[-12.593753,-1.804666,-3.875000]},{\"element\":\"LJ\",\"location\":[-9.293237,3.141633,-3.825000]},{\"element\":\"LJ\",\"location\":[-8.369931,-2.844688,-3.775000]},{\"element\":\"LJ\",\"location\":[-13.177537,1.013721,-3.725000]},{\"element\":\"LJ\",\"location\":[-6.922283,1.421983,-3.675000]},{\"element\":\"LJ\",\"location\":[-11.329496,-3.176762,-3.625000]},{\"element\":\"LJ\",\"location\":[-11.183101,3.289323,-3.575000]},{\"element\":\"LJ\",\"location\":[-6.861086,-1.649725,-3.525000]},{\"element\":\"LJ\",\"location\":[-13.476304,-0.916343,-3.475000]},{\"element\":\"LJ\",\"location\":[-8.029882,3.063986,-3.425000]},{\"element\":\"LJ\",\"location\":[-9.375156,-3.635787,-3.375000]},{\"element\":\"LJ\",\"location\":[-12.952358,2.286472,-3.325000]},{\"element\":\"LJ\",\"location\":[-6.234755,0.311943,-3.275000]},{\"element\":\"LJ\",\"location\":[-12.594703,-2.804798,-3.225000]},{\"element\":\"LJ\",\"location\":[-9.981157,3.862515,-3.175000]},{\"element\":\"LJ\",\"location\":[-7.377549,-2.890869,-3.125000]},{\"element\":\"LJ\",\"location\":[-13.925811,0.363843,-3.075000]},{\"element\":\"LJ\",\"location\":[-6.828795,2.406831,-3.025000]},{\"element\":\"LJ\",\"location\":[-10.719269,-3.953736,-2.975000]},{\"element\":\"LJ\",\"location\":[-12.159804,3.432145,-2.925000]},{\"element\":\"LJ\",\"location\":[-6.054712,-1.081240,-2.875000]},{\"element\":\"LJ\",\"location\":[-13.670360,-1.883568,-2.825000]},{\"element\":\"LJ\",\"location\":[-8.554174,3.899867,-2.775000]},{\"element\":\"LJ\",\"location\":[-8.419369,-3.882780,-2.725000]},{\"element\":\"LJ\",\"location\":[-13.817278,1.809079,-2.675000]},{\"element\":\"LJ\",\"location\":[-5.933379,1.253783,-2.625000]},{\"element\":\"LJ\",\"location\":[-12.167073,-3.697725,-2.575000]},{\"element\":\"LJ\",\"location\":[-10.906070,4.219409,-2.525000]},{\"element\":\"LJ\",\"location\":[-6.458188,-2.515937,-2.475000]},{\"element\":\"LJ\",\"location\":[-14.339004,-0.540762,-2.425000]},{\"element\":\"LJ\",\"location\":[-7.148100,3.350529,-2.375000]},{\"element\":\"LJ\",\"location\":[-9.838682,-4.423613,-2.325000]},{\"element\":\"LJ\",\"location\":[-13.125241,3.171316,-2.275000]},{\"element\":\"LJ\",\"location\":[-5.528189,-0.228647,-2.225000]},{\"element\":\"LJ\",\"location\":[-13.470710,-2.867673,-2.175000]},{\"element\":\"LJ\",\"location\":[-9.374601,4.482550,-2.125000]},{\"element\":\"LJ\",\"location\":[-7.420107,-3.746802,-2.075000]},{\"element\":\"LJ\",\"location\":[-14.455165,1.025123,-2.025000]},{\"element\":\"LJ\",\"location\":[-6.003452,2.264284,-1.975000]},{\"element\":\"LJ\",\"location\":[-11.423963,-4.389386,-1.925000]},{\"element\":\"LJ\",\"location\":[-11.923526,4.217158,-1.875000]},{\"element\":\"LJ\",\"location\":[-5.714670,-1.818056,-1.825000]},{\"element\":\"LJ\",\"location\":[-14.406134,-1.560562,-1.775000]},{\"element\":\"LJ\",\"location\":[-7.796426,4.143506,-1.725000]},{\"element\":\"LJ\",\"location\":[-8.821426,-4.561287,-1.675000]},{\"element\":\"LJ\",\"location\":[-13.964805,2.576761,-1.625000]},{\"element\":\"LJ\",\"location\":[-5.319241,0.780943,-1.575000]},{\"element\":\"LJ\",\"location\":[-12.933972,-3.750491,-1.525000]},{\"element\":\"LJ\",\"location\":[-10.371223,4.763042,-1.475000]},{\"element\":\"LJ\",\"location\":[-6.497812,-3.271705,-1.425000]},{\"element\":\"LJ\",\"location\":[-14.806992,0.046901,-1.375000]},{\"element\":\"LJ\",\"location\":[-6.413362,3.221863,-1.325000]},{\"element\":\"LJ\",\"location\":[-10.469646,-4.811840,-1.275000]},{\"element\":\"LJ\",\"location\":[-12.911803,3.875665,-1.225000]},{\"element\":\"LJ\",\"location\":[-5.222802,-0.893171,-1.175000]},{\"element\":\"LJ\",\"location\":[-14.135918,-2.574599,-1.125000]},{\"element\":\"LJ\",\"location\":[-8.686386,4.703062,-1.075000]},{\"element\":\"LJ\",\"location\":[-7.786888,-4.364804,-1.025000]},{\"element\":\"LJ\",\"location\":[-14.589815,1.727129,-0.975000]},{\"element\":\"LJ\",\"location\":[-5.439974,1.830448,-0.925000]},{\"element\":\"LJ\",\"location\":[-12.129930,-4.438218,-0.875000]},{\"element\":\"LJ\",\"location\":[-11.429930,4.719605,-0.825000]},{\"element\":\"LJ\",\"location\":[-5.750594,-2.518318,-0.775000]},{\"element\":\"LJ\",\"location\":[-14.841903,-1.015060,-0.725000]},{\"element\":\"LJ\",\"location\":[-7.111272,4.024876,-0.675000]},{\"element\":\"LJ\",\"location\":[-9.410515,-4.925635,-0.625000]},{\"element\":\"LJ\",\"location\":[-13.766470,3.237758,-0.575000]},{\"element\":\"LJ\",\"location\":[-5.030117,0.156966,-0.525000]},{\"element\":\"LJ\",\"location\":[-13.562204,-3.476360,-0.475000]},{\"element\":\"LJ\",\"location\":[-9.721336,4.974105,-0.425000]},{\"element\":\"LJ\",\"location\":[-6.842978,-3.859091,-0.375000]},{\"element\":\"LJ\",\"location\":[-14.938141,0.713538,-0.325000]},{\"element\":\"LJ\",\"location\":[-5.874297,2.811218,-0.275000]},{\"element\":\"LJ\",\"location\":[-11.143787,-4.862214,-0.225000]},{\"element\":\"LJ\",\"location\":[-12.441963,4.359609,-0.175000]},{\"element\":\"LJ\",\"location\":[-5.253074,-1.565588,-0.125000]},{\"element\":\"LJ\",\"location\":[-14.558687,-2.052498,-0.075000]},{\"element\":\"LJ\",\"location\":[-8.024811,4.593256,-0.025000]},{\"element\":\"LJ\",\"location\":[-8.353743,-4.721145,0.025000]},{\"element\":\"LJ\",\"location\":[-14.402546,2.368958,0.075000]},{\"element\":\"LJ\",\"location\":[-5.154461,1.226836,0.125000]},{\"element\":\"LJ\",\"location\":[-12.743410,-4.176491,0.175000]},{\"element\":\"LJ\",\"location\":[-10.797954,4.930785,0.225000]},{\"element\":\"LJ\",\"location\":[-6.082880,-3.095246,0.275000]},{\"element\":\"LJ\",\"location\":[-14.976173,-0.363420,0.325000]},{\"element\":\"LJ\",\"location\":[-6.578619,3.626779,0.375000]},{\"element\":\"LJ\",\"location\":[-10.072907,-4.981371,0.425000]},{\"element\":\"LJ\",\"location\":[-13.308106,3.718980,0.475000]},{\"element\":\"LJ\",\"location\":[-5.053570,-0.507154,0.525000]},{\"element\":\"LJ\",\"location\":[-13.985481,-2.964003,0.575000]},{\"element\":\"LJ\",\"location\":[-9.064525,4.871782,0.625000]},{\"element\":\"LJ\",\"location\":[-7.402386,-4.218622,0.675000]},{\"element\":\"LJ\",\"location\":[-14.758239,1.354082,0.725000]},{\"element\":\"LJ\",\"location\":[-5.583536,2.212288,0.775000]},{\"element\":\"LJ\",\"location\":[-11.759293,-4.606980,0.825000]},{\"element\":\"LJ\",\"location\":[-11.811548,4.577408,0.875000]},{\"element\":\"LJ\",\"location\":[-5.580455,-2.147556,0.925000]},{\"element\":\"LJ\",\"location\":[-14.700214,-1.399058,0.975000]},{\"element\":\"LJ\",\"location\":[-7.484505,4.197816,1.025000]},{\"element\":\"LJ\",\"location\":[-9.021416,-4.784010,1.075000]},{\"element\":\"LJ\",\"location\":[-13.944000,2.859936,1.125000]},{\"element\":\"LJ\",\"location\":[-5.171698,0.553959,1.175000]},{\"element\":\"LJ\",\"location\":[-13.177942,-3.660609,1.225000]},{\"element\":\"LJ\",\"location\":[-10.129046,4.832983,1.275000]},{\"element\":\"LJ\",\"location\":[-6.649569,-3.466841,1.325000]},{\"element\":\"LJ\",\"location\":[-14.798326,0.292304,1.375000]},{\"element\":\"LJ\",\"location\":[-6.275748,3.016508,1.425000]},{\"element\":\"LJ\",\"location\":[-10.706286,-4.724990,1.475000]},{\"element\":\"LJ\",\"location\":[-12.662101,3.948113,1.525000]},{\"element\":\"LJ\",\"location\":[-5.385990,-1.109182,1.575000]},{\"element\":\"LJ\",\"location\":[-14.136695,-2.290662,1.625000]},{\"element\":\"LJ\",\"location\":[-8.502606,4.466787,1.675000]},{\"element\":\"LJ\",\"location\":[-8.094202,-4.288625,1.725000]},{\"element\":\"LJ\",\"location\":[-14.285075,1.867487,1.775000]},{\"element\":\"LJ\",\"location\":[-5.597099,1.511236,1.825000]},{\"element\":\"LJ\",\"location\":[-12.216216,-4.070966,1.875000]},{\"element\":\"LJ\",\"location\":[-11.110785,4.478898,1.925000]},{\"element\":\"LJ\",\"location\":[-6.173132,-2.540563,1.975000]},{\"element\":\"LJ\",\"location\":[-14.516380,-0.708299,2.025000]},{\"element\":\"LJ\",\"location\":[-7.162232,3.555481,2.075000]},{\"element\":\"LJ\",\"location\":[-9.692362,-4.515499,2.125000]},{\"element\":\"LJ\",\"location\":[-13.259776,3.105356,2.175000]},{\"element\":\"LJ\",\"location\":[-5.523200,-0.087368,2.225000]},{\"element\":\"LJ\",\"location\":[-13.341162,-2.942959,2.275000]},{\"element\":\"LJ\",\"location\":[-9.527039,4.401214,2.325000]},{\"element\":\"LJ\",\"location\":[-7.391553,-3.543357,2.375000]},{\"element\":\"LJ\",\"location\":[-14.290049,0.845491,2.425000]},{\"element\":\"LJ\",\"location\":[-6.289535,2.259828,2.475000]},{\"element\":\"LJ\",\"location\":[-11.201453,-4.144983,2.525000]},{\"element\":\"LJ\",\"location\":[-11.900834,3.841381,2.575000]},{\"element\":\"LJ\",\"location\":[-6.031952,-1.537522,2.625000]},{\"element\":\"LJ\",\"location\":[-13.935382,-1.535299,2.675000]},{\"element\":\"LJ\",\"location\":[-8.149413,3.761609,2.725000]},{\"element\":\"LJ\",\"location\":[-8.832875,-3.992142,2.775000]},{\"element\":\"LJ\",\"location\":[-13.528349,2.137786,2.825000]},{\"element\":\"LJ\",\"location\":[-5.988269,0.800243,2.875000]},{\"element\":\"LJ\",\"location\":[-12.396530,-3.271241,2.925000]},{\"element\":\"LJ\",\"location\":[-10.438577,3.994625,2.975000]},{\"element\":\"LJ\",\"location\":[-7.006475,-2.624535,3.025000]},{\"element\":\"LJ\",\"location\":[-13.941697,-0.086007,3.075000]},{\"element\":\"LJ\",\"location\":[-7.180158,2.698678,3.125000]},{\"element\":\"LJ\",\"location\":[-10.253669,-3.854222,3.175000]},{\"element\":\"LJ\",\"location\":[-12.390387,2.980843,3.225000]},{\"element\":\"LJ\",\"location\":[-6.266140,-0.576769,3.275000]},{\"element\":\"LJ\",\"location\":[-13.106293,-2.072515,3.325000]},{\"element\":\"LJ\",\"location\":[-9.120242,3.582653,3.375000]},{\"element\":\"LJ\",\"location\":[-8.250926,-3.195327,3.425000]},{\"element\":\"LJ\",\"location\":[-13.403005,1.159281,3.475000]},{\"element\":\"LJ\",\"location\":[-6.752532,1.424194,3.525000]},{\"element\":\"LJ\",\"location\":[-11.412185,-3.197672,3.575000]},{\"element\":\"LJ\",\"location\":[-11.102093,3.262632,3.625000]},{\"element\":\"LJ\",\"location\":[-7.030258,-1.635545,3.675000]},{\"element\":\"LJ\",\"location\":[-13.241131,-0.787050,3.725000]},{\"element\":\"LJ\",\"location\":[-8.173325,2.722615,3.775000]},{\"element\":\"LJ\",\"location\":[-9.516611,-3.183663,3.825000]},{\"element\":\"LJ\",\"location\":[-12.459989,1.983136,3.875000]},{\"element\":\"LJ\",\"location\":[-6.908695,0.195463,3.925000]},{\"element\":\"LJ\",\"location\":[-12.102730,-2.185841,3.975000]},{\"element\":\"LJ\",\"location\":[-9.927653,2.965492,4.025000]},{\"element\":\"LJ\",\"location\":[-8.095585,-2.183479,4.075000]},{\"element\":\"LJ\",\"location\":[-12.807982,0.315614,4.125000]},{\"element\":\"LJ\",\"location\":[-7.776429,1.620218,4.175000]},{\"element\":\"LJ\",\"location\":[-10.529810,-2.620816,4.225000]},{\"element\":\"LJ\",\"location\":[-11.338034,2.221270,4.275000]},{\"element\":\"LJ\",\"location\":[-7.593762,-0.710208,4.325000]},{\"element\":\"LJ\",\"location\":[-12.174742,-1.062955,4.375000]},{\"element\":\"LJ\",\"location\":[-9.148327,2.166571,4.425000]},{\"element\":\"LJ\",\"location\":[-9.199537,-2.081738,4.475000]},{\"element\":\"LJ\",\"location\":[-11.903988,0.948264,4.525000]},{\"element\":\"LJ\",\"location\":[-8.061042,0.556612,4.575000]},{\"element\":\"LJ\",\"location\":[-10.992398,-1.620037,4.625000]},{\"element\":\"LJ\",\"location\":[-10.338397,1.740650,4.675000]},{\"element\":\"LJ\",\"location\":[-8.685517,-0.972887,4.725000]},{\"element\":\"LJ\",\"location\":[-11.474943,-0.154659,4.775000]},{\"element\":\"LJ\",\"location\":[-9.130767,0.981738,4.825000]},{\"element\":\"LJ\",\"location\":[-9.981182,-1.110865,4.875000]},{\"element\":\"LJ\",\"location\":[-10.593485,0.626219,4.925000]},{\"element\":\"LJ\",\"location\":[-9.501869,-0.035226,4.975000]},{\"element\":\"LJ\",\"location\":[10.000000,0.000000,0.000000]},{\"element\":\"LJ\",\"location\":[9.739301,0.238822,0.000000]},{\"element\":\"LJ\",\"location\":[10.043713,-0.498086,0.000000]},{\"element\":\"LJ\",\"location\":[10.372591,0.485979,0.000000]},{\"element\":\"LJ\",\"location\":[9.303702,-0.123165,0.000000]},{\"element\":\"LJ\",\"location\":[10.667047,-0.424321,0.000000]},{\"element\":\"LJ\",\"location\":[9.775176,0.836334,0.000000]},{\"element\":\"LJ\",\"location\":[9.568861,-0.830132,0.000000]},{\"element\":\"LJ\",\"location\":[10.939321,0.343039,0.000000]},{\"element\":\"LJ\",\"location\":[9.019583,0.404702,0.000000]},{\"element\":\"LJ\",\"location\":[10.473874,-1.012642,0.000000]},{\"element\":\"LJ\",\"location\":[10.350941,1.118857,0.000000]},{\"element\":\"LJ\",\"location\":[8.940337,-0.614096,0.000000]},{\"element\":\"LJ\",\"location\":[11.245022,-0.273715,0.000000]},{\"element\":\"LJ\",\"location\":[9.239175,1.082195,0.000000]},{\"element\":\"LJ\",\"location\":[9.824029,-1.357952,0.000000]},{\"element\":\"LJ\",\"location\":[11.081377,0.911386,0.000000]},{\"element\":\"LJ\",\"location\":[8.543507,0.060231,0.000000]},{\"element\":\"LJ\",\"location\":[11.063244,-1.058070,0.000000]},{\"element\":\"LJ\",\"location\":[9.928814,1.539459,0.000000]},{\"element\":\"LJ\",\"location\":[8.986950,-1.213973,0.000000]},{\"element\":\"LJ\",\"location\":[11.605716,0.216047,0.000000]},{\"element\":\"LJ\",\"location\":[8.638760,0.947115,0.000000]},{\"element\":\"LJ\",\"location\":[10.372149,-1.654239,0.000000]},{\"element\":\"LJ\",\"location\":[10.861143,1.502809,0.000000]},{\"element\":\"LJ\",\"location\":[8.315861,-0.537286,0.000000]},{\"element\":\"LJ\",\"location\":[11.636544,-0.756125,0.000000]},{\"element\":\"LJ\",\"location\":[9.290761,1.694692,0.000000]},{\"element\":\"LJ\",\"location\":[9.366814,-1.760419,0.000000]},{\"element\":\"LJ\",\"location\":[11.685350,0.885773,0.000000]},{\"element\":\"LJ\",\"location\":[8.127471,0.493593,0.000000]},{\"element\":\"LJ\",\"location\":[11.064640,-1.655760,0.000000]},{\"element\":\"LJ\",\"location\":[10.338752,1.971103,0.000000]},{\"element\":\"LJ\",\"location\":[8.394237,-1.243593,0.000000]},{\"element\":\"LJ\",\"location\":[12.054514,-0.170212,0.000000]},{\"element\":\"LJ\",\"location\":[8.579604,1.535407,0.000000]},{\"element\":\"LJ\",\"location\":[10.010348,-2.121295,0.000000]},{\"element\":\"LJ\",\"location\":[11.444944,1.592840,0.000000]},{\"element\":\"LJ\",\"location\":[7.829851,-0.201129,0.000000]},{\"element\":\"LJ\",\"location\":[11.758756,-1.334833,0.000000]},{\"element\":\"LJ\",\"location\":[9.599781,2.199960,0.000000]},{\"element\":\"LJ\",\"location\":[8.794263,-1.916037,0.000000]},{\"element\":\"LJ\",\"location\":[12.209803,0.605615,0.000000]},{\"element\":\"LJ\",\"location\":[7.937347,1.058519,0.000000]},{\"element\":\"LJ\",\"location\":[10.815234,-2.198953,0.000000]},{\"element\":\"LJ\",\"location\":[10.894235,2.196666,0.000000]},{\"element\":\"LJ\",\"location\":[7.833109,-1.026930,0.000000]},{\"element\":\"LJ\",\"location\":[12.316252,-0.714125,0.000000]},{\"element\":\"LJ\",\"location\":[8.761483,2.113309,0.000000]},{\"element\":\"LJ\",\"location\":[9.480394,-2.419713,0.000000]},{\"element\":\"LJ\",\"location\":[12.038118,1.447783,0.000000]},{\"element\":\"LJ\",\"location\":[7.494507,0.312255,0.000000]},{\"element\":\"LJ\",\"location\":[11.652514,-1.941442,0.000000]},{\"element\":\"LJ\",\"location\":[10.093801,2.572198,0.000000]},{\"element\":\"LJ\",\"location\":[8.176375,-1.850511,0.000000]},{\"element\":\"LJ\",\"location\":[12.618601,0.133891,0.000000]},{\"element\":\"LJ\",\"location\":[7.960390,1.685227,0.000000]},{\"element\":\"LJ\",\"location\":[10.368840,-2.643664,0.000000]},{\"element\":\"LJ\",\"location\":[11.527019,2.217704,0.000000]},{\"element\":\"LJ\",\"location\":[7.353462,-0.608962,0.000000]},{\"element\":\"LJ\",\"location\":[12.382763,-1.349978,0.000000]},{\"element\":\"LJ\",\"location\":[9.147909,2.626583,0.000000]},{\"element\":\"LJ\",\"location\":[8.844719,-2.532849,0.000000]},{\"element\":\"LJ\",\"location\":[12.583368,1.095997,0.000000]},{\"element\":\"LJ\",\"location\":[7.333858,0.944293,0.000000]},{\"element\":\"LJ\",\"location\":[11.338405,-2.516679,0.000000]},{\"element\":\"LJ\",\"location\":[10.718559,2.780948,0.000000]},{\"element\":\"LJ\",\"location\":[7.573477,-1.577018,0.000000]},{\"element\":\"LJ\",\"location\":[12.875726,-0.479789,0.000000]},{\"element\":\"LJ\",\"location\":[8.190461,2.313130,0.000000]},{\"element\":\"LJ\",\"location\":[9.770153,-2.949097,0.000000]},{\"element\":\"LJ\",\"location\":[12.176953,2.033685,0.000000]},{\"element\":\"LJ\",\"location\":[7.000143,-0.029269,0.000000]},{\"element\":\"LJ\",\"location\":[12.247217,-2.018666,0.000000]},{\"element\":\"LJ\",\"location\":[9.704558,3.026998,0.000000]},{\"element\":\"LJ\",\"location\":[8.160840,-2.447956,0.000000]},{\"element\":\"LJ\",\"location\":[13.029708,0.566451,0.000000]},{\"element\":\"LJ\",\"location\":[7.366197,1.639536,0.000000]},{\"element\":\"LJ\",\"location\":[10.839996,-3.007392,0.000000]},{\"element\":\"LJ\",\"location\":[11.421101,2.802762,0.000000]},{\"element\":\"LJ\",\"location\":[7.040330,-1.113712,0.000000]},{\"element\":\"LJ\",\"location\":[12.952955,-1.185351,0.000000]},{\"element\":\"LJ\",\"location\":[8.614804,2.886387,0.000000]},{\"element\":\"LJ\",\"location\":[9.066030,-3.082645,0.000000]},{\"element\":\"LJ\",\"location\":[12.787620,1.652022,0.000000]},{\"element\":\"LJ\",\"location\":[6.809749,0.668806,0.000000]},{\"element\":\"LJ\",\"location\":[11.911767,-2.663672,0.000000]},{\"element\":\"LJ\",\"location\":[10.391866,3.274361,0.000000]},{\"element\":\"LJ\",\"location\":[7.484920,-2.162030,0.000000]},{\"element\":\"LJ\",\"location\":[13.333754,-0.105292,0.000000]},{\"element\":\"LJ\",\"location\":[7.599544,2.342608,0.000000]},{\"element\":\"LJ\",\"location\":[10.188652,-3.367404,0.000000]},{\"element\":\"LJ\",\"location\":[12.147244,2.624756,0.000000]},{\"element\":\"LJ\",\"location\":[6.625500,-0.487599,0.000000]},{\"element\":\"LJ\",\"location\":[12.832727,-1.930196,0.000000]},{\"element\":\"LJ\",\"location\":[9.210900,3.354448,0.000000]},{\"element\":\"LJ\",\"location\":[8.307121,-3.022277,0.000000]},{\"element\":\"LJ\",\"location\":[13.306885,1.090646,0.000000]},{\"element\":\"LJ\",\"location\":[6.808560,1.436910,0.000000]},{\"element\":\"LJ\",\"location\":[11.389686,-3.231683,0.000000]},{\"element\":\"LJ\",\"location\":[11.164094,3.338396,0.000000]},{\"element\":\"LJ\",\"location\":[6.871051,-1.683650,0.000000]},{\"element\":\"LJ\",\"location\":[13.461489,-0.876410,0.000000]},{\"element\":\"LJ\",\"location\":[8.030026,2.999034,0.000000]},{\"element\":\"LJ\",\"location\":[9.424004,-3.559245,0.000000]},{\"element\":\"LJ\",\"location\":[12.842526,2.246118,0.000000]},{\"element\":\"LJ\",\"location\":[6.369614,0.265134,0.000000]},{\"element\":\"LJ\",\"location\":[12.509593,-2.660253,0.000000]},{\"element\":\"LJ\",\"location\":[9.946230,3.673841,0.000000]},{\"element\":\"LJ\",\"location\":[7.546725,-2.757978,0.000000]},{\"element\":\"LJ\",\"location\":[13.688761,0.378206,0.000000]},{\"element\":\"LJ\",\"location\":[7.011053,2.222880,0.000000]},{\"element\":\"LJ\",\"location\":[10.705579,-3.674528,0.000000]},{\"element\":\"LJ\",\"location\":[11.970575,3.200287,0.000000]},{\"element\":\"LJ\",\"location\":[6.369237,-1.033229,0.000000]},{\"element\":\"LJ\",\"location\":[13.389919,-1.698073,0.000000]},{\"element\":\"LJ\",\"location\":[8.641543,3.557330,0.000000]},{\"element\":\"LJ\",\"location\":[8.592715,-3.555918,0.000000]},{\"element\":\"LJ\",\"location\":[13.454344,1.678543,0.000000]},{\"element\":\"LJ\",\"location\":[6.303470,1.100303,0.000000]},{\"element\":\"LJ\",\"location\":[11.990774,-3.322171,0.000000]},{\"element\":\"LJ\",\"location\":[10.779386,3.810191,0.000000]},{\"element\":\"LJ\",\"location\":[6.838574,-2.292463,0.000000]},{\"element\":\"LJ\",\"location\":[13.895541,-0.446942,0.000000]},{\"element\":\"LJ\",\"location\":[7.419026,2.972974,0.000000]},{\"element\":\"LJ\",\"location\":[9.894492,-3.951439,0.000000]},{\"element\":\"LJ\",\"location\":[12.757922,2.853746,0.000000]},{\"element\":\"LJ\",\"location\":[6.023028,-0.242269,0.000000]},{\"element\":\"LJ\",\"location\":[13.108311,-2.517618,0.000000]},{\"element\":\"LJ\",\"location\":[9.406349,3.971471,0.000000]},{\"element\":\"LJ\",\"location\":[7.746365,-3.342324,0.000000]},{\"element\":\"LJ\",\"location\":[13.934514,0.945834,0.000000]},{\"element\":\"LJ\",\"location\":[6.446424,1.967765,0.000000]},{\"element\":\"LJ\",\"location\":[11.295972,-3.865936,0.000000]},{\"element\":\"LJ\",\"location\":[11.662006,3.740018,0.000000]},{\"element\":\"LJ\",\"location\":[6.234169,-1.641194,0.000000]},{\"element\":\"LJ\",\"location\":[13.899781,-1.338547,0.000000]},{\"element\":\"LJ\",\"location\":[8.021364,3.634556,0.000000]},{\"element\":\"LJ\",\"location\":[9.000248,-4.031190,0.000000]},{\"element\":\"LJ\",\"location\":[13.472730,2.305460,0.000000]},{\"element\":\"LJ\",\"location\":[5.867215,0.648140,0.000000]},{\"element\":\"LJ\",\"location\":[12.618878,-3.281231,0.000000]},{\"element\":\"LJ\",\"location\":[10.286370,4.203331,0.000000]},{\"element\":\"LJ\",\"location\":[6.938808,-2.916179,0.000000]},{\"element\":\"LJ\",\"location\":[14.241833,0.082782,0.000000]},{\"element\":\"LJ\",\"location\":[6.805250,2.813996,0.000000]},{\"element\":\"LJ\",\"location\":[10.456448,-4.247547,0.000000]},{\"element\":\"LJ\",\"location\":[12.541265,3.452097,0.000000]},{\"element\":\"LJ\",\"location\":[5.780012,-0.831683,0.000000]},{\"element\":\"LJ\",\"location\":[13.685872,-2.244850,0.000000]},{\"element\":\"LJ\",\"location\":[8.794502,4.158939,0.000000]},{\"element\":\"LJ\",\"location\":[8.073183,-3.893890,0.000000]},{\"element\":\"LJ\",\"location\":[14.064451,1.574876,0.000000]},{\"element\":\"LJ\",\"location\":[5.925851,1.589436,0.000000]},{\"element\":\"LJ\",\"location\":[11.936801,-3.936852,0.000000]},{\"element\":\"LJ\",\"location\":[11.235159,4.224853,0.000000]},{\"element\":\"LJ\",\"location\":[6.223261,-2.288283,0.000000]},{\"element\":\"LJ\",\"location\":[14.344421,-0.866606,0.000000]},{\"element\":\"LJ\",\"location\":[7.373619,3.584986,0.000000]},{\"element\":\"LJ\",\"location\":[9.513456,-4.431509,0.000000]},{\"element\":\"LJ\",\"location\":[13.362729,2.948229,0.000000]},{\"element\":\"LJ\",\"location\":[5.514978,0.097863,0.000000]},{\"element\":\"LJ\",\"location\":[13.251060,-3.111368,0.000000]},{\"element\":\"LJ\",\"location\":[9.703557,4.504123,0.000000]},{\"element\":\"LJ\",\"location\":[7.167447,-3.532230,0.000000]},{\"element\":\"LJ\",\"location\":[14.488244,0.693298,0.000000]},{\"element\":\"LJ\",\"location\":[6.210761,2.528175,0.000000]},{\"element\":\"LJ\",\"location\":[11.089576,-4.437096,0.000000]},{\"element\":\"LJ\",\"location\":[12.200355,4.019756,0.000000]},{\"element\":\"LJ\",\"location\":[5.649330,-1.482116,0.000000]},{\"element\":\"LJ\",\"location\":[14.221639,-1.851422,0.000000]},{\"element\":\"LJ\",\"location\":[8.132243,4.229242,0.000000]},{\"element\":\"LJ\",\"location\":[8.516094,-4.392951,0.000000]},{\"element\":\"LJ\",\"location\":[14.073372,2.243355,0.000000]},{\"element\":\"LJ\",\"location\":[5.468016,1.100510,0.000000]},{\"element\":\"LJ\",\"location\":[12.605816,-3.883906,0.000000]},{\"element\":\"LJ\",\"location\":[10.704097,4.637267,0.000000]},{\"element\":\"LJ\",\"location\":[6.338033,-2.952117,0.000000]},{\"element\":\"LJ\",\"location\":[14.707589,-0.297661,0.000000]},{\"element\":\"LJ\",\"location\":[6.720664,3.408953,0.000000]},{\"element\":\"LJ\",\"location\":[10.115687,-4.742006,0.000000]},{\"element\":\"LJ\",\"location\":[13.126523,3.584669,0.000000]},{\"element\":\"LJ\",\"location\":[5.260150,-0.532753,0.000000]},{\"element\":\"LJ\",\"location\":[13.865463,-2.816593,0.000000]},{\"element\":\"LJ\",\"location\":[9.049723,4.700742,0.000000]},{\"element\":\"LJ\",\"location\":[7.518684,-4.119232,0.000000]},{\"element\":\"LJ\",\"location\":[14.624595,1.364962,0.000000]},{\"element\":\"LJ\",\"location\":[5.656319,2.123073,0.000000]},{\"element\":\"LJ\",\"location\":[11.773503,-4.511617,0.000000]},{\"element\":\"LJ\",\"location\":[11.744448,4.536728,0.000000]},{\"element\":\"LJ\",\"location\":[5.637687,-2.172609,0.000000]},{\"element\":\"LJ\",\"location\":[14.696520,-1.348220,0.000000]},{\"element\":\"LJ\",\"location\":[7.440968,4.177482,0.000000]},{\"element\":\"LJ\",\"location\":[9.062670,-4.821453,0.000000]},{\"element\":\"LJ\",\"location\":[13.958218,2.929593,0.000000]},{\"element\":\"LJ\",\"location\":[5.089816,0.514869,0.000000]},{\"element\":\"LJ\",\"location\":[13.281209,-3.705896,0.000000]},{\"element\":\"LJ\",\"location\":[10.084049,4.961646,0.000000]},{\"element\":\"LJ\",\"location\":[6.577828,-3.610919,0.000000]},{\"element\":\"LJ\",\"location\":[14.975060,0.351821,0.000000]}],\"bonds\":[],\"name\":\"MonoLJ\"});\n",
       "\n",
       "               $d.resizable({\n",
       "                   aspectRatio: 400 / 300,\n",
       "                   resize: function (evt, ui) {\n",
       "                       $d.imolecule.renderer.setSize(ui.size.width,\n",
       "                                                     ui.size.height);\n",
       "                   }\n",
       "               });\n",
       "           });\n",
       "           </script>"
      ],
      "text/plain": [
       "<IPython.core.display.HTML object>"
      ]
     },
     "metadata": {},
     "output_type": "display_data"
    }
   ],
   "source": [
    "import mbuild as mb\n",
    "\n",
    "class MonoLJ(mb.Compound):\n",
    "    def __init__(self):\n",
    "        super(MonoLJ, self).__init__()\n",
    "        lj_proto = mb.Particle(name='LJ', pos=[0, 0, 0])\n",
    "        \n",
    "        pattern_sphere = mb.SpherePattern(200)\n",
    "        pattern_sphere.scale(0.5)\n",
    "        \n",
    "        for pos in pattern_sphere:\n",
    "            lj_particle = mb.clone(lj_proto)\n",
    "            pos[0]-=1.0\n",
    "            mb.translate(lj_particle, pos)\n",
    "            self.add(lj_particle)\n",
    "        \n",
    "        pattern_disk = mb.DiskPattern(200)\n",
    "        pattern_disk.scale(0.5)\n",
    "        for pos in pattern_disk:\n",
    "            lj_particle = mb.clone(lj_proto)\n",
    "            pos[0]+=1.0\n",
    "            mb.translate(lj_particle, pos)\n",
    "            self.add(lj_particle)\n",
    "\n",
    "monoLJ = MonoLJ()\n",
    "colors = {'LJ': {'color': 0xbfbfbf, 'radius': 1.0}}\n",
    "monoLJ.visualize(element_properties=colors)\n"
   ]
  },
  {
   "cell_type": "markdown",
   "metadata": {},
   "source": [
    "We can also take advantage of the hierachical nature of mBuild to accomplish the same task more cleanly.  Below we  create a component that corresponds to the sphere (class SphereLJ), and one that corresponds to the disk (class DiskLJ), and then instantiate and shift each of these individually in the MonoLJ component."
   ]
  },
  {
   "cell_type": "code",
   "execution_count": 8,
   "metadata": {
    "collapsed": false
   },
   "outputs": [
    {
     "data": {
      "text/html": [
       "<div id=\"molecule_3ede4e71-63bd-4f72-a33f-c982f50b969e\"></div>\n",
       "           <script type=\"text/javascript\">\n",
       "           require.config({baseUrl: '/',\n",
       "                           paths: {imolecule: ['nbextensions/imolecule.min', 'https://rawgit.com/patrickfuller/imolecule/master/imolecule/js/build/imolecule.min']}});\n",
       "           require(['imolecule'], function () {\n",
       "               var $d = $('#molecule_3ede4e71-63bd-4f72-a33f-c982f50b969e');\n",
       "               $d.width(400); $d.height(300);\n",
       "               $d.imolecule = jQuery.extend({}, imolecule);\n",
       "               $d.imolecule.create($d, {drawingType: 'ball and stick',\n",
       "                                        cameraType: 'perspective',\n",
       "                                        shader: 'lambert',\n",
       "                                        showSave: false});\n",
       "               $d.imolecule.addElements({\n",
       "    \"LJ\": {\n",
       "        \"color\": 12566463,\n",
       "        \"radius\": 1.000000\n",
       "    }\n",
       "});\n",
       "               $d.imolecule.draw({\"atoms\":[{\"element\":\"LJ\",\"location\":[-9.500625,0.000000,-4.975000]},{\"element\":\"LJ\",\"location\":[-10.636181,-0.582794,-4.925000]},{\"element\":\"LJ\",\"location\":[-9.902868,1.106770,-4.875000]},{\"element\":\"LJ\",\"location\":[-9.202185,-1.040609,-4.825000]},{\"element\":\"LJ\",\"location\":[-11.460359,0.258317,-4.775000]},{\"element\":\"LJ\",\"location\":[-8.620163,0.877739,-4.725000]},{\"element\":\"LJ\",\"location\":[-10.460340,-1.712443,-4.675000]},{\"element\":\"LJ\",\"location\":[-10.875648,1.686006,-4.625000]},{\"element\":\"LJ\",\"location\":[-8.105136,-0.692001,-4.575000]},{\"element\":\"LJ\",\"location\":[-11.966136,-0.811593,-4.525000]},{\"element\":\"LJ\",\"location\":[-9.054683,2.020087,-4.475000]},{\"element\":\"LJ\",\"location\":[-9.303281,-2.221251,-4.425000]},{\"element\":\"LJ\",\"location\":[-12.094343,1.213715,-4.375000]},{\"element\":\"LJ\",\"location\":[-7.549658,0.538701,-4.325000]},{\"element\":\"LJ\",\"location\":[-11.491391,-2.121350,-4.275000]},{\"element\":\"LJ\",\"location\":[-10.343616,2.651660,-4.225000]},{\"element\":\"LJ\",\"location\":[-7.896260,-1.773035,-4.175000]},{\"element\":\"LJ\",\"location\":[-12.823251,-0.116750,-4.125000]},{\"element\":\"LJ\",\"location\":[-7.946305,2.043701,-4.075000]},{\"element\":\"LJ\",\"location\":[-10.137021,-2.963208,-4.025000]},{\"element\":\"LJ\",\"location\":[-11.943301,2.328724,-3.975000]},{\"element\":\"LJ\",\"location\":[-6.930183,-0.413039,-3.925000]},{\"element\":\"LJ\",\"location\":[-12.593753,-1.804666,-3.875000]},{\"element\":\"LJ\",\"location\":[-9.293237,3.141633,-3.825000]},{\"element\":\"LJ\",\"location\":[-8.369931,-2.844688,-3.775000]},{\"element\":\"LJ\",\"location\":[-13.177537,1.013721,-3.725000]},{\"element\":\"LJ\",\"location\":[-6.922283,1.421983,-3.675000]},{\"element\":\"LJ\",\"location\":[-11.329496,-3.176762,-3.625000]},{\"element\":\"LJ\",\"location\":[-11.183101,3.289323,-3.575000]},{\"element\":\"LJ\",\"location\":[-6.861086,-1.649725,-3.525000]},{\"element\":\"LJ\",\"location\":[-13.476304,-0.916343,-3.475000]},{\"element\":\"LJ\",\"location\":[-8.029882,3.063986,-3.425000]},{\"element\":\"LJ\",\"location\":[-9.375156,-3.635787,-3.375000]},{\"element\":\"LJ\",\"location\":[-12.952358,2.286472,-3.325000]},{\"element\":\"LJ\",\"location\":[-6.234755,0.311943,-3.275000]},{\"element\":\"LJ\",\"location\":[-12.594703,-2.804798,-3.225000]},{\"element\":\"LJ\",\"location\":[-9.981157,3.862515,-3.175000]},{\"element\":\"LJ\",\"location\":[-7.377549,-2.890869,-3.125000]},{\"element\":\"LJ\",\"location\":[-13.925811,0.363843,-3.075000]},{\"element\":\"LJ\",\"location\":[-6.828795,2.406831,-3.025000]},{\"element\":\"LJ\",\"location\":[-10.719269,-3.953736,-2.975000]},{\"element\":\"LJ\",\"location\":[-12.159804,3.432145,-2.925000]},{\"element\":\"LJ\",\"location\":[-6.054712,-1.081240,-2.875000]},{\"element\":\"LJ\",\"location\":[-13.670360,-1.883568,-2.825000]},{\"element\":\"LJ\",\"location\":[-8.554174,3.899867,-2.775000]},{\"element\":\"LJ\",\"location\":[-8.419369,-3.882780,-2.725000]},{\"element\":\"LJ\",\"location\":[-13.817278,1.809079,-2.675000]},{\"element\":\"LJ\",\"location\":[-5.933379,1.253783,-2.625000]},{\"element\":\"LJ\",\"location\":[-12.167073,-3.697725,-2.575000]},{\"element\":\"LJ\",\"location\":[-10.906070,4.219409,-2.525000]},{\"element\":\"LJ\",\"location\":[-6.458188,-2.515937,-2.475000]},{\"element\":\"LJ\",\"location\":[-14.339004,-0.540762,-2.425000]},{\"element\":\"LJ\",\"location\":[-7.148100,3.350529,-2.375000]},{\"element\":\"LJ\",\"location\":[-9.838682,-4.423613,-2.325000]},{\"element\":\"LJ\",\"location\":[-13.125241,3.171316,-2.275000]},{\"element\":\"LJ\",\"location\":[-5.528189,-0.228647,-2.225000]},{\"element\":\"LJ\",\"location\":[-13.470710,-2.867673,-2.175000]},{\"element\":\"LJ\",\"location\":[-9.374601,4.482550,-2.125000]},{\"element\":\"LJ\",\"location\":[-7.420107,-3.746802,-2.075000]},{\"element\":\"LJ\",\"location\":[-14.455165,1.025123,-2.025000]},{\"element\":\"LJ\",\"location\":[-6.003452,2.264284,-1.975000]},{\"element\":\"LJ\",\"location\":[-11.423963,-4.389386,-1.925000]},{\"element\":\"LJ\",\"location\":[-11.923526,4.217158,-1.875000]},{\"element\":\"LJ\",\"location\":[-5.714670,-1.818056,-1.825000]},{\"element\":\"LJ\",\"location\":[-14.406134,-1.560562,-1.775000]},{\"element\":\"LJ\",\"location\":[-7.796426,4.143506,-1.725000]},{\"element\":\"LJ\",\"location\":[-8.821426,-4.561287,-1.675000]},{\"element\":\"LJ\",\"location\":[-13.964805,2.576761,-1.625000]},{\"element\":\"LJ\",\"location\":[-5.319241,0.780943,-1.575000]},{\"element\":\"LJ\",\"location\":[-12.933972,-3.750491,-1.525000]},{\"element\":\"LJ\",\"location\":[-10.371223,4.763042,-1.475000]},{\"element\":\"LJ\",\"location\":[-6.497812,-3.271705,-1.425000]},{\"element\":\"LJ\",\"location\":[-14.806992,0.046901,-1.375000]},{\"element\":\"LJ\",\"location\":[-6.413362,3.221863,-1.325000]},{\"element\":\"LJ\",\"location\":[-10.469646,-4.811840,-1.275000]},{\"element\":\"LJ\",\"location\":[-12.911803,3.875665,-1.225000]},{\"element\":\"LJ\",\"location\":[-5.222802,-0.893171,-1.175000]},{\"element\":\"LJ\",\"location\":[-14.135918,-2.574599,-1.125000]},{\"element\":\"LJ\",\"location\":[-8.686386,4.703062,-1.075000]},{\"element\":\"LJ\",\"location\":[-7.786888,-4.364804,-1.025000]},{\"element\":\"LJ\",\"location\":[-14.589815,1.727129,-0.975000]},{\"element\":\"LJ\",\"location\":[-5.439974,1.830448,-0.925000]},{\"element\":\"LJ\",\"location\":[-12.129930,-4.438218,-0.875000]},{\"element\":\"LJ\",\"location\":[-11.429930,4.719605,-0.825000]},{\"element\":\"LJ\",\"location\":[-5.750594,-2.518318,-0.775000]},{\"element\":\"LJ\",\"location\":[-14.841903,-1.015060,-0.725000]},{\"element\":\"LJ\",\"location\":[-7.111272,4.024876,-0.675000]},{\"element\":\"LJ\",\"location\":[-9.410515,-4.925635,-0.625000]},{\"element\":\"LJ\",\"location\":[-13.766470,3.237758,-0.575000]},{\"element\":\"LJ\",\"location\":[-5.030117,0.156966,-0.525000]},{\"element\":\"LJ\",\"location\":[-13.562204,-3.476360,-0.475000]},{\"element\":\"LJ\",\"location\":[-9.721336,4.974105,-0.425000]},{\"element\":\"LJ\",\"location\":[-6.842978,-3.859091,-0.375000]},{\"element\":\"LJ\",\"location\":[-14.938141,0.713538,-0.325000]},{\"element\":\"LJ\",\"location\":[-5.874297,2.811218,-0.275000]},{\"element\":\"LJ\",\"location\":[-11.143787,-4.862214,-0.225000]},{\"element\":\"LJ\",\"location\":[-12.441963,4.359609,-0.175000]},{\"element\":\"LJ\",\"location\":[-5.253074,-1.565588,-0.125000]},{\"element\":\"LJ\",\"location\":[-14.558687,-2.052498,-0.075000]},{\"element\":\"LJ\",\"location\":[-8.024811,4.593256,-0.025000]},{\"element\":\"LJ\",\"location\":[-8.353743,-4.721145,0.025000]},{\"element\":\"LJ\",\"location\":[-14.402546,2.368958,0.075000]},{\"element\":\"LJ\",\"location\":[-5.154461,1.226836,0.125000]},{\"element\":\"LJ\",\"location\":[-12.743410,-4.176491,0.175000]},{\"element\":\"LJ\",\"location\":[-10.797954,4.930785,0.225000]},{\"element\":\"LJ\",\"location\":[-6.082880,-3.095246,0.275000]},{\"element\":\"LJ\",\"location\":[-14.976173,-0.363420,0.325000]},{\"element\":\"LJ\",\"location\":[-6.578619,3.626779,0.375000]},{\"element\":\"LJ\",\"location\":[-10.072907,-4.981371,0.425000]},{\"element\":\"LJ\",\"location\":[-13.308106,3.718980,0.475000]},{\"element\":\"LJ\",\"location\":[-5.053570,-0.507154,0.525000]},{\"element\":\"LJ\",\"location\":[-13.985481,-2.964003,0.575000]},{\"element\":\"LJ\",\"location\":[-9.064525,4.871782,0.625000]},{\"element\":\"LJ\",\"location\":[-7.402386,-4.218622,0.675000]},{\"element\":\"LJ\",\"location\":[-14.758239,1.354082,0.725000]},{\"element\":\"LJ\",\"location\":[-5.583536,2.212288,0.775000]},{\"element\":\"LJ\",\"location\":[-11.759293,-4.606980,0.825000]},{\"element\":\"LJ\",\"location\":[-11.811548,4.577408,0.875000]},{\"element\":\"LJ\",\"location\":[-5.580455,-2.147556,0.925000]},{\"element\":\"LJ\",\"location\":[-14.700214,-1.399058,0.975000]},{\"element\":\"LJ\",\"location\":[-7.484505,4.197816,1.025000]},{\"element\":\"LJ\",\"location\":[-9.021416,-4.784010,1.075000]},{\"element\":\"LJ\",\"location\":[-13.944000,2.859936,1.125000]},{\"element\":\"LJ\",\"location\":[-5.171698,0.553959,1.175000]},{\"element\":\"LJ\",\"location\":[-13.177942,-3.660609,1.225000]},{\"element\":\"LJ\",\"location\":[-10.129046,4.832983,1.275000]},{\"element\":\"LJ\",\"location\":[-6.649569,-3.466841,1.325000]},{\"element\":\"LJ\",\"location\":[-14.798326,0.292304,1.375000]},{\"element\":\"LJ\",\"location\":[-6.275748,3.016508,1.425000]},{\"element\":\"LJ\",\"location\":[-10.706286,-4.724990,1.475000]},{\"element\":\"LJ\",\"location\":[-12.662101,3.948113,1.525000]},{\"element\":\"LJ\",\"location\":[-5.385990,-1.109182,1.575000]},{\"element\":\"LJ\",\"location\":[-14.136695,-2.290662,1.625000]},{\"element\":\"LJ\",\"location\":[-8.502606,4.466787,1.675000]},{\"element\":\"LJ\",\"location\":[-8.094202,-4.288625,1.725000]},{\"element\":\"LJ\",\"location\":[-14.285075,1.867487,1.775000]},{\"element\":\"LJ\",\"location\":[-5.597099,1.511236,1.825000]},{\"element\":\"LJ\",\"location\":[-12.216216,-4.070966,1.875000]},{\"element\":\"LJ\",\"location\":[-11.110785,4.478898,1.925000]},{\"element\":\"LJ\",\"location\":[-6.173132,-2.540563,1.975000]},{\"element\":\"LJ\",\"location\":[-14.516380,-0.708299,2.025000]},{\"element\":\"LJ\",\"location\":[-7.162232,3.555481,2.075000]},{\"element\":\"LJ\",\"location\":[-9.692362,-4.515499,2.125000]},{\"element\":\"LJ\",\"location\":[-13.259776,3.105356,2.175000]},{\"element\":\"LJ\",\"location\":[-5.523200,-0.087368,2.225000]},{\"element\":\"LJ\",\"location\":[-13.341162,-2.942959,2.275000]},{\"element\":\"LJ\",\"location\":[-9.527039,4.401214,2.325000]},{\"element\":\"LJ\",\"location\":[-7.391553,-3.543357,2.375000]},{\"element\":\"LJ\",\"location\":[-14.290049,0.845491,2.425000]},{\"element\":\"LJ\",\"location\":[-6.289535,2.259828,2.475000]},{\"element\":\"LJ\",\"location\":[-11.201453,-4.144983,2.525000]},{\"element\":\"LJ\",\"location\":[-11.900834,3.841381,2.575000]},{\"element\":\"LJ\",\"location\":[-6.031952,-1.537522,2.625000]},{\"element\":\"LJ\",\"location\":[-13.935382,-1.535299,2.675000]},{\"element\":\"LJ\",\"location\":[-8.149413,3.761609,2.725000]},{\"element\":\"LJ\",\"location\":[-8.832875,-3.992142,2.775000]},{\"element\":\"LJ\",\"location\":[-13.528349,2.137786,2.825000]},{\"element\":\"LJ\",\"location\":[-5.988269,0.800243,2.875000]},{\"element\":\"LJ\",\"location\":[-12.396530,-3.271241,2.925000]},{\"element\":\"LJ\",\"location\":[-10.438577,3.994625,2.975000]},{\"element\":\"LJ\",\"location\":[-7.006475,-2.624535,3.025000]},{\"element\":\"LJ\",\"location\":[-13.941697,-0.086007,3.075000]},{\"element\":\"LJ\",\"location\":[-7.180158,2.698678,3.125000]},{\"element\":\"LJ\",\"location\":[-10.253669,-3.854222,3.175000]},{\"element\":\"LJ\",\"location\":[-12.390387,2.980843,3.225000]},{\"element\":\"LJ\",\"location\":[-6.266140,-0.576769,3.275000]},{\"element\":\"LJ\",\"location\":[-13.106293,-2.072515,3.325000]},{\"element\":\"LJ\",\"location\":[-9.120242,3.582653,3.375000]},{\"element\":\"LJ\",\"location\":[-8.250926,-3.195327,3.425000]},{\"element\":\"LJ\",\"location\":[-13.403005,1.159281,3.475000]},{\"element\":\"LJ\",\"location\":[-6.752532,1.424194,3.525000]},{\"element\":\"LJ\",\"location\":[-11.412185,-3.197672,3.575000]},{\"element\":\"LJ\",\"location\":[-11.102093,3.262632,3.625000]},{\"element\":\"LJ\",\"location\":[-7.030258,-1.635545,3.675000]},{\"element\":\"LJ\",\"location\":[-13.241131,-0.787050,3.725000]},{\"element\":\"LJ\",\"location\":[-8.173325,2.722615,3.775000]},{\"element\":\"LJ\",\"location\":[-9.516611,-3.183663,3.825000]},{\"element\":\"LJ\",\"location\":[-12.459989,1.983136,3.875000]},{\"element\":\"LJ\",\"location\":[-6.908695,0.195463,3.925000]},{\"element\":\"LJ\",\"location\":[-12.102730,-2.185841,3.975000]},{\"element\":\"LJ\",\"location\":[-9.927653,2.965492,4.025000]},{\"element\":\"LJ\",\"location\":[-8.095585,-2.183479,4.075000]},{\"element\":\"LJ\",\"location\":[-12.807982,0.315614,4.125000]},{\"element\":\"LJ\",\"location\":[-7.776429,1.620218,4.175000]},{\"element\":\"LJ\",\"location\":[-10.529810,-2.620816,4.225000]},{\"element\":\"LJ\",\"location\":[-11.338034,2.221270,4.275000]},{\"element\":\"LJ\",\"location\":[-7.593762,-0.710208,4.325000]},{\"element\":\"LJ\",\"location\":[-12.174742,-1.062955,4.375000]},{\"element\":\"LJ\",\"location\":[-9.148327,2.166571,4.425000]},{\"element\":\"LJ\",\"location\":[-9.199537,-2.081738,4.475000]},{\"element\":\"LJ\",\"location\":[-11.903988,0.948264,4.525000]},{\"element\":\"LJ\",\"location\":[-8.061042,0.556612,4.575000]},{\"element\":\"LJ\",\"location\":[-10.992398,-1.620037,4.625000]},{\"element\":\"LJ\",\"location\":[-10.338397,1.740650,4.675000]},{\"element\":\"LJ\",\"location\":[-8.685517,-0.972887,4.725000]},{\"element\":\"LJ\",\"location\":[-11.474943,-0.154659,4.775000]},{\"element\":\"LJ\",\"location\":[-9.130767,0.981738,4.825000]},{\"element\":\"LJ\",\"location\":[-9.981182,-1.110865,4.875000]},{\"element\":\"LJ\",\"location\":[-10.593485,0.626219,4.925000]},{\"element\":\"LJ\",\"location\":[-9.501869,-0.035226,4.975000]},{\"element\":\"LJ\",\"location\":[10.000000,0.000000,0.000000]},{\"element\":\"LJ\",\"location\":[9.739301,0.238822,0.000000]},{\"element\":\"LJ\",\"location\":[10.043713,-0.498086,0.000000]},{\"element\":\"LJ\",\"location\":[10.372591,0.485979,0.000000]},{\"element\":\"LJ\",\"location\":[9.303702,-0.123165,0.000000]},{\"element\":\"LJ\",\"location\":[10.667047,-0.424321,0.000000]},{\"element\":\"LJ\",\"location\":[9.775176,0.836334,0.000000]},{\"element\":\"LJ\",\"location\":[9.568861,-0.830132,0.000000]},{\"element\":\"LJ\",\"location\":[10.939321,0.343039,0.000000]},{\"element\":\"LJ\",\"location\":[9.019583,0.404702,0.000000]},{\"element\":\"LJ\",\"location\":[10.473874,-1.012642,0.000000]},{\"element\":\"LJ\",\"location\":[10.350941,1.118857,0.000000]},{\"element\":\"LJ\",\"location\":[8.940337,-0.614096,0.000000]},{\"element\":\"LJ\",\"location\":[11.245022,-0.273715,0.000000]},{\"element\":\"LJ\",\"location\":[9.239175,1.082195,0.000000]},{\"element\":\"LJ\",\"location\":[9.824029,-1.357952,0.000000]},{\"element\":\"LJ\",\"location\":[11.081377,0.911386,0.000000]},{\"element\":\"LJ\",\"location\":[8.543507,0.060231,0.000000]},{\"element\":\"LJ\",\"location\":[11.063244,-1.058070,0.000000]},{\"element\":\"LJ\",\"location\":[9.928814,1.539459,0.000000]},{\"element\":\"LJ\",\"location\":[8.986950,-1.213973,0.000000]},{\"element\":\"LJ\",\"location\":[11.605716,0.216047,0.000000]},{\"element\":\"LJ\",\"location\":[8.638760,0.947115,0.000000]},{\"element\":\"LJ\",\"location\":[10.372149,-1.654239,0.000000]},{\"element\":\"LJ\",\"location\":[10.861143,1.502809,0.000000]},{\"element\":\"LJ\",\"location\":[8.315861,-0.537286,0.000000]},{\"element\":\"LJ\",\"location\":[11.636544,-0.756125,0.000000]},{\"element\":\"LJ\",\"location\":[9.290761,1.694692,0.000000]},{\"element\":\"LJ\",\"location\":[9.366814,-1.760419,0.000000]},{\"element\":\"LJ\",\"location\":[11.685350,0.885773,0.000000]},{\"element\":\"LJ\",\"location\":[8.127471,0.493593,0.000000]},{\"element\":\"LJ\",\"location\":[11.064640,-1.655760,0.000000]},{\"element\":\"LJ\",\"location\":[10.338752,1.971103,0.000000]},{\"element\":\"LJ\",\"location\":[8.394237,-1.243593,0.000000]},{\"element\":\"LJ\",\"location\":[12.054514,-0.170212,0.000000]},{\"element\":\"LJ\",\"location\":[8.579604,1.535407,0.000000]},{\"element\":\"LJ\",\"location\":[10.010348,-2.121295,0.000000]},{\"element\":\"LJ\",\"location\":[11.444944,1.592840,0.000000]},{\"element\":\"LJ\",\"location\":[7.829851,-0.201129,0.000000]},{\"element\":\"LJ\",\"location\":[11.758756,-1.334833,0.000000]},{\"element\":\"LJ\",\"location\":[9.599781,2.199960,0.000000]},{\"element\":\"LJ\",\"location\":[8.794263,-1.916037,0.000000]},{\"element\":\"LJ\",\"location\":[12.209803,0.605615,0.000000]},{\"element\":\"LJ\",\"location\":[7.937347,1.058519,0.000000]},{\"element\":\"LJ\",\"location\":[10.815234,-2.198953,0.000000]},{\"element\":\"LJ\",\"location\":[10.894235,2.196666,0.000000]},{\"element\":\"LJ\",\"location\":[7.833109,-1.026930,0.000000]},{\"element\":\"LJ\",\"location\":[12.316252,-0.714125,0.000000]},{\"element\":\"LJ\",\"location\":[8.761483,2.113309,0.000000]},{\"element\":\"LJ\",\"location\":[9.480394,-2.419713,0.000000]},{\"element\":\"LJ\",\"location\":[12.038118,1.447783,0.000000]},{\"element\":\"LJ\",\"location\":[7.494507,0.312255,0.000000]},{\"element\":\"LJ\",\"location\":[11.652514,-1.941442,0.000000]},{\"element\":\"LJ\",\"location\":[10.093801,2.572198,0.000000]},{\"element\":\"LJ\",\"location\":[8.176375,-1.850511,0.000000]},{\"element\":\"LJ\",\"location\":[12.618601,0.133891,0.000000]},{\"element\":\"LJ\",\"location\":[7.960390,1.685227,0.000000]},{\"element\":\"LJ\",\"location\":[10.368840,-2.643664,0.000000]},{\"element\":\"LJ\",\"location\":[11.527019,2.217704,0.000000]},{\"element\":\"LJ\",\"location\":[7.353462,-0.608962,0.000000]},{\"element\":\"LJ\",\"location\":[12.382763,-1.349978,0.000000]},{\"element\":\"LJ\",\"location\":[9.147909,2.626583,0.000000]},{\"element\":\"LJ\",\"location\":[8.844719,-2.532849,0.000000]},{\"element\":\"LJ\",\"location\":[12.583368,1.095997,0.000000]},{\"element\":\"LJ\",\"location\":[7.333858,0.944293,0.000000]},{\"element\":\"LJ\",\"location\":[11.338405,-2.516679,0.000000]},{\"element\":\"LJ\",\"location\":[10.718559,2.780948,0.000000]},{\"element\":\"LJ\",\"location\":[7.573477,-1.577018,0.000000]},{\"element\":\"LJ\",\"location\":[12.875726,-0.479789,0.000000]},{\"element\":\"LJ\",\"location\":[8.190461,2.313130,0.000000]},{\"element\":\"LJ\",\"location\":[9.770153,-2.949097,0.000000]},{\"element\":\"LJ\",\"location\":[12.176953,2.033685,0.000000]},{\"element\":\"LJ\",\"location\":[7.000143,-0.029269,0.000000]},{\"element\":\"LJ\",\"location\":[12.247217,-2.018666,0.000000]},{\"element\":\"LJ\",\"location\":[9.704558,3.026998,0.000000]},{\"element\":\"LJ\",\"location\":[8.160840,-2.447956,0.000000]},{\"element\":\"LJ\",\"location\":[13.029708,0.566451,0.000000]},{\"element\":\"LJ\",\"location\":[7.366197,1.639536,0.000000]},{\"element\":\"LJ\",\"location\":[10.839996,-3.007392,0.000000]},{\"element\":\"LJ\",\"location\":[11.421101,2.802762,0.000000]},{\"element\":\"LJ\",\"location\":[7.040330,-1.113712,0.000000]},{\"element\":\"LJ\",\"location\":[12.952955,-1.185351,0.000000]},{\"element\":\"LJ\",\"location\":[8.614804,2.886387,0.000000]},{\"element\":\"LJ\",\"location\":[9.066030,-3.082645,0.000000]},{\"element\":\"LJ\",\"location\":[12.787620,1.652022,0.000000]},{\"element\":\"LJ\",\"location\":[6.809749,0.668806,0.000000]},{\"element\":\"LJ\",\"location\":[11.911767,-2.663672,0.000000]},{\"element\":\"LJ\",\"location\":[10.391866,3.274361,0.000000]},{\"element\":\"LJ\",\"location\":[7.484920,-2.162030,0.000000]},{\"element\":\"LJ\",\"location\":[13.333754,-0.105292,0.000000]},{\"element\":\"LJ\",\"location\":[7.599544,2.342608,0.000000]},{\"element\":\"LJ\",\"location\":[10.188652,-3.367404,0.000000]},{\"element\":\"LJ\",\"location\":[12.147244,2.624756,0.000000]},{\"element\":\"LJ\",\"location\":[6.625500,-0.487599,0.000000]},{\"element\":\"LJ\",\"location\":[12.832727,-1.930196,0.000000]},{\"element\":\"LJ\",\"location\":[9.210900,3.354448,0.000000]},{\"element\":\"LJ\",\"location\":[8.307121,-3.022277,0.000000]},{\"element\":\"LJ\",\"location\":[13.306885,1.090646,0.000000]},{\"element\":\"LJ\",\"location\":[6.808560,1.436910,0.000000]},{\"element\":\"LJ\",\"location\":[11.389686,-3.231683,0.000000]},{\"element\":\"LJ\",\"location\":[11.164094,3.338396,0.000000]},{\"element\":\"LJ\",\"location\":[6.871051,-1.683650,0.000000]},{\"element\":\"LJ\",\"location\":[13.461489,-0.876410,0.000000]},{\"element\":\"LJ\",\"location\":[8.030026,2.999034,0.000000]},{\"element\":\"LJ\",\"location\":[9.424004,-3.559245,0.000000]},{\"element\":\"LJ\",\"location\":[12.842526,2.246118,0.000000]},{\"element\":\"LJ\",\"location\":[6.369614,0.265134,0.000000]},{\"element\":\"LJ\",\"location\":[12.509593,-2.660253,0.000000]},{\"element\":\"LJ\",\"location\":[9.946230,3.673841,0.000000]},{\"element\":\"LJ\",\"location\":[7.546725,-2.757978,0.000000]},{\"element\":\"LJ\",\"location\":[13.688761,0.378206,0.000000]},{\"element\":\"LJ\",\"location\":[7.011053,2.222880,0.000000]},{\"element\":\"LJ\",\"location\":[10.705579,-3.674528,0.000000]},{\"element\":\"LJ\",\"location\":[11.970575,3.200287,0.000000]},{\"element\":\"LJ\",\"location\":[6.369237,-1.033229,0.000000]},{\"element\":\"LJ\",\"location\":[13.389919,-1.698073,0.000000]},{\"element\":\"LJ\",\"location\":[8.641543,3.557330,0.000000]},{\"element\":\"LJ\",\"location\":[8.592715,-3.555918,0.000000]},{\"element\":\"LJ\",\"location\":[13.454344,1.678543,0.000000]},{\"element\":\"LJ\",\"location\":[6.303470,1.100303,0.000000]},{\"element\":\"LJ\",\"location\":[11.990774,-3.322171,0.000000]},{\"element\":\"LJ\",\"location\":[10.779386,3.810191,0.000000]},{\"element\":\"LJ\",\"location\":[6.838574,-2.292463,0.000000]},{\"element\":\"LJ\",\"location\":[13.895541,-0.446942,0.000000]},{\"element\":\"LJ\",\"location\":[7.419026,2.972974,0.000000]},{\"element\":\"LJ\",\"location\":[9.894492,-3.951439,0.000000]},{\"element\":\"LJ\",\"location\":[12.757922,2.853746,0.000000]},{\"element\":\"LJ\",\"location\":[6.023028,-0.242269,0.000000]},{\"element\":\"LJ\",\"location\":[13.108311,-2.517618,0.000000]},{\"element\":\"LJ\",\"location\":[9.406349,3.971471,0.000000]},{\"element\":\"LJ\",\"location\":[7.746365,-3.342324,0.000000]},{\"element\":\"LJ\",\"location\":[13.934514,0.945834,0.000000]},{\"element\":\"LJ\",\"location\":[6.446424,1.967765,0.000000]},{\"element\":\"LJ\",\"location\":[11.295972,-3.865936,0.000000]},{\"element\":\"LJ\",\"location\":[11.662006,3.740018,0.000000]},{\"element\":\"LJ\",\"location\":[6.234169,-1.641194,0.000000]},{\"element\":\"LJ\",\"location\":[13.899781,-1.338547,0.000000]},{\"element\":\"LJ\",\"location\":[8.021364,3.634556,0.000000]},{\"element\":\"LJ\",\"location\":[9.000248,-4.031190,0.000000]},{\"element\":\"LJ\",\"location\":[13.472730,2.305460,0.000000]},{\"element\":\"LJ\",\"location\":[5.867215,0.648140,0.000000]},{\"element\":\"LJ\",\"location\":[12.618878,-3.281231,0.000000]},{\"element\":\"LJ\",\"location\":[10.286370,4.203331,0.000000]},{\"element\":\"LJ\",\"location\":[6.938808,-2.916179,0.000000]},{\"element\":\"LJ\",\"location\":[14.241833,0.082782,0.000000]},{\"element\":\"LJ\",\"location\":[6.805250,2.813996,0.000000]},{\"element\":\"LJ\",\"location\":[10.456448,-4.247547,0.000000]},{\"element\":\"LJ\",\"location\":[12.541265,3.452097,0.000000]},{\"element\":\"LJ\",\"location\":[5.780012,-0.831683,0.000000]},{\"element\":\"LJ\",\"location\":[13.685872,-2.244850,0.000000]},{\"element\":\"LJ\",\"location\":[8.794502,4.158939,0.000000]},{\"element\":\"LJ\",\"location\":[8.073183,-3.893890,0.000000]},{\"element\":\"LJ\",\"location\":[14.064451,1.574876,0.000000]},{\"element\":\"LJ\",\"location\":[5.925851,1.589436,0.000000]},{\"element\":\"LJ\",\"location\":[11.936801,-3.936852,0.000000]},{\"element\":\"LJ\",\"location\":[11.235159,4.224853,0.000000]},{\"element\":\"LJ\",\"location\":[6.223261,-2.288283,0.000000]},{\"element\":\"LJ\",\"location\":[14.344421,-0.866606,0.000000]},{\"element\":\"LJ\",\"location\":[7.373619,3.584986,0.000000]},{\"element\":\"LJ\",\"location\":[9.513456,-4.431509,0.000000]},{\"element\":\"LJ\",\"location\":[13.362729,2.948229,0.000000]},{\"element\":\"LJ\",\"location\":[5.514978,0.097863,0.000000]},{\"element\":\"LJ\",\"location\":[13.251060,-3.111368,0.000000]},{\"element\":\"LJ\",\"location\":[9.703557,4.504123,0.000000]},{\"element\":\"LJ\",\"location\":[7.167447,-3.532230,0.000000]},{\"element\":\"LJ\",\"location\":[14.488244,0.693298,0.000000]},{\"element\":\"LJ\",\"location\":[6.210761,2.528175,0.000000]},{\"element\":\"LJ\",\"location\":[11.089576,-4.437096,0.000000]},{\"element\":\"LJ\",\"location\":[12.200355,4.019756,0.000000]},{\"element\":\"LJ\",\"location\":[5.649330,-1.482116,0.000000]},{\"element\":\"LJ\",\"location\":[14.221639,-1.851422,0.000000]},{\"element\":\"LJ\",\"location\":[8.132243,4.229242,0.000000]},{\"element\":\"LJ\",\"location\":[8.516094,-4.392951,0.000000]},{\"element\":\"LJ\",\"location\":[14.073372,2.243355,0.000000]},{\"element\":\"LJ\",\"location\":[5.468016,1.100510,0.000000]},{\"element\":\"LJ\",\"location\":[12.605816,-3.883906,0.000000]},{\"element\":\"LJ\",\"location\":[10.704097,4.637267,0.000000]},{\"element\":\"LJ\",\"location\":[6.338033,-2.952117,0.000000]},{\"element\":\"LJ\",\"location\":[14.707589,-0.297661,0.000000]},{\"element\":\"LJ\",\"location\":[6.720664,3.408953,0.000000]},{\"element\":\"LJ\",\"location\":[10.115687,-4.742006,0.000000]},{\"element\":\"LJ\",\"location\":[13.126523,3.584669,0.000000]},{\"element\":\"LJ\",\"location\":[5.260150,-0.532753,0.000000]},{\"element\":\"LJ\",\"location\":[13.865463,-2.816593,0.000000]},{\"element\":\"LJ\",\"location\":[9.049723,4.700742,0.000000]},{\"element\":\"LJ\",\"location\":[7.518684,-4.119232,0.000000]},{\"element\":\"LJ\",\"location\":[14.624595,1.364962,0.000000]},{\"element\":\"LJ\",\"location\":[5.656319,2.123073,0.000000]},{\"element\":\"LJ\",\"location\":[11.773503,-4.511617,0.000000]},{\"element\":\"LJ\",\"location\":[11.744448,4.536728,0.000000]},{\"element\":\"LJ\",\"location\":[5.637687,-2.172609,0.000000]},{\"element\":\"LJ\",\"location\":[14.696520,-1.348220,0.000000]},{\"element\":\"LJ\",\"location\":[7.440968,4.177482,0.000000]},{\"element\":\"LJ\",\"location\":[9.062670,-4.821453,0.000000]},{\"element\":\"LJ\",\"location\":[13.958218,2.929593,0.000000]},{\"element\":\"LJ\",\"location\":[5.089816,0.514869,0.000000]},{\"element\":\"LJ\",\"location\":[13.281209,-3.705896,0.000000]},{\"element\":\"LJ\",\"location\":[10.084049,4.961646,0.000000]},{\"element\":\"LJ\",\"location\":[6.577828,-3.610919,0.000000]},{\"element\":\"LJ\",\"location\":[14.975060,0.351821,0.000000]}],\"bonds\":[],\"name\":\"MonoLJ\"});\n",
       "\n",
       "               $d.resizable({\n",
       "                   aspectRatio: 400 / 300,\n",
       "                   resize: function (evt, ui) {\n",
       "                       $d.imolecule.renderer.setSize(ui.size.width,\n",
       "                                                     ui.size.height);\n",
       "                   }\n",
       "               });\n",
       "           });\n",
       "           </script>"
      ],
      "text/plain": [
       "<IPython.core.display.HTML object>"
      ]
     },
     "metadata": {},
     "output_type": "display_data"
    }
   ],
   "source": [
    "import mbuild as mb\n",
    "\n",
    "class SphereLJ(mb.Compound):\n",
    "    def __init__(self):\n",
    "        super(SphereLJ, self).__init__()\n",
    "        lj_proto = mb.Particle(name='LJ', pos=[0, 0, 0])\n",
    "        \n",
    "        pattern_sphere = mb.SpherePattern(200)\n",
    "        pattern_sphere.scale(0.5)\n",
    "        \n",
    "        for pos in pattern_sphere:\n",
    "            lj_particle = mb.clone(lj_proto)\n",
    "            mb.translate(lj_particle, pos)\n",
    "            self.add(lj_particle)\n",
    "\n",
    "class DiskLJ(mb.Compound):\n",
    "    def __init__(self):\n",
    "        super(DiskLJ, self).__init__()\n",
    "        lj_proto = mb.Particle(name='LJ', pos=[0, 0, 0])\n",
    "\n",
    "        pattern_disk = mb.DiskPattern(200)\n",
    "        pattern_disk.scale(0.5)\n",
    "        for pos in pattern_disk:\n",
    "            lj_particle = mb.clone(lj_proto)\n",
    "            mb.translate(lj_particle, pos)\n",
    "            self.add(lj_particle)\n",
    "\n",
    "\n",
    "class MonoLJ(mb.Compound):\n",
    "    def __init__(self):\n",
    "        super(MonoLJ, self).__init__()\n",
    "        \n",
    "        sphere = SphereLJ();\n",
    "        pos=[-1, 0, 0]\n",
    "        mb.translate(sphere, pos)\n",
    "        self.add(sphere)\n",
    "\n",
    "        disk = DiskLJ();\n",
    "        pos=[1, 0, 0]\n",
    "        mb.translate(disk, pos)\n",
    "        self.add(disk)\n",
    "\n",
    "\n",
    "monoLJ = MonoLJ()\n",
    "colors = {'LJ': {'color': 0xbfbfbf, 'radius': 1.0}}\n",
    "monoLJ.visualize(element_properties=colors)\n",
    "\n"
   ]
  },
  {
   "cell_type": "markdown",
   "metadata": {},
   "source": [
    "Again, since mBuild is hierarchical, the pattern functions can be used to generate large systems of any arbitary component.  For example, we can replicate the SphereLJ component on a regular array."
   ]
  },
  {
   "cell_type": "code",
   "execution_count": 9,
   "metadata": {
    "collapsed": false
   },
   "outputs": [
    {
     "data": {
      "text/html": [
       "<div id=\"molecule_8ae3e915-b0c1-42c9-871c-d82fd44ce1a2\"></div>\n",
       "           <script type=\"text/javascript\">\n",
       "           require.config({baseUrl: '/',\n",
       "                           paths: {imolecule: ['nbextensions/imolecule.min', 'https://rawgit.com/patrickfuller/imolecule/master/imolecule/js/build/imolecule.min']}});\n",
       "           require(['imolecule'], function () {\n",
       "               var $d = $('#molecule_8ae3e915-b0c1-42c9-871c-d82fd44ce1a2');\n",
       "               $d.width(400); $d.height(300);\n",
       "               $d.imolecule = jQuery.extend({}, imolecule);\n",
       "               $d.imolecule.create($d, {drawingType: 'ball and stick',\n",
       "                                        cameraType: 'perspective',\n",
       "                                        shader: 'lambert',\n",
       "                                        showSave: false});\n",
       "               $d.imolecule.addElements({\n",
       "    \"LJ\": {\n",
       "        \"color\": 12566463,\n",
       "        \"radius\": 5\n",
       "    }\n",
       "});\n",
       "               $d.imolecule.draw({\"atoms\":[{\"element\":\"LJ\",\"location\":[-48.065448,-49.957314,-54.615385]},{\"element\":\"LJ\",\"location\":[-52.344312,-52.115408,-53.846154]},{\"element\":\"LJ\",\"location\":[-49.643969,-46.031269,-53.076923]},{\"element\":\"LJ\",\"location\":[-47.289733,-53.477410,-52.307692]},{\"element\":\"LJ\",\"location\":[-54.673230,-49.128656,-51.538462]},{\"element\":\"LJ\",\"location\":[-45.819974,-47.305623,-50.769231]},{\"element\":\"LJ\",\"location\":[-51.286547,-54.785889,-50.000000]},{\"element\":\"LJ\",\"location\":[-52.265624,-45.572898,-49.230769]},{\"element\":\"LJ\",\"location\":[-45.519770,-51.589296,-48.461538]},{\"element\":\"LJ\",\"location\":[-54.088553,-51.649746,-47.692308]},{\"element\":\"LJ\",\"location\":[-48.318091,-46.387693,-46.923077]},{\"element\":\"LJ\",\"location\":[-49.032356,-53.005730,-46.153846]},{\"element\":\"LJ\",\"location\":[-51.652393,-48.993069,-45.384615]},{\"element\":\"LJ\",\"location\":[-48.065448,-49.957314,-21.282051]},{\"element\":\"LJ\",\"location\":[-52.344312,-52.115408,-20.512821]},{\"element\":\"LJ\",\"location\":[-49.643969,-46.031269,-19.743590]},{\"element\":\"LJ\",\"location\":[-47.289733,-53.477410,-18.974359]},{\"element\":\"LJ\",\"location\":[-54.673230,-49.128656,-18.205128]},{\"element\":\"LJ\",\"location\":[-45.819974,-47.305623,-17.435897]},{\"element\":\"LJ\",\"location\":[-51.286547,-54.785889,-16.666667]},{\"element\":\"LJ\",\"location\":[-52.265624,-45.572898,-15.897436]},{\"element\":\"LJ\",\"location\":[-45.519770,-51.589296,-15.128205]},{\"element\":\"LJ\",\"location\":[-54.088553,-51.649746,-14.358974]},{\"element\":\"LJ\",\"location\":[-48.318091,-46.387693,-13.589744]},{\"element\":\"LJ\",\"location\":[-49.032356,-53.005730,-12.820513]},{\"element\":\"LJ\",\"location\":[-51.652393,-48.993069,-12.051282]},{\"element\":\"LJ\",\"location\":[-48.065448,-49.957314,12.051282]},{\"element\":\"LJ\",\"location\":[-52.344312,-52.115408,12.820513]},{\"element\":\"LJ\",\"location\":[-49.643969,-46.031269,13.589744]},{\"element\":\"LJ\",\"location\":[-47.289733,-53.477410,14.358974]},{\"element\":\"LJ\",\"location\":[-54.673230,-49.128656,15.128205]},{\"element\":\"LJ\",\"location\":[-45.819974,-47.305623,15.897436]},{\"element\":\"LJ\",\"location\":[-51.286547,-54.785889,16.666667]},{\"element\":\"LJ\",\"location\":[-52.265624,-45.572898,17.435897]},{\"element\":\"LJ\",\"location\":[-45.519770,-51.589296,18.205128]},{\"element\":\"LJ\",\"location\":[-54.088553,-51.649746,18.974359]},{\"element\":\"LJ\",\"location\":[-48.318091,-46.387693,19.743590]},{\"element\":\"LJ\",\"location\":[-49.032356,-53.005730,20.512821]},{\"element\":\"LJ\",\"location\":[-51.652393,-48.993069,21.282051]},{\"element\":\"LJ\",\"location\":[-48.065448,-16.623981,-54.615385]},{\"element\":\"LJ\",\"location\":[-52.344312,-18.782074,-53.846154]},{\"element\":\"LJ\",\"location\":[-49.643969,-12.697936,-53.076923]},{\"element\":\"LJ\",\"location\":[-47.289733,-20.144077,-52.307692]},{\"element\":\"LJ\",\"location\":[-54.673230,-15.795322,-51.538462]},{\"element\":\"LJ\",\"location\":[-45.819974,-13.972290,-50.769231]},{\"element\":\"LJ\",\"location\":[-51.286547,-21.452556,-50.000000]},{\"element\":\"LJ\",\"location\":[-52.265624,-12.239565,-49.230769]},{\"element\":\"LJ\",\"location\":[-45.519770,-18.255963,-48.461538]},{\"element\":\"LJ\",\"location\":[-54.088553,-18.316413,-47.692308]},{\"element\":\"LJ\",\"location\":[-48.318091,-13.054360,-46.923077]},{\"element\":\"LJ\",\"location\":[-49.032356,-19.672397,-46.153846]},{\"element\":\"LJ\",\"location\":[-51.652393,-15.659735,-45.384615]},{\"element\":\"LJ\",\"location\":[-48.065448,-16.623981,-21.282051]},{\"element\":\"LJ\",\"location\":[-52.344312,-18.782074,-20.512821]},{\"element\":\"LJ\",\"location\":[-49.643969,-12.697936,-19.743590]},{\"element\":\"LJ\",\"location\":[-47.289733,-20.144077,-18.974359]},{\"element\":\"LJ\",\"location\":[-54.673230,-15.795322,-18.205128]},{\"element\":\"LJ\",\"location\":[-45.819974,-13.972290,-17.435897]},{\"element\":\"LJ\",\"location\":[-51.286547,-21.452556,-16.666667]},{\"element\":\"LJ\",\"location\":[-52.265624,-12.239565,-15.897436]},{\"element\":\"LJ\",\"location\":[-45.519770,-18.255963,-15.128205]},{\"element\":\"LJ\",\"location\":[-54.088553,-18.316413,-14.358974]},{\"element\":\"LJ\",\"location\":[-48.318091,-13.054360,-13.589744]},{\"element\":\"LJ\",\"location\":[-49.032356,-19.672397,-12.820513]},{\"element\":\"LJ\",\"location\":[-51.652393,-15.659735,-12.051282]},{\"element\":\"LJ\",\"location\":[-48.065448,-16.623981,12.051282]},{\"element\":\"LJ\",\"location\":[-52.344312,-18.782074,12.820513]},{\"element\":\"LJ\",\"location\":[-49.643969,-12.697936,13.589744]},{\"element\":\"LJ\",\"location\":[-47.289733,-20.144077,14.358974]},{\"element\":\"LJ\",\"location\":[-54.673230,-15.795322,15.128205]},{\"element\":\"LJ\",\"location\":[-45.819974,-13.972290,15.897436]},{\"element\":\"LJ\",\"location\":[-51.286547,-21.452556,16.666667]},{\"element\":\"LJ\",\"location\":[-52.265624,-12.239565,17.435897]},{\"element\":\"LJ\",\"location\":[-45.519770,-18.255963,18.205128]},{\"element\":\"LJ\",\"location\":[-54.088553,-18.316413,18.974359]},{\"element\":\"LJ\",\"location\":[-48.318091,-13.054360,19.743590]},{\"element\":\"LJ\",\"location\":[-49.032356,-19.672397,20.512821]},{\"element\":\"LJ\",\"location\":[-51.652393,-15.659735,21.282051]},{\"element\":\"LJ\",\"location\":[-48.065448,16.709353,-54.615385]},{\"element\":\"LJ\",\"location\":[-52.344312,14.551259,-53.846154]},{\"element\":\"LJ\",\"location\":[-49.643969,20.635397,-53.076923]},{\"element\":\"LJ\",\"location\":[-47.289733,13.189257,-52.307692]},{\"element\":\"LJ\",\"location\":[-54.673230,17.538011,-51.538462]},{\"element\":\"LJ\",\"location\":[-45.819974,19.361044,-50.769231]},{\"element\":\"LJ\",\"location\":[-51.286547,11.880777,-50.000000]},{\"element\":\"LJ\",\"location\":[-52.265624,21.093769,-49.230769]},{\"element\":\"LJ\",\"location\":[-45.519770,15.077371,-48.461538]},{\"element\":\"LJ\",\"location\":[-54.088553,15.016921,-47.692308]},{\"element\":\"LJ\",\"location\":[-48.318091,20.278974,-46.923077]},{\"element\":\"LJ\",\"location\":[-49.032356,13.660936,-46.153846]},{\"element\":\"LJ\",\"location\":[-51.652393,17.673598,-45.384615]},{\"element\":\"LJ\",\"location\":[-48.065448,16.709353,-21.282051]},{\"element\":\"LJ\",\"location\":[-52.344312,14.551259,-20.512821]},{\"element\":\"LJ\",\"location\":[-49.643969,20.635397,-19.743590]},{\"element\":\"LJ\",\"location\":[-47.289733,13.189257,-18.974359]},{\"element\":\"LJ\",\"location\":[-54.673230,17.538011,-18.205128]},{\"element\":\"LJ\",\"location\":[-45.819974,19.361044,-17.435897]},{\"element\":\"LJ\",\"location\":[-51.286547,11.880777,-16.666667]},{\"element\":\"LJ\",\"location\":[-52.265624,21.093769,-15.897436]},{\"element\":\"LJ\",\"location\":[-45.519770,15.077371,-15.128205]},{\"element\":\"LJ\",\"location\":[-54.088553,15.016921,-14.358974]},{\"element\":\"LJ\",\"location\":[-48.318091,20.278974,-13.589744]},{\"element\":\"LJ\",\"location\":[-49.032356,13.660936,-12.820513]},{\"element\":\"LJ\",\"location\":[-51.652393,17.673598,-12.051282]},{\"element\":\"LJ\",\"location\":[-48.065448,16.709353,12.051282]},{\"element\":\"LJ\",\"location\":[-52.344312,14.551259,12.820513]},{\"element\":\"LJ\",\"location\":[-49.643969,20.635397,13.589744]},{\"element\":\"LJ\",\"location\":[-47.289733,13.189257,14.358974]},{\"element\":\"LJ\",\"location\":[-54.673230,17.538011,15.128205]},{\"element\":\"LJ\",\"location\":[-45.819974,19.361044,15.897436]},{\"element\":\"LJ\",\"location\":[-51.286547,11.880777,16.666667]},{\"element\":\"LJ\",\"location\":[-52.265624,21.093769,17.435897]},{\"element\":\"LJ\",\"location\":[-45.519770,15.077371,18.205128]},{\"element\":\"LJ\",\"location\":[-54.088553,15.016921,18.974359]},{\"element\":\"LJ\",\"location\":[-48.318091,20.278974,19.743590]},{\"element\":\"LJ\",\"location\":[-49.032356,13.660936,20.512821]},{\"element\":\"LJ\",\"location\":[-51.652393,17.673598,21.282051]},{\"element\":\"LJ\",\"location\":[-14.732115,-49.957314,-54.615385]},{\"element\":\"LJ\",\"location\":[-19.010979,-52.115408,-53.846154]},{\"element\":\"LJ\",\"location\":[-16.310635,-46.031269,-53.076923]},{\"element\":\"LJ\",\"location\":[-13.956400,-53.477410,-52.307692]},{\"element\":\"LJ\",\"location\":[-21.339897,-49.128656,-51.538462]},{\"element\":\"LJ\",\"location\":[-12.486641,-47.305623,-50.769231]},{\"element\":\"LJ\",\"location\":[-17.953213,-54.785889,-50.000000]},{\"element\":\"LJ\",\"location\":[-18.932291,-45.572898,-49.230769]},{\"element\":\"LJ\",\"location\":[-12.186437,-51.589296,-48.461538]},{\"element\":\"LJ\",\"location\":[-20.755220,-51.649746,-47.692308]},{\"element\":\"LJ\",\"location\":[-14.984757,-46.387693,-46.923077]},{\"element\":\"LJ\",\"location\":[-15.699023,-53.005730,-46.153846]},{\"element\":\"LJ\",\"location\":[-18.319059,-48.993069,-45.384615]},{\"element\":\"LJ\",\"location\":[-14.732115,-49.957314,-21.282051]},{\"element\":\"LJ\",\"location\":[-19.010979,-52.115408,-20.512821]},{\"element\":\"LJ\",\"location\":[-16.310635,-46.031269,-19.743590]},{\"element\":\"LJ\",\"location\":[-13.956400,-53.477410,-18.974359]},{\"element\":\"LJ\",\"location\":[-21.339897,-49.128656,-18.205128]},{\"element\":\"LJ\",\"location\":[-12.486641,-47.305623,-17.435897]},{\"element\":\"LJ\",\"location\":[-17.953213,-54.785889,-16.666667]},{\"element\":\"LJ\",\"location\":[-18.932291,-45.572898,-15.897436]},{\"element\":\"LJ\",\"location\":[-12.186437,-51.589296,-15.128205]},{\"element\":\"LJ\",\"location\":[-20.755220,-51.649746,-14.358974]},{\"element\":\"LJ\",\"location\":[-14.984757,-46.387693,-13.589744]},{\"element\":\"LJ\",\"location\":[-15.699023,-53.005730,-12.820513]},{\"element\":\"LJ\",\"location\":[-18.319059,-48.993069,-12.051282]},{\"element\":\"LJ\",\"location\":[-14.732115,-49.957314,12.051282]},{\"element\":\"LJ\",\"location\":[-19.010979,-52.115408,12.820513]},{\"element\":\"LJ\",\"location\":[-16.310635,-46.031269,13.589744]},{\"element\":\"LJ\",\"location\":[-13.956400,-53.477410,14.358974]},{\"element\":\"LJ\",\"location\":[-21.339897,-49.128656,15.128205]},{\"element\":\"LJ\",\"location\":[-12.486641,-47.305623,15.897436]},{\"element\":\"LJ\",\"location\":[-17.953213,-54.785889,16.666667]},{\"element\":\"LJ\",\"location\":[-18.932291,-45.572898,17.435897]},{\"element\":\"LJ\",\"location\":[-12.186437,-51.589296,18.205128]},{\"element\":\"LJ\",\"location\":[-20.755220,-51.649746,18.974359]},{\"element\":\"LJ\",\"location\":[-14.984757,-46.387693,19.743590]},{\"element\":\"LJ\",\"location\":[-15.699023,-53.005730,20.512821]},{\"element\":\"LJ\",\"location\":[-18.319059,-48.993069,21.282051]},{\"element\":\"LJ\",\"location\":[-14.732115,-16.623981,-54.615385]},{\"element\":\"LJ\",\"location\":[-19.010979,-18.782074,-53.846154]},{\"element\":\"LJ\",\"location\":[-16.310635,-12.697936,-53.076923]},{\"element\":\"LJ\",\"location\":[-13.956400,-20.144077,-52.307692]},{\"element\":\"LJ\",\"location\":[-21.339897,-15.795322,-51.538462]},{\"element\":\"LJ\",\"location\":[-12.486641,-13.972290,-50.769231]},{\"element\":\"LJ\",\"location\":[-17.953213,-21.452556,-50.000000]},{\"element\":\"LJ\",\"location\":[-18.932291,-12.239565,-49.230769]},{\"element\":\"LJ\",\"location\":[-12.186437,-18.255963,-48.461538]},{\"element\":\"LJ\",\"location\":[-20.755220,-18.316413,-47.692308]},{\"element\":\"LJ\",\"location\":[-14.984757,-13.054360,-46.923077]},{\"element\":\"LJ\",\"location\":[-15.699023,-19.672397,-46.153846]},{\"element\":\"LJ\",\"location\":[-18.319059,-15.659735,-45.384615]},{\"element\":\"LJ\",\"location\":[-14.732115,-16.623981,-21.282051]},{\"element\":\"LJ\",\"location\":[-19.010979,-18.782074,-20.512821]},{\"element\":\"LJ\",\"location\":[-16.310635,-12.697936,-19.743590]},{\"element\":\"LJ\",\"location\":[-13.956400,-20.144077,-18.974359]},{\"element\":\"LJ\",\"location\":[-21.339897,-15.795322,-18.205128]},{\"element\":\"LJ\",\"location\":[-12.486641,-13.972290,-17.435897]},{\"element\":\"LJ\",\"location\":[-17.953213,-21.452556,-16.666667]},{\"element\":\"LJ\",\"location\":[-18.932291,-12.239565,-15.897436]},{\"element\":\"LJ\",\"location\":[-12.186437,-18.255963,-15.128205]},{\"element\":\"LJ\",\"location\":[-20.755220,-18.316413,-14.358974]},{\"element\":\"LJ\",\"location\":[-14.984757,-13.054360,-13.589744]},{\"element\":\"LJ\",\"location\":[-15.699023,-19.672397,-12.820513]},{\"element\":\"LJ\",\"location\":[-18.319059,-15.659735,-12.051282]},{\"element\":\"LJ\",\"location\":[-14.732115,-16.623981,12.051282]},{\"element\":\"LJ\",\"location\":[-19.010979,-18.782074,12.820513]},{\"element\":\"LJ\",\"location\":[-16.310635,-12.697936,13.589744]},{\"element\":\"LJ\",\"location\":[-13.956400,-20.144077,14.358974]},{\"element\":\"LJ\",\"location\":[-21.339897,-15.795322,15.128205]},{\"element\":\"LJ\",\"location\":[-12.486641,-13.972290,15.897436]},{\"element\":\"LJ\",\"location\":[-17.953213,-21.452556,16.666667]},{\"element\":\"LJ\",\"location\":[-18.932291,-12.239565,17.435897]},{\"element\":\"LJ\",\"location\":[-12.186437,-18.255963,18.205128]},{\"element\":\"LJ\",\"location\":[-20.755220,-18.316413,18.974359]},{\"element\":\"LJ\",\"location\":[-14.984757,-13.054360,19.743590]},{\"element\":\"LJ\",\"location\":[-15.699023,-19.672397,20.512821]},{\"element\":\"LJ\",\"location\":[-18.319059,-15.659735,21.282051]},{\"element\":\"LJ\",\"location\":[-14.732115,16.709353,-54.615385]},{\"element\":\"LJ\",\"location\":[-19.010979,14.551259,-53.846154]},{\"element\":\"LJ\",\"location\":[-16.310635,20.635397,-53.076923]},{\"element\":\"LJ\",\"location\":[-13.956400,13.189257,-52.307692]},{\"element\":\"LJ\",\"location\":[-21.339897,17.538011,-51.538462]},{\"element\":\"LJ\",\"location\":[-12.486641,19.361044,-50.769231]},{\"element\":\"LJ\",\"location\":[-17.953213,11.880777,-50.000000]},{\"element\":\"LJ\",\"location\":[-18.932291,21.093769,-49.230769]},{\"element\":\"LJ\",\"location\":[-12.186437,15.077371,-48.461538]},{\"element\":\"LJ\",\"location\":[-20.755220,15.016921,-47.692308]},{\"element\":\"LJ\",\"location\":[-14.984757,20.278974,-46.923077]},{\"element\":\"LJ\",\"location\":[-15.699023,13.660936,-46.153846]},{\"element\":\"LJ\",\"location\":[-18.319059,17.673598,-45.384615]},{\"element\":\"LJ\",\"location\":[-14.732115,16.709353,-21.282051]},{\"element\":\"LJ\",\"location\":[-19.010979,14.551259,-20.512821]},{\"element\":\"LJ\",\"location\":[-16.310635,20.635397,-19.743590]},{\"element\":\"LJ\",\"location\":[-13.956400,13.189257,-18.974359]},{\"element\":\"LJ\",\"location\":[-21.339897,17.538011,-18.205128]},{\"element\":\"LJ\",\"location\":[-12.486641,19.361044,-17.435897]},{\"element\":\"LJ\",\"location\":[-17.953213,11.880777,-16.666667]},{\"element\":\"LJ\",\"location\":[-18.932291,21.093769,-15.897436]},{\"element\":\"LJ\",\"location\":[-12.186437,15.077371,-15.128205]},{\"element\":\"LJ\",\"location\":[-20.755220,15.016921,-14.358974]},{\"element\":\"LJ\",\"location\":[-14.984757,20.278974,-13.589744]},{\"element\":\"LJ\",\"location\":[-15.699023,13.660936,-12.820513]},{\"element\":\"LJ\",\"location\":[-18.319059,17.673598,-12.051282]},{\"element\":\"LJ\",\"location\":[-14.732115,16.709353,12.051282]},{\"element\":\"LJ\",\"location\":[-19.010979,14.551259,12.820513]},{\"element\":\"LJ\",\"location\":[-16.310635,20.635397,13.589744]},{\"element\":\"LJ\",\"location\":[-13.956400,13.189257,14.358974]},{\"element\":\"LJ\",\"location\":[-21.339897,17.538011,15.128205]},{\"element\":\"LJ\",\"location\":[-12.486641,19.361044,15.897436]},{\"element\":\"LJ\",\"location\":[-17.953213,11.880777,16.666667]},{\"element\":\"LJ\",\"location\":[-18.932291,21.093769,17.435897]},{\"element\":\"LJ\",\"location\":[-12.186437,15.077371,18.205128]},{\"element\":\"LJ\",\"location\":[-20.755220,15.016921,18.974359]},{\"element\":\"LJ\",\"location\":[-14.984757,20.278974,19.743590]},{\"element\":\"LJ\",\"location\":[-15.699023,13.660936,20.512821]},{\"element\":\"LJ\",\"location\":[-18.319059,17.673598,21.282051]},{\"element\":\"LJ\",\"location\":[18.601219,-49.957314,-54.615385]},{\"element\":\"LJ\",\"location\":[14.322355,-52.115408,-53.846154]},{\"element\":\"LJ\",\"location\":[17.022698,-46.031269,-53.076923]},{\"element\":\"LJ\",\"location\":[19.376934,-53.477410,-52.307692]},{\"element\":\"LJ\",\"location\":[11.993437,-49.128656,-51.538462]},{\"element\":\"LJ\",\"location\":[20.846693,-47.305623,-50.769231]},{\"element\":\"LJ\",\"location\":[15.380120,-54.785889,-50.000000]},{\"element\":\"LJ\",\"location\":[14.401042,-45.572898,-49.230769]},{\"element\":\"LJ\",\"location\":[21.146896,-51.589296,-48.461538]},{\"element\":\"LJ\",\"location\":[12.578114,-51.649746,-47.692308]},{\"element\":\"LJ\",\"location\":[18.348576,-46.387693,-46.923077]},{\"element\":\"LJ\",\"location\":[17.634310,-53.005730,-46.153846]},{\"element\":\"LJ\",\"location\":[15.014274,-48.993069,-45.384615]},{\"element\":\"LJ\",\"location\":[18.601219,-49.957314,-21.282051]},{\"element\":\"LJ\",\"location\":[14.322355,-52.115408,-20.512821]},{\"element\":\"LJ\",\"location\":[17.022698,-46.031269,-19.743590]},{\"element\":\"LJ\",\"location\":[19.376934,-53.477410,-18.974359]},{\"element\":\"LJ\",\"location\":[11.993437,-49.128656,-18.205128]},{\"element\":\"LJ\",\"location\":[20.846693,-47.305623,-17.435897]},{\"element\":\"LJ\",\"location\":[15.380120,-54.785889,-16.666667]},{\"element\":\"LJ\",\"location\":[14.401042,-45.572898,-15.897436]},{\"element\":\"LJ\",\"location\":[21.146896,-51.589296,-15.128205]},{\"element\":\"LJ\",\"location\":[12.578114,-51.649746,-14.358974]},{\"element\":\"LJ\",\"location\":[18.348576,-46.387693,-13.589744]},{\"element\":\"LJ\",\"location\":[17.634310,-53.005730,-12.820513]},{\"element\":\"LJ\",\"location\":[15.014274,-48.993069,-12.051282]},{\"element\":\"LJ\",\"location\":[18.601219,-49.957314,12.051282]},{\"element\":\"LJ\",\"location\":[14.322355,-52.115408,12.820513]},{\"element\":\"LJ\",\"location\":[17.022698,-46.031269,13.589744]},{\"element\":\"LJ\",\"location\":[19.376934,-53.477410,14.358974]},{\"element\":\"LJ\",\"location\":[11.993437,-49.128656,15.128205]},{\"element\":\"LJ\",\"location\":[20.846693,-47.305623,15.897436]},{\"element\":\"LJ\",\"location\":[15.380120,-54.785889,16.666667]},{\"element\":\"LJ\",\"location\":[14.401042,-45.572898,17.435897]},{\"element\":\"LJ\",\"location\":[21.146896,-51.589296,18.205128]},{\"element\":\"LJ\",\"location\":[12.578114,-51.649746,18.974359]},{\"element\":\"LJ\",\"location\":[18.348576,-46.387693,19.743590]},{\"element\":\"LJ\",\"location\":[17.634310,-53.005730,20.512821]},{\"element\":\"LJ\",\"location\":[15.014274,-48.993069,21.282051]},{\"element\":\"LJ\",\"location\":[18.601219,-16.623981,-54.615385]},{\"element\":\"LJ\",\"location\":[14.322355,-18.782074,-53.846154]},{\"element\":\"LJ\",\"location\":[17.022698,-12.697936,-53.076923]},{\"element\":\"LJ\",\"location\":[19.376934,-20.144077,-52.307692]},{\"element\":\"LJ\",\"location\":[11.993437,-15.795322,-51.538462]},{\"element\":\"LJ\",\"location\":[20.846693,-13.972290,-50.769231]},{\"element\":\"LJ\",\"location\":[15.380120,-21.452556,-50.000000]},{\"element\":\"LJ\",\"location\":[14.401042,-12.239565,-49.230769]},{\"element\":\"LJ\",\"location\":[21.146896,-18.255963,-48.461538]},{\"element\":\"LJ\",\"location\":[12.578114,-18.316413,-47.692308]},{\"element\":\"LJ\",\"location\":[18.348576,-13.054360,-46.923077]},{\"element\":\"LJ\",\"location\":[17.634310,-19.672397,-46.153846]},{\"element\":\"LJ\",\"location\":[15.014274,-15.659735,-45.384615]},{\"element\":\"LJ\",\"location\":[18.601219,-16.623981,-21.282051]},{\"element\":\"LJ\",\"location\":[14.322355,-18.782074,-20.512821]},{\"element\":\"LJ\",\"location\":[17.022698,-12.697936,-19.743590]},{\"element\":\"LJ\",\"location\":[19.376934,-20.144077,-18.974359]},{\"element\":\"LJ\",\"location\":[11.993437,-15.795322,-18.205128]},{\"element\":\"LJ\",\"location\":[20.846693,-13.972290,-17.435897]},{\"element\":\"LJ\",\"location\":[15.380120,-21.452556,-16.666667]},{\"element\":\"LJ\",\"location\":[14.401042,-12.239565,-15.897436]},{\"element\":\"LJ\",\"location\":[21.146896,-18.255963,-15.128205]},{\"element\":\"LJ\",\"location\":[12.578114,-18.316413,-14.358974]},{\"element\":\"LJ\",\"location\":[18.348576,-13.054360,-13.589744]},{\"element\":\"LJ\",\"location\":[17.634310,-19.672397,-12.820513]},{\"element\":\"LJ\",\"location\":[15.014274,-15.659735,-12.051282]},{\"element\":\"LJ\",\"location\":[18.601219,-16.623981,12.051282]},{\"element\":\"LJ\",\"location\":[14.322355,-18.782074,12.820513]},{\"element\":\"LJ\",\"location\":[17.022698,-12.697936,13.589744]},{\"element\":\"LJ\",\"location\":[19.376934,-20.144077,14.358974]},{\"element\":\"LJ\",\"location\":[11.993437,-15.795322,15.128205]},{\"element\":\"LJ\",\"location\":[20.846693,-13.972290,15.897436]},{\"element\":\"LJ\",\"location\":[15.380120,-21.452556,16.666667]},{\"element\":\"LJ\",\"location\":[14.401042,-12.239565,17.435897]},{\"element\":\"LJ\",\"location\":[21.146896,-18.255963,18.205128]},{\"element\":\"LJ\",\"location\":[12.578114,-18.316413,18.974359]},{\"element\":\"LJ\",\"location\":[18.348576,-13.054360,19.743590]},{\"element\":\"LJ\",\"location\":[17.634310,-19.672397,20.512821]},{\"element\":\"LJ\",\"location\":[15.014274,-15.659735,21.282051]},{\"element\":\"LJ\",\"location\":[18.601219,16.709353,-54.615385]},{\"element\":\"LJ\",\"location\":[14.322355,14.551259,-53.846154]},{\"element\":\"LJ\",\"location\":[17.022698,20.635397,-53.076923]},{\"element\":\"LJ\",\"location\":[19.376934,13.189257,-52.307692]},{\"element\":\"LJ\",\"location\":[11.993437,17.538011,-51.538462]},{\"element\":\"LJ\",\"location\":[20.846693,19.361044,-50.769231]},{\"element\":\"LJ\",\"location\":[15.380120,11.880777,-50.000000]},{\"element\":\"LJ\",\"location\":[14.401042,21.093769,-49.230769]},{\"element\":\"LJ\",\"location\":[21.146896,15.077371,-48.461538]},{\"element\":\"LJ\",\"location\":[12.578114,15.016921,-47.692308]},{\"element\":\"LJ\",\"location\":[18.348576,20.278974,-46.923077]},{\"element\":\"LJ\",\"location\":[17.634310,13.660936,-46.153846]},{\"element\":\"LJ\",\"location\":[15.014274,17.673598,-45.384615]},{\"element\":\"LJ\",\"location\":[18.601219,16.709353,-21.282051]},{\"element\":\"LJ\",\"location\":[14.322355,14.551259,-20.512821]},{\"element\":\"LJ\",\"location\":[17.022698,20.635397,-19.743590]},{\"element\":\"LJ\",\"location\":[19.376934,13.189257,-18.974359]},{\"element\":\"LJ\",\"location\":[11.993437,17.538011,-18.205128]},{\"element\":\"LJ\",\"location\":[20.846693,19.361044,-17.435897]},{\"element\":\"LJ\",\"location\":[15.380120,11.880777,-16.666667]},{\"element\":\"LJ\",\"location\":[14.401042,21.093769,-15.897436]},{\"element\":\"LJ\",\"location\":[21.146896,15.077371,-15.128205]},{\"element\":\"LJ\",\"location\":[12.578114,15.016921,-14.358974]},{\"element\":\"LJ\",\"location\":[18.348576,20.278974,-13.589744]},{\"element\":\"LJ\",\"location\":[17.634310,13.660936,-12.820513]},{\"element\":\"LJ\",\"location\":[15.014274,17.673598,-12.051282]},{\"element\":\"LJ\",\"location\":[18.601219,16.709353,12.051282]},{\"element\":\"LJ\",\"location\":[14.322355,14.551259,12.820513]},{\"element\":\"LJ\",\"location\":[17.022698,20.635397,13.589744]},{\"element\":\"LJ\",\"location\":[19.376934,13.189257,14.358974]},{\"element\":\"LJ\",\"location\":[11.993437,17.538011,15.128205]},{\"element\":\"LJ\",\"location\":[20.846693,19.361044,15.897436]},{\"element\":\"LJ\",\"location\":[15.380120,11.880777,16.666667]},{\"element\":\"LJ\",\"location\":[14.401042,21.093769,17.435897]},{\"element\":\"LJ\",\"location\":[21.146896,15.077371,18.205128]},{\"element\":\"LJ\",\"location\":[12.578114,15.016921,18.974359]},{\"element\":\"LJ\",\"location\":[18.348576,20.278974,19.743590]},{\"element\":\"LJ\",\"location\":[17.634310,13.660936,20.512821]},{\"element\":\"LJ\",\"location\":[15.014274,17.673598,21.282051]}],\"bonds\":[],\"name\":\"MonoLJ\"});\n",
       "\n",
       "               $d.resizable({\n",
       "                   aspectRatio: 400 / 300,\n",
       "                   resize: function (evt, ui) {\n",
       "                       $d.imolecule.renderer.setSize(ui.size.width,\n",
       "                                                     ui.size.height);\n",
       "                   }\n",
       "               });\n",
       "           });\n",
       "           </script>"
      ],
      "text/plain": [
       "<IPython.core.display.HTML object>"
      ]
     },
     "metadata": {},
     "output_type": "display_data"
    }
   ],
   "source": [
    "import mbuild as mb\n",
    "\n",
    "class SphereLJ(mb.Compound):\n",
    "    def __init__(self):\n",
    "        super(SphereLJ, self).__init__()\n",
    "        lj_proto = mb.Particle(name='LJ', pos=[0, 0, 0])\n",
    "        \n",
    "        pattern_sphere = mb.SpherePattern(13)\n",
    "        pattern_sphere.scale(0.5)\n",
    "        \n",
    "        for pos in pattern_sphere:\n",
    "            lj_particle = mb.clone(lj_proto)\n",
    "            mb.translate(lj_particle, pos)\n",
    "            self.add(lj_particle)\n",
    "class MonoLJ(mb.Compound):\n",
    "    def __init__(self):\n",
    "        super(MonoLJ, self).__init__()\n",
    "        sphere = SphereLJ();\n",
    "\n",
    "        pattern = mb.Grid3DPattern(3, 3, 3)\n",
    "        pattern.scale(10)\n",
    "\n",
    "        for pos in pattern:\n",
    "            lj_sphere = mb.clone(sphere)\n",
    "            mb.translate_to(lj_sphere, pos)\n",
    "            #shift the particle so the center of mass\n",
    "            #of the system is at the origin\n",
    "            mb.translate(lj_sphere, [-5,-5,-5])\n",
    "\n",
    "            self.add(lj_sphere)\n",
    "\n",
    "monoLJ = MonoLJ()\n",
    "colors = {'LJ': {'color': 0xbfbfbf, 'radius': 5}}\n",
    "monoLJ.visualize(element_properties=colors)"
   ]
  },
  {
   "cell_type": "markdown",
   "metadata": {},
   "source": [
    "Several functions exist for rotating compounds. For example, the spin command allows a compound to be rotated, in place, about a specific axis (i.e., it considers the origin for the rotation to lie at the compound's center of mass)."
   ]
  },
  {
   "cell_type": "code",
   "execution_count": 10,
   "metadata": {
    "collapsed": false
   },
   "outputs": [
    {
     "data": {
      "text/html": [
       "<div id=\"molecule_48d29a2b-737a-44e7-9309-c8ac7974ad9b\"></div>\n",
       "           <script type=\"text/javascript\">\n",
       "           require.config({baseUrl: '/',\n",
       "                           paths: {imolecule: ['nbextensions/imolecule.min', 'https://rawgit.com/patrickfuller/imolecule/master/imolecule/js/build/imolecule.min']}});\n",
       "           require(['imolecule'], function () {\n",
       "               var $d = $('#molecule_48d29a2b-737a-44e7-9309-c8ac7974ad9b');\n",
       "               $d.width(400); $d.height(300);\n",
       "               $d.imolecule = jQuery.extend({}, imolecule);\n",
       "               $d.imolecule.create($d, {drawingType: 'ball and stick',\n",
       "                                        cameraType: 'perspective',\n",
       "                                        shader: 'lambert',\n",
       "                                        showSave: false});\n",
       "               $d.imolecule.addElements({\n",
       "    \"LJ\": {\n",
       "        \"color\": 12566459,\n",
       "        \"radius\": 5\n",
       "    }\n",
       "});\n",
       "               $d.imolecule.draw({\"atoms\":[{\"element\":\"LJ\",\"location\":[-45.980544,-50.783409,-51.407213]},{\"element\":\"LJ\",\"location\":[-47.148971,-48.078214,-47.367819]},{\"element\":\"LJ\",\"location\":[-49.287329,-54.270985,-50.028086]},{\"element\":\"LJ\",\"location\":[-50.455756,-51.565790,-45.988692]},{\"element\":\"LJ\",\"location\":[-49.544244,-48.434210,-54.011308]},{\"element\":\"LJ\",\"location\":[-50.712671,-45.729015,-49.971914]},{\"element\":\"LJ\",\"location\":[-52.851029,-51.921786,-52.632181]},{\"element\":\"LJ\",\"location\":[-54.019456,-49.216591,-48.592787]},{\"element\":\"LJ\",\"location\":[-49.898403,-50.370006,-20.979760]},{\"element\":\"LJ\",\"location\":[-51.357608,-53.949972,-17.808867]},{\"element\":\"LJ\",\"location\":[-52.593193,-47.015710,-18.432839]},{\"element\":\"LJ\",\"location\":[-54.052398,-50.595676,-15.261946]},{\"element\":\"LJ\",\"location\":[-45.947602,-49.404324,-18.071387]},{\"element\":\"LJ\",\"location\":[-47.406807,-52.984290,-14.900494]},{\"element\":\"LJ\",\"location\":[-48.642392,-46.050028,-15.524467]},{\"element\":\"LJ\",\"location\":[-50.101597,-49.629994,-12.353573]},{\"element\":\"LJ\",\"location\":[-46.200971,-51.958925,17.359480]},{\"element\":\"LJ\",\"location\":[-47.832030,-47.890325,19.764921]},{\"element\":\"LJ\",\"location\":[-50.690642,-54.087971,17.916268]},{\"element\":\"LJ\",\"location\":[-52.321701,-50.019372,20.321708]},{\"element\":\"LJ\",\"location\":[-47.678299,-49.980628,13.011625]},{\"element\":\"LJ\",\"location\":[-49.309358,-45.912029,15.417066]},{\"element\":\"LJ\",\"location\":[-52.167970,-52.109675,13.568413]},{\"element\":\"LJ\",\"location\":[-53.799029,-48.041075,15.973853]},{\"element\":\"LJ\",\"location\":[-49.834290,-18.471976,-46.067647]},{\"element\":\"LJ\",\"location\":[-47.342330,-14.369671,-47.468084]},{\"element\":\"LJ\",\"location\":[-53.966678,-16.711553,-48.264071]},{\"element\":\"LJ\",\"location\":[-51.474718,-12.609247,-49.664508]},{\"element\":\"LJ\",\"location\":[-48.525282,-20.724086,-50.335492]},{\"element\":\"LJ\",\"location\":[-46.033322,-16.621780,-51.735929]},{\"element\":\"LJ\",\"location\":[-52.657670,-18.963663,-52.531916]},{\"element\":\"LJ\",\"location\":[-50.165710,-14.861357,-53.932353]},{\"element\":\"LJ\",\"location\":[-48.617355,-19.882848,-19.215092]},{\"element\":\"LJ\",\"location\":[-46.670831,-15.279809,-19.063176]},{\"element\":\"LJ\",\"location\":[-48.724879,-20.002309,-14.217676]},{\"element\":\"LJ\",\"location\":[-46.778356,-15.399271,-14.065760]},{\"element\":\"LJ\",\"location\":[-53.221644,-17.934063,-19.267573]},{\"element\":\"LJ\",\"location\":[-51.275121,-13.331024,-19.115657]},{\"element\":\"LJ\",\"location\":[-53.329169,-18.053525,-14.270157]},{\"element\":\"LJ\",\"location\":[-51.382645,-13.450486,-14.118241]},{\"element\":\"LJ\",\"location\":[-46.008441,-15.701277,18.039794]},{\"element\":\"LJ\",\"location\":[-47.116498,-19.111236,14.554914]},{\"element\":\"LJ\",\"location\":[-49.182363,-12.483967,15.900837]},{\"element\":\"LJ\",\"location\":[-50.290421,-15.893927,12.415957]},{\"element\":\"LJ\",\"location\":[-49.709579,-17.439407,20.917376]},{\"element\":\"LJ\",\"location\":[-50.817637,-20.849366,17.432496]},{\"element\":\"LJ\",\"location\":[-52.883502,-14.222097,18.778419]},{\"element\":\"LJ\",\"location\":[-53.991559,-17.632057,15.293540]},{\"element\":\"LJ\",\"location\":[-46.535524,18.297177,-47.977912]},{\"element\":\"LJ\",\"location\":[-49.630412,14.857337,-46.083403]},{\"element\":\"LJ\",\"location\":[-46.443621,15.822263,-52.321454]},{\"element\":\"LJ\",\"location\":[-49.538509,12.382423,-50.426945]},{\"element\":\"LJ\",\"location\":[-50.461491,20.950910,-49.573055]},{\"element\":\"LJ\",\"location\":[-53.556379,17.511070,-47.678546]},{\"element\":\"LJ\",\"location\":[-50.369588,18.475997,-53.916597]},{\"element\":\"LJ\",\"location\":[-53.464476,15.036156,-52.022088]},{\"element\":\"LJ\",\"location\":[-51.751432,20.620494,-16.889679]},{\"element\":\"LJ\",\"location\":[-53.606422,16.784886,-14.272978]},{\"element\":\"LJ\",\"location\":[-47.174386,19.583803,-15.164594]},{\"element\":\"LJ\",\"location\":[-49.029375,15.748195,-12.547893]},{\"element\":\"LJ\",\"location\":[-50.970625,17.585138,-20.785440]},{\"element\":\"LJ\",\"location\":[-52.825614,13.749531,-18.168739]},{\"element\":\"LJ\",\"location\":[-46.393578,16.548447,-19.060356]},{\"element\":\"LJ\",\"location\":[-48.248568,12.712839,-16.443654]},{\"element\":\"LJ\",\"location\":[-50.388976,18.868868,12.958701]},{\"element\":\"LJ\",\"location\":[-48.334316,20.632803,17.161903]},{\"element\":\"LJ\",\"location\":[-47.867949,14.587966,13.522885]},{\"element\":\"LJ\",\"location\":[-45.813289,16.351901,17.726086]},{\"element\":\"LJ\",\"location\":[-54.186711,16.981432,15.607247]},{\"element\":\"LJ\",\"location\":[-52.132051,18.745367,19.810448]},{\"element\":\"LJ\",\"location\":[-51.665684,12.700530,16.171430]},{\"element\":\"LJ\",\"location\":[-49.611024,14.464465,20.374632]},{\"element\":\"LJ\",\"location\":[-13.885834,-50.277885,-53.307529]},{\"element\":\"LJ\",\"location\":[-18.779805,-51.270638,-53.559512]},{\"element\":\"LJ\",\"location\":[-14.862388,-46.126089,-50.698137]},{\"element\":\"LJ\",\"location\":[-19.756359,-47.118842,-50.950119]},{\"element\":\"LJ\",\"location\":[-13.576974,-52.881158,-49.049881]},{\"element\":\"LJ\",\"location\":[-18.470945,-53.873911,-49.301863]},{\"element\":\"LJ\",\"location\":[-14.553529,-48.729362,-46.440488]},{\"element\":\"LJ\",\"location\":[-19.447499,-49.722115,-46.692471]},{\"element\":\"LJ\",\"location\":[-20.042601,-49.201976,-19.258235]},{\"element\":\"LJ\",\"location\":[-15.328968,-47.785703,-20.139051]},{\"element\":\"LJ\",\"location\":[-18.429992,-53.745992,-17.934826]},{\"element\":\"LJ\",\"location\":[-13.716359,-52.329719,-18.815642]},{\"element\":\"LJ\",\"location\":[-19.616975,-47.670281,-14.517691]},{\"element\":\"LJ\",\"location\":[-14.903342,-46.254008,-15.398507]},{\"element\":\"LJ\",\"location\":[-18.004365,-52.214297,-13.194283]},{\"element\":\"LJ\",\"location\":[-13.290733,-50.798024,-14.075098]},{\"element\":\"LJ\",\"location\":[-15.653623,-51.610016,12.776732]},{\"element\":\"LJ\",\"location\":[-12.471345,-51.069661,16.595256]},{\"element\":\"LJ\",\"location\":[-19.066993,-53.519614,15.891589]},{\"element\":\"LJ\",\"location\":[-15.884716,-52.979259,19.710113]},{\"element\":\"LJ\",\"location\":[-17.448618,-47.020741,13.623220]},{\"element\":\"LJ\",\"location\":[-14.266340,-46.480386,17.441744]},{\"element\":\"LJ\",\"location\":[-20.861989,-48.930339,16.738077]},{\"element\":\"LJ\",\"location\":[-17.679711,-48.389984,20.556601]},{\"element\":\"LJ\",\"location\":[-13.252401,-17.492923,-47.468185]},{\"element\":\"LJ\",\"location\":[-17.948011,-16.866313,-45.868620]},{\"element\":\"LJ\",\"location\":[-14.900483,-20.449923,-51.147855]},{\"element\":\"LJ\",\"location\":[-19.596094,-19.823313,-49.548291]},{\"element\":\"LJ\",\"location\":[-13.737240,-13.510020,-50.451709]},{\"element\":\"LJ\",\"location\":[-18.432850,-12.883411,-48.852145]},{\"element\":\"LJ\",\"location\":[-15.385322,-16.467020,-54.131380]},{\"element\":\"LJ\",\"location\":[-20.080933,-15.840411,-52.531815]},{\"element\":\"LJ\",\"location\":[-13.964458,-17.019537,-20.031715]},{\"element\":\"LJ\",\"location\":[-16.609372,-20.770269,-18.047669]},{\"element\":\"LJ\",\"location\":[-18.008511,-14.083509,-19.872404]},{\"element\":\"LJ\",\"location\":[-20.653425,-17.834241,-17.888358]},{\"element\":\"LJ\",\"location\":[-12.679909,-15.499092,-15.444975]},{\"element\":\"LJ\",\"location\":[-15.324823,-19.249824,-13.460929]},{\"element\":\"LJ\",\"location\":[-16.723962,-12.563065,-15.285664]},{\"element\":\"LJ\",\"location\":[-19.368876,-16.313797,-13.301618]},{\"element\":\"LJ\",\"location\":[-12.500114,-16.112172,17.707039]},{\"element\":\"LJ\",\"location\":[-14.463295,-20.287196,15.779580]},{\"element\":\"LJ\",\"location\":[-15.030113,-13.381471,14.369020]},{\"element\":\"LJ\",\"location\":[-16.993294,-17.556494,12.441561]},{\"element\":\"LJ\",\"location\":[-16.340039,-15.776839,20.891773]},{\"element\":\"LJ\",\"location\":[-18.303220,-19.951862,18.964314]},{\"element\":\"LJ\",\"location\":[-18.870038,-13.046137,17.553753]},{\"element\":\"LJ\",\"location\":[-20.833219,-17.221161,15.626294]},{\"element\":\"LJ\",\"location\":[-12.383452,16.562093,-50.627008]},{\"element\":\"LJ\",\"location\":[-14.953054,20.487913,-48.899268]},{\"element\":\"LJ\",\"location\":[-14.925697,13.545933,-47.554587]},{\"element\":\"LJ\",\"location\":[-17.495298,17.471752,-45.826847]},{\"element\":\"LJ\",\"location\":[-15.838035,15.861581,-54.173153]},{\"element\":\"LJ\",\"location\":[-18.407636,19.787401,-52.445413]},{\"element\":\"LJ\",\"location\":[-18.380280,12.845421,-51.100732]},{\"element\":\"LJ\",\"location\":[-20.949881,16.771241,-49.372992]},{\"element\":\"LJ\",\"location\":[-18.487450,14.515802,-13.379034]},{\"element\":\"LJ\",\"location\":[-13.916568,16.541646,-13.324313]},{\"element\":\"LJ\",\"location\":[-20.307693,18.679148,-15.465482]},{\"element\":\"LJ\",\"location\":[-15.736811,20.704992,-15.410761]},{\"element\":\"LJ\",\"location\":[-17.596522,12.628342,-17.922572]},{\"element\":\"LJ\",\"location\":[-13.025640,14.654185,-17.867852]},{\"element\":\"LJ\",\"location\":[-19.416765,16.791688,-20.009020]},{\"element\":\"LJ\",\"location\":[-14.845883,18.817531,-19.954299]},{\"element\":\"LJ\",\"location\":[-12.658781,16.836833,15.036360]},{\"element\":\"LJ\",\"location\":[-16.647849,14.933835,12.698425]},{\"element\":\"LJ\",\"location\":[-15.372195,20.792881,16.445995]},{\"element\":\"LJ\",\"location\":[-19.361262,18.889883,14.108061]},{\"element\":\"LJ\",\"location\":[-13.972071,14.443451,19.225273]},{\"element\":\"LJ\",\"location\":[-17.961138,12.540452,16.887338]},{\"element\":\"LJ\",\"location\":[-16.685485,18.399499,20.634908]},{\"element\":\"LJ\",\"location\":[-20.674552,16.496500,18.296973]},{\"element\":\"LJ\",\"location\":[16.402392,-46.296897,-47.771282]},{\"element\":\"LJ\",\"location\":[16.831811,-50.853476,-45.758031]},{\"element\":\"LJ\",\"location\":[19.974079,-47.423889,-51.083825]},{\"element\":\"LJ\",\"location\":[20.403498,-51.980468,-49.070573]},{\"element\":\"LJ\",\"location\":[12.929835,-48.019532,-50.929427]},{\"element\":\"LJ\",\"location\":[13.359255,-52.576111,-48.916175]},{\"element\":\"LJ\",\"location\":[16.501522,-49.146524,-54.241969]},{\"element\":\"LJ\",\"location\":[16.930942,-53.703103,-52.228718]},{\"element\":\"LJ\",\"location\":[13.270513,-50.326174,-19.333078]},{\"element\":\"LJ\",\"location\":[13.319801,-47.803294,-15.016523]},{\"element\":\"LJ\",\"location\":[17.705840,-48.355788,-20.535347]},{\"element\":\"LJ\",\"location\":[17.755129,-45.832908,-16.218792]},{\"element\":\"LJ\",\"location\":[15.578205,-54.167092,-17.114541]},{\"element\":\"LJ\",\"location\":[15.627493,-51.644212,-12.797987]},{\"element\":\"LJ\",\"location\":[20.013532,-52.196706,-18.316810]},{\"element\":\"LJ\",\"location\":[20.062821,-49.673826,-14.000255]},{\"element\":\"LJ\",\"location\":[20.322432,-48.189356,15.215133]},{\"element\":\"LJ\",\"location\":[16.295095,-45.688025,16.803815]},{\"element\":\"LJ\",\"location\":[19.981795,-51.243072,19.159596]},{\"element\":\"LJ\",\"location\":[15.954459,-48.741741,20.748277]},{\"element\":\"LJ\",\"location\":[17.378874,-51.258259,12.585056]},{\"element\":\"LJ\",\"location\":[13.351538,-48.756928,14.173738]},{\"element\":\"LJ\",\"location\":[17.038238,-54.311975,16.529519]},{\"element\":\"LJ\",\"location\":[13.010902,-51.810644,18.118200]},{\"element\":\"LJ\",\"location\":[18.850504,-17.626421,-46.386175]},{\"element\":\"LJ\",\"location\":[19.772207,-13.716938,-49.363826]},{\"element\":\"LJ\",\"location\":[13.951740,-16.654692,-46.626718]},{\"element\":\"LJ\",\"location\":[14.873444,-12.745209,-49.604369]},{\"element\":\"LJ\",\"location\":[18.459889,-20.588124,-50.395631]},{\"element\":\"LJ\",\"location\":[19.381593,-16.678641,-53.373282]},{\"element\":\"LJ\",\"location\":[13.561126,-19.616395,-50.636174]},{\"element\":\"LJ\",\"location\":[14.482830,-15.706912,-53.613825]},{\"element\":\"LJ\",\"location\":[15.619533,-13.676422,-19.618267]},{\"element\":\"LJ\",\"location\":[20.225286,-15.447222,-18.811237]},{\"element\":\"LJ\",\"location\":[13.801094,-18.331122,-19.453795]},{\"element\":\"LJ\",\"location\":[18.406848,-20.101922,-18.646765]},{\"element\":\"LJ\",\"location\":[14.926485,-13.231411,-14.686569]},{\"element\":\"LJ\",\"location\":[19.532239,-15.002212,-13.879538]},{\"element\":\"LJ\",\"location\":[13.108047,-17.886111,-14.522096]},{\"element\":\"LJ\",\"location\":[17.713801,-19.656912,-13.715066]},{\"element\":\"LJ\",\"location\":[13.987884,-16.365409,20.055378]},{\"element\":\"LJ\",\"location\":[15.006660,-12.671285,16.843597]},{\"element\":\"LJ\",\"location\":[13.460100,-19.543994,16.232024]},{\"element\":\"LJ\",\"location\":[14.478876,-15.849870,13.020242]},{\"element\":\"LJ\",\"location\":[18.854458,-17.483463,20.313092]},{\"element\":\"LJ\",\"location\":[19.873234,-13.789339,17.101310]},{\"element\":\"LJ\",\"location\":[18.326673,-20.662048,16.489737]},{\"element\":\"LJ\",\"location\":[19.345449,-16.967924,13.277955]},{\"element\":\"LJ\",\"location\":[13.440909,17.107336,-47.145128]},{\"element\":\"LJ\",\"location\":[16.457522,13.135858,-47.502071]},{\"element\":\"LJ\",\"location\":[17.394513,20.144532,-47.525189]},{\"element\":\"LJ\",\"location\":[20.411127,16.173055,-47.882132]},{\"element\":\"LJ\",\"location\":[12.922206,17.160279,-52.117868]},{\"element\":\"LJ\",\"location\":[15.938820,13.188801,-52.474811]},{\"element\":\"LJ\",\"location\":[16.875811,20.197475,-52.497929]},{\"element\":\"LJ\",\"location\":[19.892425,16.225998,-52.854872]},{\"element\":\"LJ\",\"location\":[18.462489,14.793179,-20.132942]},{\"element\":\"LJ\",\"location\":[20.101457,18.976308,-17.938582]},{\"element\":\"LJ\",\"location\":[17.924937,12.650743,-15.647297]},{\"element\":\"LJ\",\"location\":[19.563905,16.833872,-13.452938]},{\"element\":\"LJ\",\"location\":[13.769428,16.499461,-19.880395]},{\"element\":\"LJ\",\"location\":[15.408396,20.682590,-17.686036]},{\"element\":\"LJ\",\"location\":[13.231876,14.357025,-15.394751]},{\"element\":\"LJ\",\"location\":[14.870844,18.540155,-13.200391]},{\"element\":\"LJ\",\"location\":[17.413924,13.699383,19.730461]},{\"element\":\"LJ\",\"location\":[13.678637,17.022807,19.780321]},{\"element\":\"LJ\",\"location\":[16.468263,12.708673,14.921696]},{\"element\":\"LJ\",\"location\":[12.732976,16.032097,14.971556]},{\"element\":\"LJ\",\"location\":[20.600357,17.301236,18.361777]},{\"element\":\"LJ\",\"location\":[16.865071,20.624660,18.411637]},{\"element\":\"LJ\",\"location\":[19.654696,16.310526,13.553012]},{\"element\":\"LJ\",\"location\":[15.919409,19.633950,13.602872]}],\"bonds\":[],\"name\":\"MonoLJ\"});\n",
       "\n",
       "               $d.resizable({\n",
       "                   aspectRatio: 400 / 300,\n",
       "                   resize: function (evt, ui) {\n",
       "                       $d.imolecule.renderer.setSize(ui.size.width,\n",
       "                                                     ui.size.height);\n",
       "                   }\n",
       "               });\n",
       "           });\n",
       "           </script>"
      ],
      "text/plain": [
       "<IPython.core.display.HTML object>"
      ]
     },
     "metadata": {},
     "output_type": "display_data"
    }
   ],
   "source": [
    "import mbuild as mb\n",
    "import random\n",
    "from numpy import pi\n",
    "\n",
    "\n",
    "class CubeLJ(mb.Compound):\n",
    "    def __init__(self):\n",
    "        super(CubeLJ, self).__init__()\n",
    "        lj_proto = mb.Particle(name='LJ', pos=[0, 0, 0])\n",
    "        \n",
    "        pattern = mb.Grid3DPattern(2, 2, 2)\n",
    "        pattern.scale(1)\n",
    "\n",
    "        for pos in pattern:\n",
    "            lj_particle = mb.clone(lj_proto)\n",
    "            mb.translate(lj_particle, pos)\n",
    "            self.add(lj_particle)\n",
    "            \n",
    "class MonoLJ(mb.Compound):\n",
    "    def __init__(self):\n",
    "        super(MonoLJ, self).__init__()\n",
    "        cube_proto = CubeLJ();\n",
    "\n",
    "        pattern = mb.Grid3DPattern(3, 3, 3)\n",
    "        pattern.scale(10)\n",
    "        rnd = random.Random()\n",
    "        rnd.seed(123)\n",
    "        \n",
    "        for pos in pattern:\n",
    "            lj_cube = mb.clone(cube_proto)\n",
    "            mb.translate_to(lj_cube, pos)\n",
    "            #shift the particle so the center of mass\n",
    "            #of the system is at the origin\n",
    "            mb.translate(lj_cube, [-5,-5,-5])\n",
    "            mb.spin_x(lj_cube, rnd.uniform(0, 2 * pi))\n",
    "            mb.spin_y(lj_cube, rnd.uniform(0, 2 * pi))\n",
    "            mb.spin_z(lj_cube, rnd.uniform(0, 2 * pi))\n",
    "\n",
    "            self.add(lj_cube)\n",
    "\n",
    "monoLJ = MonoLJ()\n",
    "colors = {'LJ': {'color': 0xbfbfbb, 'radius': 5}}\n",
    "monoLJ.visualize(element_properties=colors)"
   ]
  },
  {
   "cell_type": "markdown",
   "metadata": {},
   "source": [
    "Configurations can be dumped to file using the save command; this takes advantage of MDTraj and supports a range of file formats (see http://MDTraj.org). "
   ]
  },
  {
   "cell_type": "code",
   "execution_count": 11,
   "metadata": {
    "collapsed": true
   },
   "outputs": [],
   "source": [
    "#save as xyz file\n",
    "monoLJ.save('output.xyz')\n",
    "#save as mol2\n",
    "monoLJ.save('output.mol2')"
   ]
  }
 ],
 "metadata": {
  "kernelspec": {
   "display_name": "Python 2",
   "language": "python",
   "name": "python2"
  },
  "language_info": {
   "codemirror_mode": {
    "name": "ipython",
    "version": 2
   },
   "file_extension": ".py",
   "mimetype": "text/x-python",
   "name": "python",
   "nbconvert_exporter": "python",
   "pygments_lexer": "ipython2",
   "version": "2.7.10"
  }
 },
 "nbformat": 4,
 "nbformat_minor": 0
}
